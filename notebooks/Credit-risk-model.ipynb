{
  "cells": [
    {
      "cell_type": "markdown",
      "id": "5a850c68-db92-44f2-964b-09bc8f94203c",
      "metadata": {},
      "source": [
        "## IBM-Azure Trusted AI usecase\n",
        "**Build & Deploy** Machine Learning model in **Azure Machine Learning Studio**\n",
        "\n",
        "**Monitor**  the model in **IBM Watson OpenScale**"
      ]
    },
    {
      "cell_type": "markdown",
      "id": "5414ef4c-9b75-4dfa-9634-453f64301e5a",
      "metadata": {},
      "source": [
        "## Install Libraries"
      ]
    },
    {
      "cell_type": "code",
      "execution_count": null,
      "id": "1a98686e",
      "metadata": {},
      "outputs": [],
      "source": [
        "!pip install ibm_cloud_sdk_core --no-cache --user | tail -n 1"
      ]
    },
    {
      "cell_type": "code",
      "execution_count": null,
      "id": "ad9b1625-08ad-4135-a8f0-26ac01305eb9",
      "metadata": {},
      "outputs": [],
      "source": [
        "!pip install --upgrade ibm-watson-openscale --no-cache --user | tail -n 1"
      ]
    },
    {
      "cell_type": "code",
      "execution_count": null,
      "id": "f439595b-10f2-4319-a405-cb1af0e71de8",
      "metadata": {},
      "outputs": [],
      "source": [
        "!pip install ibm-cos-sdk --no-cache --user | tail -n 1\n",
        "!pip install botocore==1.23.19 --no-cache --user | tail -n 1"
      ]
    },
    {
      "cell_type": "markdown",
      "id": "f98e60ba-6276-4726-943f-8f9adadf5d37",
      "metadata": {},
      "source": [
        ">Action: **Restart Kernel**"
      ]
    },
    {
      "cell_type": "markdown",
      "id": "ce0cced5-c185-45c5-8d74-60e860f0c7a6",
      "metadata": {},
      "source": [
        "## Import libraries"
      ]
    },
    {
      "cell_type": "code",
      "execution_count": 1,
      "id": "704fc1ee-6d45-4a72-af5c-78b7a6939ef6",
      "metadata": {
        "gather": {
          "logged": 1667803827040
        }
      },
      "outputs": [],
      "source": [
        "import warnings\n",
        "\n",
        "warnings.filterwarnings('ignore')"
      ]
    },
    {
      "cell_type": "code",
      "execution_count": 2,
      "id": "d8dd0282-538c-4579-9ff3-7fc94a36aa11",
      "metadata": {
        "gather": {
          "logged": 1667803833774
        }
      },
      "outputs": [],
      "source": [
        "import pandas as pd\n",
        "import numpy as np"
      ]
    },
    {
      "cell_type": "markdown",
      "id": "c481eee2-7f66-42c5-9e5a-dbf3e2299edb",
      "metadata": {
        "nteract": {
          "transient": {
            "deleting": false
          }
        }
      },
      "source": [
        "## Configure IBM Watson OpenScale and Cloud Object Storage"
      ]
    },
    {
      "attachments": {},
      "cell_type": "markdown",
      "id": "ba56f747-84a6-4bf5-b3eb-495c2fe1a6de",
      "metadata": {
        "nteract": {
          "transient": {
            "deleting": false
          }
        }
      },
      "source": [
        ">**NOTE:** If you are using Watson OpenScale on IBM Cloud Pak for Data then set the `cloudWOS` variable to `False` in the below cell and uncomment `CLOUD_PAK_FOR_DATA_CREDENTIALS` variable and set the username, password and cloud pak for data url."
      ]
    },
    {
      "cell_type": "code",
      "execution_count": null,
      "id": "5f652191-a935-4889-9757-70f480e4c0a7",
      "metadata": {
        "jupyter": {
          "outputs_hidden": false,
          "source_hidden": false
        },
        "nteract": {
          "transient": {
            "deleting": false
          }
        }
      },
      "outputs": [],
      "source": [
        "cloudWOS = True\n",
        "CLOUD_API_KEY = '***'"
      ]
    },
    {
      "cell_type": "code",
      "execution_count": null,
      "id": "57c27407-bf2a-4343-99cf-072e0bcbe46c",
      "metadata": {
        "jupyter": {
          "outputs_hidden": false,
          "source_hidden": false
        },
        "nteract": {
          "transient": {
            "deleting": false
          }
        }
      },
      "outputs": [],
      "source": [
        "# CLOUD_PAK_FOR_DATA_CREDENTIALS = {\n",
        "#     \"username\" : \"***\", \n",
        "#     \"password\": \"***\", \n",
        "#     \"url\": \"***\" # eg https://cpd-zen.apps.efs-cluster-d05.ibmworkshops.com\n",
        "# }"
      ]
    },
    {
      "cell_type": "markdown",
      "id": "492bd16e-6f78-4b68-b0f0-f03f60508894",
      "metadata": {
        "nteract": {
          "transient": {
            "deleting": false
          }
        }
      },
      "source": [
        ">**NOTE:** If you want to use any Postgres DB of your choice other than the internal Postgres to store OpenScale Metadata then comment the first line and uncomment the second line from the below cell."
      ]
    },
    {
      "cell_type": "code",
      "execution_count": 4,
      "id": "6367f67f-8a5c-4e9e-9f95-fc1a8ef94eea",
      "metadata": {
        "gather": {
          "logged": 1667803835968
        },
        "jupyter": {
          "outputs_hidden": false,
          "source_hidden": false
        },
        "nteract": {
          "transient": {
            "deleting": false
          }
        }
      },
      "outputs": [],
      "source": [
        "DB_CREDENTIALS=None\n",
        "#DB_CREDENTIALS= {\"hostname\":\"\",\"username\":\"\",\"password\":\"\",\"database\":\"\",\"port\":\"\",\"ssl\":True,\"sslmode\":\"\",\"certificate_base64\":\"\"}"
      ]
    },
    {
      "cell_type": "code",
      "execution_count": 5,
      "id": "159df6cd-feac-4b17-9869-e673ee650348",
      "metadata": {
        "gather": {
          "logged": 1667803836490
        },
        "jupyter": {
          "outputs_hidden": false,
          "source_hidden": false
        },
        "nteract": {
          "transient": {
            "deleting": false
          }
        }
      },
      "outputs": [],
      "source": [
        "SCHEMA_NAME = 'azure_dm'"
      ]
    },
    {
      "cell_type": "code",
      "execution_count": 6,
      "id": "bdc0d031-521d-4e1c-a070-b239c24cea4c",
      "metadata": {
        "gather": {
          "logged": 1667803837112
        },
        "jupyter": {
          "outputs_hidden": false,
          "source_hidden": false
        },
        "nteract": {
          "transient": {
            "deleting": false
          }
        }
      },
      "outputs": [],
      "source": [
        "IAM_URL=\"https://iam.ng.bluemix.net/oidc/token\""
      ]
    },
    {
      "cell_type": "code",
      "execution_count": 7,
      "id": "0dc8649d-38e3-4145-a1de-dc412d296d63",
      "metadata": {
        "gather": {
          "logged": 1667803837532
        },
        "jupyter": {
          "outputs_hidden": false,
          "source_hidden": false
        },
        "nteract": {
          "transient": {
            "deleting": false
          }
        }
      },
      "outputs": [],
      "source": [
        "COS_API_KEY_ID = \"***\"\n",
        "COS_RESOURCE_CRN = \"***\" # eg \"crn:v1:bluemix:public:cloud-object-storage:global:a/3bf0d9003abfb5d29761c3e97696b71c:d6f04d83-6c4f-4a62-a165-696756d63903::\"\n",
        "COS_ENDPOINT = \"***\" # Current list avaiable at https://control.cloud-object-storage.cloud.ibm.com/v2/endpoints"
      ]
    },
    {
      "cell_type": "code",
      "execution_count": 8,
      "id": "01ecfbf6-7cfb-4f11-bccd-b039b59ad651",
      "metadata": {
        "gather": {
          "logged": 1667803837876
        },
        "jupyter": {
          "outputs_hidden": false,
          "source_hidden": false
        },
        "nteract": {
          "transient": {
            "deleting": false
          }
        }
      },
      "outputs": [],
      "source": [
        "BUCKET_NAME = \"***\"\n",
        "training_data_file_name=\"german_credit_data_biased_training.csv\""
      ]
    },
    {
      "attachments": {},
      "cell_type": "markdown",
      "id": "658d8fc0-37e0-4700-88c0-6b54d93ea5a4",
      "metadata": {
        "nteract": {
          "transient": {
            "deleting": false
          }
        }
      },
      "source": [
        "## Azure Credentials are taken from the [azuremlcredentials.json](azuremlcredentials.json) file in the below cell"
      ]
    },
    {
      "cell_type": "code",
      "execution_count": 9,
      "id": "3ff8b9cf-5cb1-49a0-9b5f-fb3ec24adee8",
      "metadata": {
        "gather": {
          "logged": 1667803838208
        },
        "jupyter": {
          "outputs_hidden": false,
          "source_hidden": false
        },
        "nteract": {
          "transient": {
            "deleting": false
          }
        }
      },
      "outputs": [],
      "source": [
        "import json\n",
        "with open(\"azuremlcredentials.json\", \"r\") as cred:\n",
        "    creds = json.load(cred)\n",
        "\n",
        "AZURE_ENGINE_CREDENTIALS =  {\n",
        "    \"client_id\": creds.get('appId'),\n",
        "    \"client_secret\": creds.get('password'),\n",
        "    \"tenant\": creds.get('tenant'),\n",
        "    \"subscription_id\": creds.get('subscriptionid')\n",
        "}\n",
        "\n",
        "print(AZURE_ENGINE_CREDENTIALS)"
      ]
    },
    {
      "cell_type": "markdown",
      "id": "6d5aab39-9ea1-41f1-92f5-45cbe3021c7a",
      "metadata": {},
      "source": [
        "## Download the Dataset"
      ]
    },
    {
      "cell_type": "code",
      "execution_count": 10,
      "id": "3a7120ff-12c2-469c-8b28-9fce557a66db",
      "metadata": {
        "gather": {
          "logged": 1667803839413
        }
      },
      "outputs": [
        {
          "name": "stdout",
          "output_type": "stream",
          "text": [
            "-rwxrwxrwx 1 root root 674K Nov  7 06:50 german_credit_data_biased_training.csv\r\n"
          ]
        }
      ],
      "source": [
        "from IPython.utils import io\n",
        "\n",
        "with io.capture_output() as captured:\n",
        "    !wget https://raw.githubusercontent.com/IBM/watson-openscale-samples/main/IBM%20Cloud/WML/assets/data/credit_risk/german_credit_data_biased_training.csv -O german_credit_data_biased_training.csv\n",
        "!ls -lh german_credit_data_biased_training.csv"
      ]
    },
    {
      "cell_type": "code",
      "execution_count": 11,
      "id": "df9feb02-683c-4ab2-a99a-a9d067430f4e",
      "metadata": {
        "gather": {
          "logged": 1667803839763
        }
      },
      "outputs": [
        {
          "data": {
            "text/html": [
              "<div>\n",
              "<style scoped>\n",
              "    .dataframe tbody tr th:only-of-type {\n",
              "        vertical-align: middle;\n",
              "    }\n",
              "\n",
              "    .dataframe tbody tr th {\n",
              "        vertical-align: top;\n",
              "    }\n",
              "\n",
              "    .dataframe thead th {\n",
              "        text-align: right;\n",
              "    }\n",
              "</style>\n",
              "<table border=\"1\" class=\"dataframe\">\n",
              "  <thead>\n",
              "    <tr style=\"text-align: right;\">\n",
              "      <th></th>\n",
              "      <th>CheckingStatus</th>\n",
              "      <th>LoanDuration</th>\n",
              "      <th>CreditHistory</th>\n",
              "      <th>LoanPurpose</th>\n",
              "      <th>LoanAmount</th>\n",
              "      <th>ExistingSavings</th>\n",
              "      <th>EmploymentDuration</th>\n",
              "      <th>InstallmentPercent</th>\n",
              "      <th>Sex</th>\n",
              "      <th>OthersOnLoan</th>\n",
              "      <th>...</th>\n",
              "      <th>OwnsProperty</th>\n",
              "      <th>Age</th>\n",
              "      <th>InstallmentPlans</th>\n",
              "      <th>Housing</th>\n",
              "      <th>ExistingCreditsCount</th>\n",
              "      <th>Job</th>\n",
              "      <th>Dependents</th>\n",
              "      <th>Telephone</th>\n",
              "      <th>ForeignWorker</th>\n",
              "      <th>Risk</th>\n",
              "    </tr>\n",
              "  </thead>\n",
              "  <tbody>\n",
              "    <tr>\n",
              "      <th>0</th>\n",
              "      <td>0_to_200</td>\n",
              "      <td>31</td>\n",
              "      <td>credits_paid_to_date</td>\n",
              "      <td>other</td>\n",
              "      <td>1889</td>\n",
              "      <td>100_to_500</td>\n",
              "      <td>less_1</td>\n",
              "      <td>3</td>\n",
              "      <td>female</td>\n",
              "      <td>none</td>\n",
              "      <td>...</td>\n",
              "      <td>savings_insurance</td>\n",
              "      <td>32</td>\n",
              "      <td>none</td>\n",
              "      <td>own</td>\n",
              "      <td>1</td>\n",
              "      <td>skilled</td>\n",
              "      <td>1</td>\n",
              "      <td>none</td>\n",
              "      <td>yes</td>\n",
              "      <td>No Risk</td>\n",
              "    </tr>\n",
              "    <tr>\n",
              "      <th>1</th>\n",
              "      <td>less_0</td>\n",
              "      <td>18</td>\n",
              "      <td>credits_paid_to_date</td>\n",
              "      <td>car_new</td>\n",
              "      <td>462</td>\n",
              "      <td>less_100</td>\n",
              "      <td>1_to_4</td>\n",
              "      <td>2</td>\n",
              "      <td>female</td>\n",
              "      <td>none</td>\n",
              "      <td>...</td>\n",
              "      <td>savings_insurance</td>\n",
              "      <td>37</td>\n",
              "      <td>stores</td>\n",
              "      <td>own</td>\n",
              "      <td>2</td>\n",
              "      <td>skilled</td>\n",
              "      <td>1</td>\n",
              "      <td>none</td>\n",
              "      <td>yes</td>\n",
              "      <td>No Risk</td>\n",
              "    </tr>\n",
              "    <tr>\n",
              "      <th>2</th>\n",
              "      <td>less_0</td>\n",
              "      <td>15</td>\n",
              "      <td>prior_payments_delayed</td>\n",
              "      <td>furniture</td>\n",
              "      <td>250</td>\n",
              "      <td>less_100</td>\n",
              "      <td>1_to_4</td>\n",
              "      <td>2</td>\n",
              "      <td>male</td>\n",
              "      <td>none</td>\n",
              "      <td>...</td>\n",
              "      <td>real_estate</td>\n",
              "      <td>28</td>\n",
              "      <td>none</td>\n",
              "      <td>own</td>\n",
              "      <td>2</td>\n",
              "      <td>skilled</td>\n",
              "      <td>1</td>\n",
              "      <td>yes</td>\n",
              "      <td>no</td>\n",
              "      <td>No Risk</td>\n",
              "    </tr>\n",
              "    <tr>\n",
              "      <th>3</th>\n",
              "      <td>0_to_200</td>\n",
              "      <td>28</td>\n",
              "      <td>credits_paid_to_date</td>\n",
              "      <td>retraining</td>\n",
              "      <td>3693</td>\n",
              "      <td>less_100</td>\n",
              "      <td>greater_7</td>\n",
              "      <td>3</td>\n",
              "      <td>male</td>\n",
              "      <td>none</td>\n",
              "      <td>...</td>\n",
              "      <td>savings_insurance</td>\n",
              "      <td>32</td>\n",
              "      <td>none</td>\n",
              "      <td>own</td>\n",
              "      <td>1</td>\n",
              "      <td>skilled</td>\n",
              "      <td>1</td>\n",
              "      <td>none</td>\n",
              "      <td>yes</td>\n",
              "      <td>No Risk</td>\n",
              "    </tr>\n",
              "    <tr>\n",
              "      <th>4</th>\n",
              "      <td>no_checking</td>\n",
              "      <td>28</td>\n",
              "      <td>prior_payments_delayed</td>\n",
              "      <td>education</td>\n",
              "      <td>6235</td>\n",
              "      <td>500_to_1000</td>\n",
              "      <td>greater_7</td>\n",
              "      <td>3</td>\n",
              "      <td>male</td>\n",
              "      <td>none</td>\n",
              "      <td>...</td>\n",
              "      <td>unknown</td>\n",
              "      <td>57</td>\n",
              "      <td>none</td>\n",
              "      <td>own</td>\n",
              "      <td>2</td>\n",
              "      <td>skilled</td>\n",
              "      <td>1</td>\n",
              "      <td>none</td>\n",
              "      <td>yes</td>\n",
              "      <td>Risk</td>\n",
              "    </tr>\n",
              "  </tbody>\n",
              "</table>\n",
              "<p>5 rows × 21 columns</p>\n",
              "</div>"
            ],
            "text/plain": [
              "  CheckingStatus  LoanDuration           CreditHistory LoanPurpose  \\\n",
              "0       0_to_200            31    credits_paid_to_date       other   \n",
              "1         less_0            18    credits_paid_to_date     car_new   \n",
              "2         less_0            15  prior_payments_delayed   furniture   \n",
              "3       0_to_200            28    credits_paid_to_date  retraining   \n",
              "4    no_checking            28  prior_payments_delayed   education   \n",
              "\n",
              "   LoanAmount ExistingSavings EmploymentDuration  InstallmentPercent     Sex  \\\n",
              "0        1889      100_to_500             less_1                   3  female   \n",
              "1         462        less_100             1_to_4                   2  female   \n",
              "2         250        less_100             1_to_4                   2    male   \n",
              "3        3693        less_100          greater_7                   3    male   \n",
              "4        6235     500_to_1000          greater_7                   3    male   \n",
              "\n",
              "  OthersOnLoan  ...       OwnsProperty Age  InstallmentPlans Housing  \\\n",
              "0         none  ...  savings_insurance  32              none     own   \n",
              "1         none  ...  savings_insurance  37            stores     own   \n",
              "2         none  ...        real_estate  28              none     own   \n",
              "3         none  ...  savings_insurance  32              none     own   \n",
              "4         none  ...            unknown  57              none     own   \n",
              "\n",
              "  ExistingCreditsCount      Job Dependents  Telephone ForeignWorker     Risk  \n",
              "0                    1  skilled          1       none           yes  No Risk  \n",
              "1                    2  skilled          1       none           yes  No Risk  \n",
              "2                    2  skilled          1        yes            no  No Risk  \n",
              "3                    1  skilled          1       none           yes  No Risk  \n",
              "4                    2  skilled          1       none           yes     Risk  \n",
              "\n",
              "[5 rows x 21 columns]"
            ]
          },
          "execution_count": 11,
          "metadata": {},
          "output_type": "execute_result"
        }
      ],
      "source": [
        "data = pd.read_csv('german_credit_data_biased_training.csv')\n",
        "data.head()"
      ]
    },
    {
      "cell_type": "markdown",
      "id": "7993d96f-9a2f-451c-99c0-a1f560d3e071",
      "metadata": {
        "nteract": {
          "transient": {
            "deleting": false
          }
        }
      },
      "source": [
        "## Save training data to IBM Cloud Object Storage"
      ]
    },
    {
      "cell_type": "code",
      "execution_count": 12,
      "id": "87cf5ee3-5e04-4e40-bc24-0178f9e91f60",
      "metadata": {
        "gather": {
          "logged": 1667803843597
        },
        "jupyter": {
          "outputs_hidden": false,
          "source_hidden": false
        },
        "nteract": {
          "transient": {
            "deleting": false
          }
        }
      },
      "outputs": [],
      "source": [
        "import ibm_boto3\n",
        "from ibm_botocore.client import Config, ClientError\n",
        "\n",
        "cos_client = ibm_boto3.resource(\"s3\",\n",
        "    ibm_api_key_id=COS_API_KEY_ID,\n",
        "    ibm_service_instance_id=COS_RESOURCE_CRN,\n",
        "    ibm_auth_endpoint=IAM_URL,\n",
        "    config=Config(signature_version=\"oauth\"),\n",
        "    endpoint_url=COS_ENDPOINT\n",
        ")"
      ]
    },
    {
      "cell_type": "code",
      "execution_count": 13,
      "id": "65f5a57c-5263-4770-a07f-cf3b64317b5b",
      "metadata": {
        "gather": {
          "logged": 1667803844045
        },
        "jupyter": {
          "outputs_hidden": false,
          "source_hidden": false
        },
        "nteract": {
          "transient": {
            "deleting": false
          }
        }
      },
      "outputs": [
        {
          "data": {
            "text/plain": [
              "s3.Object(bucket_name='openscale-manoj', key='credit_risk_training.csv')"
            ]
          },
          "execution_count": 13,
          "metadata": {},
          "output_type": "execute_result"
        }
      ],
      "source": [
        "cos_client.Object(BUCKET_NAME, training_data_file_name)"
      ]
    },
    {
      "cell_type": "code",
      "execution_count": 14,
      "id": "8a27cfaf-1946-4d15-8c5b-0f57426f7840",
      "metadata": {
        "gather": {
          "logged": 1667803848532
        },
        "jupyter": {
          "outputs_hidden": false,
          "source_hidden": false
        },
        "nteract": {
          "transient": {
            "deleting": false
          }
        }
      },
      "outputs": [],
      "source": [
        "with open(training_data_file_name, \"rb\") as file_data:\n",
        "    cos_client.Object(BUCKET_NAME, training_data_file_name).upload_fileobj(\n",
        "        Fileobj=file_data\n",
        "    )"
      ]
    },
    {
      "cell_type": "markdown",
      "id": "1dfef12d-e529-45c9-b02b-4d3559a5d09b",
      "metadata": {},
      "source": [
        "## Explore the data"
      ]
    },
    {
      "cell_type": "code",
      "execution_count": 15,
      "id": "89f94e31-03a5-48fb-963d-ec4ceb496321",
      "metadata": {
        "gather": {
          "logged": 1667803849073
        }
      },
      "outputs": [
        {
          "name": "stdout",
          "output_type": "stream",
          "text": [
            "Columns:  ['CheckingStatus', 'LoanDuration', 'CreditHistory', 'LoanPurpose', 'LoanAmount', 'ExistingSavings', 'EmploymentDuration', 'InstallmentPercent', 'Sex', 'OthersOnLoan', 'CurrentResidenceDuration', 'OwnsProperty', 'Age', 'InstallmentPlans', 'Housing', 'ExistingCreditsCount', 'Job', 'Dependents', 'Telephone', 'ForeignWorker', 'Risk']\n",
            "Number of columns:  21\n"
          ]
        }
      ],
      "source": [
        "print('Columns: ', list(data.columns))\n",
        "print('Number of columns: ', len(data.columns))"
      ]
    },
    {
      "cell_type": "code",
      "execution_count": 16,
      "id": "7924c3aa-5049-4a67-a85b-1f32ff6f3457",
      "metadata": {
        "gather": {
          "logged": 1667803849588
        }
      },
      "outputs": [
        {
          "name": "stdout",
          "output_type": "stream",
          "text": [
            "Number of records:  5000\n"
          ]
        }
      ],
      "source": [
        "print('Number of records: ', data.Risk.count())"
      ]
    },
    {
      "cell_type": "code",
      "execution_count": 17,
      "id": "c0c6c565-bae2-4f3a-9648-21d89f14b902",
      "metadata": {
        "gather": {
          "logged": 1667803850085
        }
      },
      "outputs": [
        {
          "data": {
            "text/plain": [
              "Risk\n",
              "No Risk    3330\n",
              "Risk       1670\n",
              "Name: Risk, dtype: int64"
            ]
          },
          "execution_count": 17,
          "metadata": {},
          "output_type": "execute_result"
        }
      ],
      "source": [
        "target_count = data.groupby('Risk')['Risk'].count()\n",
        "target_count"
      ]
    },
    {
      "cell_type": "code",
      "execution_count": 18,
      "id": "3227060c-77ff-44f5-b315-ca220a3dabd5",
      "metadata": {
        "gather": {
          "logged": 1667803854365
        }
      },
      "outputs": [
        {
          "data": {
            "text/plain": [
              "<matplotlib.axes._subplots.AxesSubplot at 0x7fa778eb6100>"
            ]
          },
          "execution_count": 18,
          "metadata": {},
          "output_type": "execute_result"
        },
        {
          "data": {
            "image/png": "[encoded data removed]",
            "text/plain": [
              "<Figure size 576x576 with 1 Axes>"
            ]
          },
          "metadata": {},
          "output_type": "display_data"
        }
      ],
      "source": [
        "target_count.plot.pie(figsize=(8, 8))"
      ]
    },
    {
      "cell_type": "markdown",
      "id": "a21b7114-404d-4f77-a43c-b9448f24f8d8",
      "metadata": {},
      "source": [
        "## Data pre-processing"
      ]
    },
    {
      "cell_type": "code",
      "execution_count": 19,
      "id": "c22544d4-951b-4bd7-9c79-65fbe8142a36",
      "metadata": {
        "gather": {
          "logged": 1667803866674
        }
      },
      "outputs": [],
      "source": [
        "from sklearn.linear_model import SGDClassifier\n",
        "from sklearn.preprocessing import LabelEncoder, OneHotEncoder\n",
        "from sklearn.decomposition import TruncatedSVD\n",
        "from sklearn.compose import ColumnTransformer\n",
        "from sklearn.pipeline import Pipeline\n",
        "from sklearn.model_selection import train_test_split"
      ]
    },
    {
      "cell_type": "code",
      "execution_count": 20,
      "id": "b10e0250-d8e9-446b-9de9-10259d4527e3",
      "metadata": {
        "gather": {
          "logged": 1667803866977
        }
      },
      "outputs": [],
      "source": [
        "train_data, test_data = train_test_split(data, test_size=0.2)"
      ]
    },
    {
      "cell_type": "code",
      "execution_count": 21,
      "id": "333db1dc-970a-4d4a-a498-c4968190d989",
      "metadata": {
        "gather": {
          "logged": 1667803867288
        }
      },
      "outputs": [],
      "source": [
        "features_idx = np.s_[0:-1]\n",
        "all_records_idx = np.s_[:]\n",
        "first_record_idx = np.s_[0]"
      ]
    },
    {
      "cell_type": "code",
      "execution_count": 22,
      "id": "32a8aee4-6e8e-4119-bdcb-29cabf042779",
      "metadata": {
        "gather": {
          "logged": 1667803867753
        }
      },
      "outputs": [],
      "source": [
        "string_fields = [type(fld) is str for fld in train_data.iloc[first_record_idx, features_idx]]\n",
        "ct = ColumnTransformer([(\"ohe\", OneHotEncoder(), list(np.array(train_data.columns)[features_idx][string_fields]))])\n",
        "clf_linear = SGDClassifier(loss='log', penalty='l2', max_iter=1000, tol=1e-5)\n",
        "\n",
        "pipeline_linear = Pipeline([('ct', ct), ('clf_linear', clf_linear)])"
      ]
    },
    {
      "cell_type": "markdown",
      "id": "bdbc8d7b-a012-484b-ac91-adae374e159a",
      "metadata": {},
      "source": [
        "## Train the model"
      ]
    },
    {
      "cell_type": "code",
      "execution_count": 34,
      "id": "76ebb94a-eb1e-42f2-a64b-b872edbd7a14",
      "metadata": {
        "gather": {
          "logged": 1667803947548
        }
      },
      "outputs": [],
      "source": [
        "MODEL_NAME = \"Scikit German Risk Model Azure ML\"\n",
        "MODEL_NAME_SHORT = 'azure_credit_risk_model'\n",
        "DEPLOYMENT_NAME = \"Scikit German Risk Deployment Azure ML\""
      ]
    },
    {
      "cell_type": "code",
      "execution_count": 24,
      "id": "b45ad5c5-184d-4be2-ac7d-09900d75cb82",
      "metadata": {
        "gather": {
          "logged": 1667803868374
        }
      },
      "outputs": [],
      "source": [
        "risk_model = pipeline_linear.fit(train_data.drop('Risk', axis=1), train_data.Risk)"
      ]
    },
    {
      "cell_type": "markdown",
      "id": "5e33eb0e-48de-4ec0-82c0-71dbc86f09fc",
      "metadata": {},
      "source": [
        "## Evaluate the model"
      ]
    },
    {
      "cell_type": "code",
      "execution_count": 25,
      "id": "210a59f0-61f6-433c-9d58-223b1c2eccd7",
      "metadata": {
        "gather": {
          "logged": 1667803868670
        }
      },
      "outputs": [
        {
          "name": "stdout",
          "output_type": "stream",
          "text": [
            "0.7436820242889305\n"
          ]
        }
      ],
      "source": [
        "from sklearn.metrics import roc_auc_score\n",
        "\n",
        "predictions = risk_model.predict(test_data.drop('Risk', axis=1))\n",
        "indexed_preds = [0 if prediction=='No Risk' else 1 for prediction in predictions]\n",
        "\n",
        "real_observations = test_data.Risk.replace('Risk', 1)\n",
        "real_observations = real_observations.replace('No Risk', 0).values\n",
        "\n",
        "auc = roc_auc_score(real_observations, indexed_preds)\n",
        "print(auc)"
      ]
    },
    {
      "cell_type": "markdown",
      "id": "0b21db5d-e295-417b-8f44-a3baafaf7560",
      "metadata": {},
      "source": [
        "## Store the model"
      ]
    },
    {
      "cell_type": "code",
      "execution_count": 36,
      "id": "273cd306-9dbe-4de5-8a35-9c51a94d46dd",
      "metadata": {
        "gather": {
          "logged": 1667803963684
        }
      },
      "outputs": [
        {
          "data": {
            "text/plain": [
              "['azure_credit_risk_model.pkl']"
            ]
          },
          "execution_count": 36,
          "metadata": {},
          "output_type": "execute_result"
        }
      ],
      "source": [
        "import joblib\n",
        "\n",
        "joblib.dump(risk_model, MODEL_NAME_SHORT+\".pkl\")"
      ]
    },
    {
      "cell_type": "markdown",
      "id": "4ea66e23-dd3f-41a7-89f7-013a0ed9337a",
      "metadata": {},
      "source": [
        "## Deploy the model to Azure ML"
      ]
    },
    {
      "cell_type": "code",
      "execution_count": 27,
      "id": "fd4be2fc-e88c-4dc0-b0c1-51cd4b5192fc",
      "metadata": {
        "gather": {
          "logged": 1667803869319
        }
      },
      "outputs": [
        {
          "name": "stdout",
          "output_type": "stream",
          "text": [
            "SDK version: 1.44.0\n"
          ]
        }
      ],
      "source": [
        "import azureml.core\n",
        "\n",
        "# Check core SDK version number.\n",
        "print('SDK version:', azureml.core.VERSION)"
      ]
    },
    {
      "cell_type": "markdown",
      "id": "701f38a9-b90c-47d6-8334-bc7eb70d3245",
      "metadata": {},
      "source": [
        "## Initialize Azure ML workspace"
      ]
    },
    {
      "cell_type": "code",
      "execution_count": 28,
      "id": "750a476b-42c0-4b91-8dbc-837580221a74",
      "metadata": {
        "gather": {
          "logged": 1667803869680
        }
      },
      "outputs": [
        {
          "name": "stdout",
          "output_type": "stream",
          "text": [
            "data-ai\n",
            "dev-manoj\n",
            "eastus\n",
            "7d825bce-b305-4459-ba66-cb169476f34a\n"
          ]
        }
      ],
      "source": [
        "from azureml.core import Workspace\n",
        "\n",
        "\n",
        "ws = Workspace.from_config()\n",
        "print(ws.name, ws.resource_group, ws.location, ws.subscription_id, sep='\\n')\n",
        "\n",
        "workspace_name = ws.name"
      ]
    },
    {
      "cell_type": "markdown",
      "id": "b156c60f-4253-4f97-881d-cafc145a4ea6",
      "metadata": {},
      "source": [
        "## Register the model in Azure ML Service"
      ]
    },
    {
      "cell_type": "code",
      "execution_count": 37,
      "id": "1b50dc14-e14e-46eb-bec9-0f4eb88f8ddd",
      "metadata": {
        "gather": {
          "logged": 1667803967743
        }
      },
      "outputs": [
        {
          "name": "stdout",
          "output_type": "stream",
          "text": [
            "Registering model azure_credit_risk_model\n",
            "Name: azure_credit_risk_model\n",
            "Version: 1\n"
          ]
        }
      ],
      "source": [
        "import sklearn\n",
        "\n",
        "from azureml.core import Model\n",
        "from azureml.core.resource_configuration import ResourceConfiguration\n",
        "\n",
        "\n",
        "model = Model.register(workspace=ws,\n",
        "                       model_name=MODEL_NAME_SHORT,\n",
        "                       model_path=MODEL_NAME_SHORT+'.pkl',  # Local file to upload and register as a model.\n",
        "                       model_framework=Model.Framework.SCIKITLEARN,  # Framework used to create the model.\n",
        "                       model_framework_version=sklearn.__version__,  # Version of scikit-learn used to create the model.\n",
        "                    #    sample_input_dataset=input_dataset,\n",
        "                    #    sample_output_dataset=output_dataset,\n",
        "                       resource_configuration=ResourceConfiguration(cpu=1, memory_in_gb=0.5),\n",
        "                       description='Random Forest Model to classify credit risk with probability vectors',\n",
        "                       tags={'area': 'credit risk', 'type': 'classification'})\n",
        "\n",
        "print('Name:', model.name)\n",
        "print('Version:', model.version)"
      ]
    },
    {
      "cell_type": "markdown",
      "id": "03238da4-9669-4a28-91d1-462ecbd0a2c3",
      "metadata": {},
      "source": [
        "## Create a custom entry script for the scoring response"
      ]
    },
    {
      "cell_type": "code",
      "execution_count": 38,
      "id": "8154b1c4-9464-4135-8121-1f3a3a5c6046",
      "metadata": {},
      "outputs": [
        {
          "name": "stdout",
          "output_type": "stream",
          "text": [
            "Overwriting score_azure.py\n"
          ]
        }
      ],
      "source": [
        "%%writefile score_azure.py\n",
        "import os\n",
        "import json\n",
        "import numpy as np\n",
        "import pandas as pd\n",
        "import joblib\n",
        "from sklearn.linear_model import SGDClassifier\n",
        "from azureml.core.model import Model\n",
        "from sklearn import preprocessing\n",
        "\n",
        "def init():\n",
        "    global model\n",
        "    model_path = Model.get_model_path('azure_credit_risk_model')\n",
        "    model = joblib.load(model_path)\n",
        "\n",
        "def run(input_payload):\n",
        "    try:\n",
        "        if type(input_payload) is str:\n",
        "            dict_data = json.loads(input_payload)\n",
        "        else:\n",
        "            dict_data = input_payload\n",
        "\n",
        "        data = pd.DataFrame.from_dict(dict_data[\"input\"])\n",
        "        predictions = model.predict(data)\n",
        "        scores = model.predict_proba(data)\n",
        "        risk_column = []\n",
        "        proba_column = []\n",
        "        proba_vector = []\n",
        "\n",
        "        for pred, proba in zip(predictions, scores):\n",
        "            risk_column.append(pred)\n",
        "            proba_vector.append([proba[0], proba[1]])\n",
        "            if pred == \"No Risk\":\n",
        "                proba_column.append(proba[0])\n",
        "            else:\n",
        "                proba_column.append(proba[1])\n",
        "        data[\"Scored Labels\"] = risk_column\n",
        "        data[\"Scored Probabilities\"] = proba_column\n",
        "        data[\"ProbabilityVector\"] = proba_vector\n",
        "\n",
        "        result = {\"output\": data.to_dict('records')}\n",
        "        \n",
        "        return result\n",
        "    except Exception as e:\n",
        "        result = str(e)\n",
        "        return {\"error\": result}"
      ]
    },
    {
      "cell_type": "markdown",
      "id": "633d7094-945f-4cf5-8813-092efcb5ea42",
      "metadata": {},
      "source": [
        "## Create a custom environment for python"
      ]
    },
    {
      "cell_type": "code",
      "execution_count": 39,
      "id": "c793a4c0-4d38-4a9b-9bb9-79c1c6c69e3f",
      "metadata": {
        "gather": {
          "logged": 1667803997339
        }
      },
      "outputs": [],
      "source": [
        "from azureml.core.conda_dependencies import CondaDependencies \n",
        "from azureml.core import Environment\n",
        "import sklearn\n",
        "\n",
        "environment = Environment('env-credit-risk-azure')\n",
        "\n",
        "environment.python.conda_dependencies = CondaDependencies.create(pip_packages=[\n",
        "    'azureml-defaults',\n",
        "    'joblib',\n",
        "    'numpy',\n",
        "    'pandas',\n",
        "    'scikit-learn=={}'.format(sklearn.__version__)\n",
        "])"
      ]
    },
    {
      "cell_type": "code",
      "execution_count": 40,
      "id": "5d6e9068-2662-481b-86c7-390c53a2ac17",
      "metadata": {
        "gather": {
          "logged": 1667804000470
        }
      },
      "outputs": [],
      "source": [
        "from azureml.core.webservice import AciWebservice\n",
        "\n",
        "\n",
        "aci_config = AciWebservice.deploy_configuration(cpu_cores=0.5, memory_gb=0.5\n",
        "                                                ,tags={\"data\": \"credit_risk\",  \"method\" : \"sklearn\", 'area': 'Credit Risk', 'type': 'classification'}, \n",
        "                                               description='Random Forest Model to classify credit risk.')"
      ]
    },
    {
      "cell_type": "markdown",
      "id": "962c6ddb-e6df-4f7d-ae09-f344bf97eda2",
      "metadata": {},
      "source": [
        "## Deploy the registered model as a web service"
      ]
    },
    {
      "cell_type": "code",
      "execution_count": null,
      "id": "bb9e80d9-ef80-4d1f-9fe8-21564c3afd35",
      "metadata": {},
      "outputs": [],
      "source": [
        "%%time\n",
        "from azureml.core.webservice import Webservice\n",
        "from azureml.core.model import InferenceConfig\n",
        "from azureml.core.image import ContainerImage\n",
        "\n",
        "\n",
        "service_name = \"credit-risk-model-webservice\"\n",
        "\n",
        "# Remove any existing service under the same name.\n",
        "try:\n",
        "    Webservice(ws, service_name).delete()\n",
        "except:\n",
        "    pass\n",
        "\n",
        "inference_config = InferenceConfig(entry_script='score_azure.py', environment=environment)\n",
        "\n",
        "service = Model.deploy(workspace=ws,\n",
        "                       name=service_name,\n",
        "                       models=[model],\n",
        "                       inference_config=inference_config,\n",
        "                       deployment_config=aci_config,\n",
        "                       overwrite=True)\n",
        "service.wait_for_deployment(show_output=True)"
      ]
    },
    {
      "cell_type": "markdown",
      "id": "1d0b7340-a870-420c-b48f-3869a047df68",
      "metadata": {
        "nteract": {
          "transient": {
            "deleting": false
          }
        }
      },
      "source": [
        "## Score the model through the web service"
      ]
    },
    {
      "cell_type": "code",
      "execution_count": 34,
      "id": "08e07a7c-6e9f-4f5c-8d50-b9b4d4a7800a",
      "metadata": {
        "gather": {
          "logged": 1665587642461
        }
      },
      "outputs": [
        {
          "name": "stdout",
          "output_type": "stream",
          "text": [
            "{\n",
            "  \"output\": [\n",
            "    {\n",
            "      \"CheckingStatus\": \"less_0\",\n",
            "      \"LoanDuration\": 4,\n",
            "      \"CreditHistory\": \"credits_paid_to_date\",\n",
            "      \"LoanPurpose\": \"education\",\n",
            "      \"LoanAmount\": 604,\n",
            "      \"ExistingSavings\": \"less_100\",\n",
            "      \"EmploymentDuration\": \"unemployed\",\n",
            "      \"InstallmentPercent\": 1,\n",
            "      \"Sex\": \"male\",\n",
            "      \"OthersOnLoan\": \"none\",\n",
            "      \"CurrentResidenceDuration\": 1,\n",
            "      \"OwnsProperty\": \"savings_insurance\",\n",
            "      \"Age\": 29,\n",
            "      \"InstallmentPlans\": \"stores\",\n",
            "      \"Housing\": \"rent\",\n",
            "      \"ExistingCreditsCount\": 1,\n",
            "      \"Job\": \"unskilled\",\n",
            "      \"Dependents\": 1,\n",
            "      \"Telephone\": \"none\",\n",
            "      \"ForeignWorker\": \"yes\",\n",
            "      \"Scored Labels\": \"No Risk\",\n",
            "      \"Scored Probabilities\": 0.9680070361361682,\n",
            "      \"ProbabilityVector\": [\n",
            "        0.9680070361361682,\n",
            "        0.03199296386383178\n",
            "      ]\n",
            "    }\n",
            "  ]\n",
            "}\n"
          ]
        }
      ],
      "source": [
        "import json\n",
        "\n",
        "\n",
        "input_payload = json.dumps({\n",
        "    'input': train_data.drop('Risk', axis=1)[-1:].to_dict('records')\n",
        "})\n",
        "\n",
        "output = service.run(input_payload)\n",
        "\n",
        "print(json.dumps(output, indent=2))"
      ]
    },
    {
      "cell_type": "markdown",
      "id": "aab43f6d-4a77-47b3-a666-6c1ee848ed42",
      "metadata": {
        "nteract": {
          "transient": {
            "deleting": false
          }
        }
      },
      "source": [
        ">--------------------------\n",
        "\n",
        "## At this point in the Notebook, You have successfully Build and Deployed the model in Azure Machine Learning. Now you can proceed to configure the IBM Watson OpenScale monitors.\n",
        "\n",
        ">--------------------------"
      ]
    },
    {
      "cell_type": "markdown",
      "id": "619c9439-6129-4cbb-a839-5047445e42b2",
      "metadata": {
        "nteract": {
          "transient": {
            "deleting": false
          }
        }
      },
      "source": [
        "## Configure OpenScale"
      ]
    },
    {
      "cell_type": "code",
      "execution_count": 30,
      "id": "f0d1f395-8dec-4769-a547-adcaf9303e38",
      "metadata": {
        "gather": {
          "logged": 1665603008130
        },
        "jupyter": {
          "outputs_hidden": false,
          "source_hidden": false
        },
        "nteract": {
          "transient": {
            "deleting": false
          }
        }
      },
      "outputs": [
        {
          "data": {
            "text/plain": [
              "'3.0.23'"
            ]
          },
          "execution_count": 30,
          "metadata": {},
          "output_type": "execute_result"
        }
      ],
      "source": [
        "from ibm_cloud_sdk_core.authenticators import IAMAuthenticator,CloudPakForDataAuthenticator\n",
        "\n",
        "from ibm_watson_openscale import *\n",
        "from ibm_watson_openscale.supporting_classes.enums import *\n",
        "from ibm_watson_openscale.supporting_classes import *\n",
        "\n",
        "if cloudWOS:\n",
        "    authenticator = IAMAuthenticator(\n",
        "        apikey=CLOUD_API_KEY\n",
        "    )\n",
        "    wos_client = APIClient(authenticator=authenticator)\n",
        "    print('Watson OpenScale on IBM Cloud!')\n",
        "else:\n",
        "    authenticator = CloudPakForDataAuthenticator(\n",
        "        username=CLOUD_PAK_FOR_DATA_CREDENTIALS.get('username'), \n",
        "        password=CLOUD_PAK_FOR_DATA_CREDENTIALS.get('password'), \n",
        "        url=CLOUD_PAK_FOR_DATA_CREDENTIALS.get('url'), \n",
        "        disable_ssl_verification=True\n",
        "    )\n",
        "    wos_client = APIClient(\n",
        "        service_url=CLOUD_PAK_FOR_DATA_CREDENTIALS.get('url'),\n",
        "        authenticator=authenticator\n",
        "    )\n",
        "    print('Watson OpenScale on IBM Cloud pak for Data!')\n",
        "\n",
        "wos_client.version"
      ]
    },
    {
      "cell_type": "markdown",
      "id": "9763810d-2006-46c6-a47b-bc8808b9e8e4",
      "metadata": {
        "nteract": {
          "transient": {
            "deleting": false
          }
        }
      },
      "source": [
        "### DataMart setup\n",
        "Watson OpenScale uses a database to store payload logs and calculated metrics. If database credentials were **not** supplied above, the notebook will use the free, internal lite database. If database credentials were supplied, the datamart will be created there **unless** there is an existing datamart **and** the **KEEP_MY_INTERNAL_POSTGRES** variable is set to **True**. If an OpenScale datamart exists in Db2 or PostgreSQL, the existing datamart will be used and no data will be overwritten.\n",
        "\n",
        "Prior instances of the German Credit model will be removed from OpenScale monitoring."
      ]
    },
    {
      "cell_type": "code",
      "execution_count": 31,
      "id": "3a0e91bf-d494-458c-b458-e70e95b2716f",
      "metadata": {
        "gather": {
          "logged": 1665603034712
        },
        "jupyter": {
          "outputs_hidden": false,
          "source_hidden": false
        },
        "nteract": {
          "transient": {
            "deleting": false
          }
        }
      },
      "outputs": [
        {
          "data": {
            "text/html": [
              "<HTML>\n",
              "        <body>\n",
              "            <h3>Data Marts</h3>\n",
              "            <table style='border: 1px solid #dddddd; font-family: Courier'>\n",
              "                <th style='border: 1px solid #dddddd'>name</th><th style='border: 1px solid #dddddd'>description</th><th style='border: 1px solid #dddddd'>internal_database</th><th style='border: 1px solid #dddddd'>status</th><th style='border: 1px solid #dddddd'>created_at</th><th style='border: 1px solid #dddddd'>id</th>\n",
              "                <tr><td style='border: 1px solid #dddddd'>AIOSFASTPATHICP-00000000-0000-0000-0000-000000000000</td><td style='border: 1px solid #dddddd'>Data Mart created by OpenScale ExpressPath</td><td style='border: 1px solid #dddddd'>False</td><td style='border: 1px solid #dddddd'>active</td><td style='border: 1px solid #dddddd'>2022-10-06 06:00:45.524000+00:00</td><td style='border: 1px solid #dddddd'>00000000-0000-0000-0000-000000000000</td></tr>\n",
              "            </table>\n",
              "        </body>\n",
              "        </HTML>"
            ],
            "text/plain": [
              "<IPython.core.display.HTML object>"
            ]
          },
          "metadata": {},
          "output_type": "display_data"
        }
      ],
      "source": [
        "wos_client.data_marts.show()"
      ]
    },
    {
      "cell_type": "code",
      "execution_count": 32,
      "id": "20ea3dac-9bfb-4dde-8c5c-358ad6e5412b",
      "metadata": {
        "gather": {
          "logged": 1665603035408
        },
        "jupyter": {
          "outputs_hidden": false,
          "source_hidden": false
        },
        "nteract": {
          "transient": {
            "deleting": false
          }
        }
      },
      "outputs": [
        {
          "name": "stdout",
          "output_type": "stream",
          "text": [
            "Using existing datamart 00000000-0000-0000-0000-000000000000\n"
          ]
        }
      ],
      "source": [
        "data_marts = wos_client.data_marts.list().result.data_marts\n",
        "if len(data_marts) == 0:\n",
        "    if DB_CREDENTIALS is not None:\n",
        "        if SCHEMA_NAME is None: \n",
        "            print(\"Please specify the SCHEMA_NAME and rerun the cell\")\n",
        "\n",
        "        print('Setting up external datamart')\n",
        "        added_data_mart_result = wos_client.data_marts.add(\n",
        "                background_mode=False,\n",
        "                name=\"WOS Data Mart\",\n",
        "                description=\"Data Mart created by WOS tutorial notebook\",\n",
        "                database_configuration=DatabaseConfigurationRequest(\n",
        "                  database_type=DatabaseType.POSTGRESQL,\n",
        "                    credentials=PrimaryStorageCredentialsLong(\n",
        "                        hostname=DB_CREDENTIALS['hostname'],\n",
        "                        username=DB_CREDENTIALS['username'],\n",
        "                        password=DB_CREDENTIALS['password'],\n",
        "                        db=DB_CREDENTIALS['database'],\n",
        "                        port=DB_CREDENTIALS['port'],\n",
        "                        ssl=True,\n",
        "                        sslmode=DB_CREDENTIALS['sslmode'],\n",
        "                        certificate_base64=DB_CREDENTIALS['certificate_base64']\n",
        "                    ),\n",
        "                    location=LocationSchemaName(\n",
        "                        schema_name= SCHEMA_NAME\n",
        "                    )\n",
        "                )\n",
        "             ).result\n",
        "    else:\n",
        "        print('Setting up internal datamart')\n",
        "        added_data_mart_result = wos_client.data_marts.add(\n",
        "                background_mode=False,\n",
        "                name=\"WOS Data Mart\",\n",
        "                description=\"Data Mart created by WOS tutorial notebook\", \n",
        "                internal_database = True).result\n",
        "        \n",
        "    data_mart_id = added_data_mart_result.metadata.id\n",
        "    \n",
        "else:\n",
        "    data_mart_id=data_marts[0].metadata.id\n",
        "    print('Using existing datamart {}'.format(data_mart_id))"
      ]
    },
    {
      "cell_type": "code",
      "execution_count": 33,
      "id": "90c8e3f0-9837-4967-bdf2-d18925051ba5",
      "metadata": {
        "gather": {
          "logged": 1665603037495
        },
        "jupyter": {
          "outputs_hidden": false,
          "source_hidden": false
        },
        "nteract": {
          "transient": {
            "deleting": false
          }
        }
      },
      "outputs": [],
      "source": [
        "SERVICE_PROVIDER_NAME = \"Azure Machine Learning Service\"\n",
        "SERVICE_PROVIDER_DESCRIPTION = \"Added by Azure Machine Learning Studio notebook.\""
      ]
    },
    {
      "cell_type": "markdown",
      "id": "d7b3626a-4c66-4b17-b0fb-bc4361047f4e",
      "metadata": {
        "nteract": {
          "transient": {
            "deleting": false
          }
        }
      },
      "source": [
        "## Remove existing service provider connected with used  Azure ML instance\n",
        "Multiple service providers for the same engine instance are avaiable in Watson OpenScale. To avoid multiple service providers of used WML instance in the tutorial notebook the following code deletes existing service provder(s) and then adds new one. "
      ]
    },
    {
      "cell_type": "code",
      "execution_count": 34,
      "id": "19c24532-6ab1-43b7-b2fd-e52045b1b6e3",
      "metadata": {
        "gather": {
          "logged": 1665603040567
        },
        "jupyter": {
          "outputs_hidden": false,
          "source_hidden": false
        },
        "nteract": {
          "transient": {
            "deleting": false
          }
        }
      },
      "outputs": [
        {
          "name": "stdout",
          "output_type": "stream",
          "text": [
            "Deleted existing service_provider for Azure ML instance: e152a1fd-4ffe-4d18-afa8-c8fe8c3bc990\n"
          ]
        }
      ],
      "source": [
        "service_providers = wos_client.service_providers.list().result.service_providers\n",
        "for service_provider in service_providers:\n",
        "    service_instance_name = service_provider.entity.name\n",
        "    if service_instance_name == SERVICE_PROVIDER_NAME:\n",
        "        service_provider_id = service_provider.metadata.id\n",
        "        wos_client.service_providers.delete(service_provider_id)\n",
        "        print(\"Deleted existing service_provider for Azure ML instance: {}\".format(service_provider_id))"
      ]
    },
    {
      "cell_type": "code",
      "execution_count": 35,
      "id": "b5a4aef8-8125-496d-a7ec-4708edd602bf",
      "metadata": {
        "gather": {
          "logged": 1665603042138
        },
        "jupyter": {
          "outputs_hidden": false,
          "source_hidden": false
        },
        "nteract": {
          "transient": {
            "deleting": false
          }
        }
      },
      "outputs": [
        {
          "data": {
            "text/html": [
              "<HTML>\n",
              "        <body>\n",
              "            <h3>Service Providers</h3>\n",
              "            <table style='border: 1px solid #dddddd; font-family: Courier'>\n",
              "                <th style='border: 1px solid #dddddd'>instance_id</th><th style='border: 1px solid #dddddd'>status</th><th style='border: 1px solid #dddddd'>name</th><th style='border: 1px solid #dddddd'>service_type</th><th style='border: 1px solid #dddddd'>created_at</th><th style='border: 1px solid #dddddd'>id</th>\n",
              "                <tr><td style='border: 1px solid #dddddd'>None</td><td style='border: 1px solid #dddddd'>active</td><td style='border: 1px solid #dddddd'>AWS SGM Machine Learning</td><td style='border: 1px solid #dddddd'>amazon_sagemaker</td><td style='border: 1px solid #dddddd'>2022-10-10 08:15:48.365000+00:00</td><td style='border: 1px solid #dddddd'>6823dbe2-a5f8-4382-b962-9ea4b4686d32</td></tr><tr><td style='border: 1px solid #dddddd'>99999999-9999-9999-9999-999999999999</td><td style='border: 1px solid #dddddd'>active</td><td style='border: 1px solid #dddddd'>WOS ExpressPath WML pre_production binding</td><td style='border: 1px solid #dddddd'>watson_machine_learning</td><td style='border: 1px solid #dddddd'>2022-10-06 06:01:06.777000+00:00</td><td style='border: 1px solid #dddddd'>e5b7a117-41d5-406e-ac25-5d7df0ae63b8</td></tr><tr><td style='border: 1px solid #dddddd'>99999999-9999-9999-9999-999999999999</td><td style='border: 1px solid #dddddd'>active</td><td style='border: 1px solid #dddddd'>WOS ExpressPath WML production binding</td><td style='border: 1px solid #dddddd'>watson_machine_learning</td><td style='border: 1px solid #dddddd'>2022-10-06 06:01:01.449000+00:00</td><td style='border: 1px solid #dddddd'>fcf1fa79-0a2f-4c6f-8813-8c6f0c3f954b</td></tr>\n",
              "            </table>\n",
              "        </body>\n",
              "        </HTML>"
            ],
            "text/plain": [
              "<IPython.core.display.HTML object>"
            ]
          },
          "metadata": {},
          "output_type": "display_data"
        }
      ],
      "source": [
        "wos_client.service_providers.show()"
      ]
    },
    {
      "cell_type": "markdown",
      "id": "779c3423-0943-4937-b5b3-9f21e980c082",
      "metadata": {
        "nteract": {
          "transient": {
            "deleting": false
          }
        }
      },
      "source": [
        "## Add service provider (Azure Machine Learning Service)\n",
        "Watson OpenScale needs to be bound to the Azure Machine Learning Service to capture payload data into and out of the model."
      ]
    },
    {
      "cell_type": "code",
      "execution_count": 36,
      "id": "e19482bd-6026-4ca5-9a47-ff07799c5a2c",
      "metadata": {
        "gather": {
          "logged": 1665603049272
        },
        "jupyter": {
          "outputs_hidden": false,
          "source_hidden": false
        },
        "nteract": {
          "transient": {
            "deleting": false
          }
        }
      },
      "outputs": [
        {
          "name": "stdout",
          "output_type": "stream",
          "text": [
            "\n",
            "\n",
            "=================================================================================\n",
            "\n",
            " Waiting for end of adding service provider 3f79e275-7f02-4559-bf4c-db664b4e08d9 \n",
            "\n",
            "=================================================================================\n",
            "\n",
            "\n",
            "\n",
            "active\n",
            "\n",
            "-----------------------------------------------\n",
            " Successfully finished adding service provider \n",
            "-----------------------------------------------\n",
            "\n",
            "\n"
          ]
        }
      ],
      "source": [
        "added_service_provider_result = wos_client.service_providers.add(\n",
        "        name=SERVICE_PROVIDER_NAME,\n",
        "        description=SERVICE_PROVIDER_DESCRIPTION,\n",
        "        service_type=ServiceTypes.AZURE_MACHINE_LEARNING_SERVICE,\n",
        "        credentials=AzureCredentials(\n",
        "            subscription_id= AZURE_ENGINE_CREDENTIALS['subscription_id'], \n",
        "            client_id = AZURE_ENGINE_CREDENTIALS['client_id'], \n",
        "            client_secret= AZURE_ENGINE_CREDENTIALS['client_secret'],\n",
        "            tenant = AZURE_ENGINE_CREDENTIALS['tenant']\n",
        "        ),\n",
        "        background_mode=False\n",
        "    ).result\n",
        "service_provider_id = added_service_provider_result.metadata.id"
      ]
    },
    {
      "cell_type": "code",
      "execution_count": 37,
      "id": "932d0f72-59fb-4e1b-98f9-a1b559ba019d",
      "metadata": {
        "gather": {
          "logged": 1665603050711
        },
        "jupyter": {
          "outputs_hidden": false,
          "source_hidden": false
        },
        "nteract": {
          "transient": {
            "deleting": false
          }
        }
      },
      "outputs": [
        {
          "data": {
            "text/html": [
              "<HTML>\n",
              "        <body>\n",
              "            <h3>Service Providers</h3>\n",
              "            <table style='border: 1px solid #dddddd; font-family: Courier'>\n",
              "                <th style='border: 1px solid #dddddd'>instance_id</th><th style='border: 1px solid #dddddd'>status</th><th style='border: 1px solid #dddddd'>name</th><th style='border: 1px solid #dddddd'>service_type</th><th style='border: 1px solid #dddddd'>created_at</th><th style='border: 1px solid #dddddd'>id</th>\n",
              "                <tr><td style='border: 1px solid #dddddd'>None</td><td style='border: 1px solid #dddddd'>active</td><td style='border: 1px solid #dddddd'>Azure Machine Learning Service</td><td style='border: 1px solid #dddddd'>azure_machine_learning_service</td><td style='border: 1px solid #dddddd'>2022-10-12 19:30:43.884000+00:00</td><td style='border: 1px solid #dddddd'>3f79e275-7f02-4559-bf4c-db664b4e08d9</td></tr><tr><td style='border: 1px solid #dddddd'>None</td><td style='border: 1px solid #dddddd'>active</td><td style='border: 1px solid #dddddd'>AWS SGM Machine Learning</td><td style='border: 1px solid #dddddd'>amazon_sagemaker</td><td style='border: 1px solid #dddddd'>2022-10-10 08:15:48.365000+00:00</td><td style='border: 1px solid #dddddd'>6823dbe2-a5f8-4382-b962-9ea4b4686d32</td></tr><tr><td style='border: 1px solid #dddddd'>99999999-9999-9999-9999-999999999999</td><td style='border: 1px solid #dddddd'>active</td><td style='border: 1px solid #dddddd'>WOS ExpressPath WML pre_production binding</td><td style='border: 1px solid #dddddd'>watson_machine_learning</td><td style='border: 1px solid #dddddd'>2022-10-06 06:01:06.777000+00:00</td><td style='border: 1px solid #dddddd'>e5b7a117-41d5-406e-ac25-5d7df0ae63b8</td></tr><tr><td style='border: 1px solid #dddddd'>99999999-9999-9999-9999-999999999999</td><td style='border: 1px solid #dddddd'>active</td><td style='border: 1px solid #dddddd'>WOS ExpressPath WML production binding</td><td style='border: 1px solid #dddddd'>watson_machine_learning</td><td style='border: 1px solid #dddddd'>2022-10-06 06:01:01.449000+00:00</td><td style='border: 1px solid #dddddd'>fcf1fa79-0a2f-4c6f-8813-8c6f0c3f954b</td></tr>\n",
              "            </table>\n",
              "        </body>\n",
              "        </HTML>"
            ],
            "text/plain": [
              "<IPython.core.display.HTML object>"
            ]
          },
          "metadata": {},
          "output_type": "display_data"
        }
      ],
      "source": [
        "wos_client.service_providers.show()"
      ]
    },
    {
      "cell_type": "markdown",
      "id": "a0956b4f-a41b-4859-98ab-814441c7e621",
      "metadata": {
        "nteract": {
          "transient": {
            "deleting": false
          }
        }
      },
      "source": [
        "## View all the models deployed in Azure ML"
      ]
    },
    {
      "cell_type": "code",
      "execution_count": 38,
      "id": "dbbae434-50a2-43b6-88b7-842ef7aef425",
      "metadata": {
        "gather": {
          "logged": 1665603060954
        },
        "jupyter": {
          "outputs_hidden": false,
          "source_hidden": false
        },
        "nteract": {
          "transient": {
            "deleting": false
          }
        }
      },
      "outputs": [
        {
          "data": {
            "text/plain": [
              "{'resources': [{'metadata': {'guid': '678b5e4bd49125eb6f446c72bdad0661',\n",
              "    'url': 'https://eastus.modelmanagement.azureml.net/api/subscriptions/7d825bce-b305-4459-ba66-cb169476f34a/resourceGroups/dev-manoj/providers/Microsoft.MachineLearningServices/workspaces/data-ai/services/credit-risk-model-azure?api-version=2018-03-01-preview',\n",
              "    'created_at': '2022-10-12T15:09:40.9721851Z',\n",
              "    'modified_at': '2022-10-12T15:09:40.9721851Z'},\n",
              "   'entity': {'name': 'credit-risk-model-azure',\n",
              "    'deployment_rn': 'credit-risk-model-azure',\n",
              "    'type': 'online',\n",
              "    'description': 'Random Forest Model to classify credit risk.',\n",
              "    'scoring_endpoint': {'url': 'http://c1e2f300-cc84-4d6b-9989-40aa1a0c9c90.eastus.azurecontainer.io/score',\n",
              "     'request_headers': {'Content-Type': 'application/json; charset=UTF-8'}},\n",
              "    'asset': {'asset_id': 'c7c1229c8e4d0b49b8bbdebb01fdbbba',\n",
              "     'asset_rn': 'credit-risk-model-azure',\n",
              "     'url': 'https://eastus.modelmanagement.azureml.net/api/subscriptions/7d825bce-b305-4459-ba66-cb169476f34a/resourceGroups/dev-manoj/providers/Microsoft.MachineLearningServices/workspaces/data-ai/services/credit-risk-model-azure?api-version=2018-03-01-preview',\n",
              "     'name': 'credit-risk-model-azure',\n",
              "     'asset_type': 'model',\n",
              "     'created_at': '2022-10-12T15:09:40.9721851Z'}}},\n",
              "  {'metadata': {'guid': '341cc109cd93ca77ef55fce444639092',\n",
              "    'url': 'https://eastus.modelmanagement.azureml.net/api/subscriptions/7d825bce-b305-4459-ba66-cb169476f34a/resourceGroups/dev-manoj/providers/Microsoft.MachineLearningServices/workspaces/data-ai/services/credit-risk-model-wos-wrapper?api-version=2018-03-01-preview',\n",
              "    'created_at': '2022-10-10T16:53:32.5685842Z',\n",
              "    'modified_at': '2022-10-10T16:53:32.5685842Z'},\n",
              "   'entity': {'name': 'credit-risk-model-wos-wrapper',\n",
              "    'deployment_rn': 'credit-risk-model-wos-wrapper',\n",
              "    'type': 'online',\n",
              "    'description': 'Credit risk scoring endpoint wrapper with openscale payload logging',\n",
              "    'scoring_endpoint': {'url': 'http://76320d5f-bf81-4f3a-8a8a-5b79ba9fef9a.eastus.azurecontainer.io/score',\n",
              "     'request_headers': {'Content-Type': 'application/json; charset=UTF-8'}},\n",
              "    'asset': {'asset_id': 'f1ba9546128ab11b57c8570d6b25d7cd',\n",
              "     'asset_rn': 'credit-risk-model-wos-wrapper',\n",
              "     'url': 'https://eastus.modelmanagement.azureml.net/api/subscriptions/7d825bce-b305-4459-ba66-cb169476f34a/resourceGroups/dev-manoj/providers/Microsoft.MachineLearningServices/workspaces/data-ai/services/credit-risk-model-wos-wrapper?api-version=2018-03-01-preview',\n",
              "     'name': 'credit-risk-model-wos-wrapper',\n",
              "     'asset_type': 'model',\n",
              "     'created_at': '2022-10-10T16:53:32.5685842Z'}}}],\n",
              " 'count': 2}"
            ]
          },
          "execution_count": 38,
          "metadata": {},
          "output_type": "execute_result"
        }
      ],
      "source": [
        "asset_deployment_details = wos_client.service_providers.list_assets(data_mart_id=data_mart_id, service_provider_id=service_provider_id).result\n",
        "asset_deployment_details"
      ]
    },
    {
      "cell_type": "markdown",
      "id": "79173548-2503-4088-b028-386aa2687db6",
      "metadata": {
        "nteract": {
          "transient": {
            "deleting": false
          }
        }
      },
      "source": [
        "## Score the model"
      ]
    },
    {
      "cell_type": "code",
      "execution_count": 39,
      "id": "11410312-4310-4e5e-acf6-28b08278a1fd",
      "metadata": {
        "gather": {
          "logged": 1665603076670
        },
        "jupyter": {
          "outputs_hidden": false,
          "source_hidden": false
        },
        "nteract": {
          "transient": {
            "deleting": false
          }
        }
      },
      "outputs": [],
      "source": [
        "## select your model deployment GUID and get model asset details\n",
        "deployment_id='678b5e4bd49125eb6f446c72bdad0661'\n",
        "for model_asset_details in asset_deployment_details['resources']:\n",
        "    if model_asset_details['metadata']['guid']==deployment_id:\n",
        "        break"
      ]
    },
    {
      "cell_type": "code",
      "execution_count": 40,
      "id": "8db1d3ab-fcf1-4a04-8681-a0df7110eeb9",
      "metadata": {
        "gather": {
          "logged": 1665603077884
        },
        "jupyter": {
          "outputs_hidden": false,
          "source_hidden": false
        },
        "nteract": {
          "transient": {
            "deleting": false
          }
        }
      },
      "outputs": [
        {
          "name": "stdout",
          "output_type": "stream",
          "text": [
            "Scoring URL: http://c1e2f300-cc84-4d6b-9989-40aa1a0c9c90.eastus.azurecontainer.io/score\n",
            "{\n",
            "  \"output\": [\n",
            "    {\n",
            "      \"CheckingStatus\": \"less_0\",\n",
            "      \"LoanDuration\": 8,\n",
            "      \"CreditHistory\": \"prior_payments_delayed\",\n",
            "      \"LoanPurpose\": \"car_new\",\n",
            "      \"LoanAmount\": 368,\n",
            "      \"ExistingSavings\": \"less_100\",\n",
            "      \"EmploymentDuration\": \"less_1\",\n",
            "      \"InstallmentPercent\": 2,\n",
            "      \"Sex\": \"female\",\n",
            "      \"OthersOnLoan\": \"none\",\n",
            "      \"CurrentResidenceDuration\": 2,\n",
            "      \"OwnsProperty\": \"real_estate\",\n",
            "      \"Age\": 29,\n",
            "      \"InstallmentPlans\": \"none\",\n",
            "      \"Housing\": \"rent\",\n",
            "      \"ExistingCreditsCount\": 1,\n",
            "      \"Job\": \"skilled\",\n",
            "      \"Dependents\": 1,\n",
            "      \"Telephone\": \"none\",\n",
            "      \"ForeignWorker\": \"yes\",\n",
            "      \"Scored Labels\": \"No Risk\",\n",
            "      \"Scored Probabilities\": 0.964201761018031,\n",
            "      \"ProbabilityVector\": [\n",
            "        0.964201761018031,\n",
            "        0.03579823898196898\n",
            "      ]\n",
            "    }\n",
            "  ]\n",
            "}\n"
          ]
        }
      ],
      "source": [
        "import requests\n",
        "import time\n",
        "import json\n",
        "\n",
        "scoring_url = model_asset_details['entity']['scoring_endpoint']['url']\n",
        "\n",
        "data = {\n",
        "  \"input\": [\n",
        "    {\n",
        "      \"CheckingStatus\": \"less_0\",\n",
        "      \"LoanDuration\": 8,\n",
        "      \"CreditHistory\": \"prior_payments_delayed\",\n",
        "      \"LoanPurpose\": \"car_new\",\n",
        "      \"LoanAmount\": 368,\n",
        "      \"ExistingSavings\": \"less_100\",\n",
        "      \"EmploymentDuration\": \"less_1\",\n",
        "      \"InstallmentPercent\": 2,\n",
        "      \"Sex\": \"female\",\n",
        "      \"OthersOnLoan\": \"none\",\n",
        "      \"CurrentResidenceDuration\": 2,\n",
        "      \"OwnsProperty\": \"real_estate\",\n",
        "      \"Age\": 29,\n",
        "      \"InstallmentPlans\": \"none\",\n",
        "      \"Housing\": \"rent\",\n",
        "      \"ExistingCreditsCount\": 1,\n",
        "      \"Job\": \"skilled\",\n",
        "      \"Dependents\": 1,\n",
        "      \"Telephone\": \"none\",\n",
        "      \"ForeignWorker\": \"yes\"\n",
        "    }\n",
        "  ]\n",
        "}\n",
        "\n",
        "body = str.encode(json.dumps(data))\n",
        "\n",
        "headers = model_asset_details['entity']['scoring_endpoint']['request_headers']\n",
        "\n",
        "start_time = time.time()\n",
        "response = requests.post(url=scoring_url, data=body, headers=headers)\n",
        "response_time = int(time.time() - start_time)*1000\n",
        "result = response.json()\n",
        "\n",
        "print(\"Scoring URL: {}\".format(scoring_url))\n",
        "print(json.dumps(result, indent=2))"
      ]
    },
    {
      "cell_type": "markdown",
      "id": "a0a11b64-30c9-41da-837d-3f7582a06cbd",
      "metadata": {
        "nteract": {
          "transient": {
            "deleting": false
          }
        }
      },
      "source": [
        "## Subscribe to the Azure ML model"
      ]
    },
    {
      "cell_type": "code",
      "execution_count": 41,
      "id": "c0f4864e-ee7c-4688-bbb9-16092ed5655b",
      "metadata": {
        "gather": {
          "logged": 1665603081863
        },
        "jupyter": {
          "outputs_hidden": false,
          "source_hidden": false
        },
        "nteract": {
          "transient": {
            "deleting": false
          }
        }
      },
      "outputs": [
        {
          "data": {
            "text/html": [
              "<HTML>\n",
              "        <body>\n",
              "            <h3>Subscriptions</h3>\n",
              "            <table style='border: 1px solid #dddddd; font-family: Courier'>\n",
              "                <th style='border: 1px solid #dddddd'>asset_id</th><th style='border: 1px solid #dddddd'>asset_name</th><th style='border: 1px solid #dddddd'>data_mart_id</th><th style='border: 1px solid #dddddd'>deployment_id</th><th style='border: 1px solid #dddddd'>deployment_name</th><th style='border: 1px solid #dddddd'>service_provider_id</th><th style='border: 1px solid #dddddd'>status</th><th style='border: 1px solid #dddddd'>created_at</th><th style='border: 1px solid #dddddd'>id</th>\n",
              "                <tr><td style='border: 1px solid #dddddd'>31a9027642aab462e18bfb537e438f0b</td><td style='border: 1px solid #dddddd'>linear-learner-2022-10-10-12-00-13-476</td><td style='border: 1px solid #dddddd'>00000000-0000-0000-0000-000000000000</td><td style='border: 1px solid #dddddd'>31a9027642aab462e18bfb537e438f0b</td><td style='border: 1px solid #dddddd'>linear-learner-2022-10-10-12-00-13-476</td><td style='border: 1px solid #dddddd'>6823dbe2-a5f8-4382-b962-9ea4b4686d32</td><td style='border: 1px solid #dddddd'>active</td><td style='border: 1px solid #dddddd'>2022-10-10 12:08:37.765000+00:00</td><td style='border: 1px solid #dddddd'>deb38751-958a-487a-b473-37c027d41796</td></tr><tr><td style='border: 1px solid #dddddd'>992430a009a4cf1c3c0a412583bd102b</td><td style='border: 1px solid #dddddd'>linear-learner-2022-10-07-12-34-39-079</td><td style='border: 1px solid #dddddd'>00000000-0000-0000-0000-000000000000</td><td style='border: 1px solid #dddddd'>992430a009a4cf1c3c0a412583bd102b</td><td style='border: 1px solid #dddddd'>linear-learner-2022-10-07-12-34-39-079</td><td style='border: 1px solid #dddddd'>6823dbe2-a5f8-4382-b962-9ea4b4686d32</td><td style='border: 1px solid #dddddd'>active</td><td style='border: 1px solid #dddddd'>2022-10-10 08:15:54.133000+00:00</td><td style='border: 1px solid #dddddd'>ca600f59-ba9b-47c1-a2b8-6aab6bcdc2a1</td></tr>\n",
              "            </table>\n",
              "        </body>\n",
              "        </HTML>"
            ],
            "text/plain": [
              "<IPython.core.display.HTML object>"
            ]
          },
          "metadata": {},
          "output_type": "display_data"
        }
      ],
      "source": [
        "wos_client.subscriptions.show()"
      ]
    },
    {
      "cell_type": "markdown",
      "id": "92caf761-9bf4-4b16-a515-1aaa6e28a84f",
      "metadata": {
        "nteract": {
          "transient": {
            "deleting": false
          }
        }
      },
      "source": [
        "## Define input and output schemas"
      ]
    },
    {
      "cell_type": "code",
      "execution_count": 42,
      "id": "759f97d0-3874-4abd-b687-ae842118c08b",
      "metadata": {
        "gather": {
          "logged": 1665603083805
        },
        "jupyter": {
          "outputs_hidden": false,
          "source_hidden": false
        },
        "nteract": {
          "transient": {
            "deleting": false
          }
        }
      },
      "outputs": [],
      "source": [
        "feature_columns = ['CheckingStatus', 'LoanDuration', 'CreditHistory', 'LoanPurpose', 'LoanAmount', 'ExistingSavings', 'EmploymentDuration', 'InstallmentPercent', 'Sex', 'OthersOnLoan', 'CurrentResidenceDuration', 'OwnsProperty', 'Age', 'InstallmentPlans', 'Housing', 'ExistingCreditsCount', 'Job', 'Dependents', 'Telephone', 'ForeignWorker']\n",
        "categorical_columns = ['CheckingStatus', 'CreditHistory', 'LoanPurpose', 'ExistingSavings', 'EmploymentDuration', 'Sex', 'OthersOnLoan', 'OwnsProperty', 'InstallmentPlans', 'Housing', 'Job', 'Telephone', 'ForeignWorker']"
      ]
    },
    {
      "cell_type": "code",
      "execution_count": 43,
      "id": "3c512f44-386e-43d0-ae5e-c86a56602230",
      "metadata": {
        "gather": {
          "logged": 1665603084524
        },
        "jupyter": {
          "outputs_hidden": false,
          "source_hidden": false
        },
        "nteract": {
          "transient": {
            "deleting": false
          }
        }
      },
      "outputs": [],
      "source": [
        "training_schema = {\n",
        "    \"type\": \"struct\",\n",
        "    \"fields\": [\n",
        "        {\n",
        "            \"name\": \"CheckingStatus\",\n",
        "            \"type\": \"string\",\n",
        "            \"nullable\": False\n",
        "        },\n",
        "        {\n",
        "            \"name\": \"LoanDuration\",\n",
        "            \"type\": \"integer\",\n",
        "            \"nullable\": False\n",
        "        },\n",
        "        {\n",
        "            \"name\": \"CreditHistory\",\n",
        "            \"type\": \"string\",\n",
        "            \"nullable\": False\n",
        "        },\n",
        "        {\n",
        "            \"name\": \"LoanPurpose\",\n",
        "            \"type\": \"string\",\n",
        "            \"nullable\": False\n",
        "        },\n",
        "        {\n",
        "            \"name\": \"LoanAmount\",\n",
        "            \"type\": \"integer\",\n",
        "            \"nullable\": False\n",
        "        },\n",
        "        {\n",
        "            \"name\": \"ExistingSavings\",\n",
        "            \"type\": \"string\",\n",
        "            \"nullable\": False\n",
        "        },\n",
        "        {\n",
        "            \"name\": \"EmploymentDuration\",\n",
        "            \"type\": \"string\",\n",
        "            \"nullable\": False\n",
        "        },\n",
        "        {\n",
        "            \"name\": \"InstallmentPercent\",\n",
        "            \"type\": \"integer\",\n",
        "            \"nullable\": False\n",
        "        },\n",
        "        {\n",
        "            \"name\": \"Sex\",\n",
        "            \"type\": \"string\",\n",
        "            \"nullable\": False\n",
        "        },\n",
        "        {\n",
        "            \"name\": \"OthersOnLoan\",\n",
        "            \"type\": \"string\",\n",
        "            \"nullable\": False\n",
        "        },\n",
        "        {\n",
        "            \"name\": \"CurrentResidenceDuration\",\n",
        "            \"type\": \"integer\",\n",
        "            \"nullable\": False\n",
        "        },\n",
        "        {\n",
        "            \"name\": \"OwnsProperty\",\n",
        "            \"type\": \"string\",\n",
        "            \"nullable\": False\n",
        "        },\n",
        "        {\n",
        "            \"name\": \"Age\",\n",
        "            \"type\": \"integer\",\n",
        "            \"nullable\": False\n",
        "        },\n",
        "        {\n",
        "            \"name\": \"InstallmentPlans\",\n",
        "            \"type\": \"string\",\n",
        "            \"nullable\": False\n",
        "        },\n",
        "        {\n",
        "            \"name\": \"Housing\",\n",
        "            \"type\": \"string\",\n",
        "            \"nullable\": False\n",
        "        },\n",
        "        {\n",
        "            \"name\": \"ExistingCreditsCount\",\n",
        "            \"type\": \"integer\",\n",
        "            \"nullable\": False\n",
        "        },\n",
        "        {\n",
        "            \"name\": \"Job\",\n",
        "            \"type\": \"string\",\n",
        "            \"nullable\": False\n",
        "        },\n",
        "        {\n",
        "            \"name\": \"Dependents\",\n",
        "            \"type\": \"integer\",\n",
        "            \"nullable\": False\n",
        "        },\n",
        "        {\n",
        "            \"name\": \"Telephone\",\n",
        "            \"type\": \"string\",\n",
        "            \"nullable\": False\n",
        "        },\n",
        "        {\n",
        "            \"name\": \"ForeignWorker\",\n",
        "            \"type\": \"string\",\n",
        "            \"nullable\": False\n",
        "        },\n",
        "        {\n",
        "            \"name\": \"Risk\",\n",
        "            \"type\": \"string\",\n",
        "            \"nullable\": False,\n",
        "            \"metadata\": {\n",
        "                \"modeling_role\": \"target\"\n",
        "            }\n",
        "        }\n",
        "    ]\n",
        "}"
      ]
    },
    {
      "cell_type": "code",
      "execution_count": 44,
      "id": "4340b253-5fbf-47d3-9cda-36d982a961b5",
      "metadata": {
        "gather": {
          "logged": 1665603085598
        },
        "jupyter": {
          "outputs_hidden": false,
          "source_hidden": false
        },
        "nteract": {
          "transient": {
            "deleting": false
          }
        }
      },
      "outputs": [],
      "source": [
        "input_schema = {\n",
        "    \"type\": \"struct\",\n",
        "    \"fields\": [\n",
        "        {\n",
        "            \"name\": \"CheckingStatus\",\n",
        "            \"type\": \"string\",\n",
        "            \"nullable\": False\n",
        "        },\n",
        "        {\n",
        "            \"name\": \"LoanDuration\",\n",
        "            \"type\": \"integer\",\n",
        "            \"nullable\": False\n",
        "        },\n",
        "        {\n",
        "            \"name\": \"CreditHistory\",\n",
        "            \"type\": \"string\",\n",
        "            \"nullable\": False\n",
        "        },\n",
        "        {\n",
        "            \"name\": \"LoanPurpose\",\n",
        "            \"type\": \"string\",\n",
        "            \"nullable\": False\n",
        "        },\n",
        "        {\n",
        "            \"name\": \"LoanAmount\",\n",
        "            \"type\": \"integer\",\n",
        "            \"nullable\": False\n",
        "        },\n",
        "        {\n",
        "            \"name\": \"ExistingSavings\",\n",
        "            \"type\": \"string\",\n",
        "            \"nullable\": False\n",
        "        },\n",
        "        {\n",
        "            \"name\": \"EmploymentDuration\",\n",
        "            \"type\": \"string\",\n",
        "            \"nullable\": False\n",
        "        },\n",
        "        {\n",
        "            \"name\": \"InstallmentPercent\",\n",
        "            \"type\": \"integer\",\n",
        "            \"nullable\": False\n",
        "        },\n",
        "        {\n",
        "            \"name\": \"Sex\",\n",
        "            \"type\": \"string\",\n",
        "            \"nullable\": False\n",
        "        },\n",
        "        {\n",
        "            \"name\": \"OthersOnLoan\",\n",
        "            \"type\": \"string\",\n",
        "            \"nullable\": False\n",
        "        },\n",
        "        {\n",
        "            \"name\": \"CurrentResidenceDuration\",\n",
        "            \"type\": \"integer\",\n",
        "            \"nullable\": False\n",
        "        },\n",
        "        {\n",
        "            \"name\": \"OwnsProperty\",\n",
        "            \"type\": \"string\",\n",
        "            \"nullable\": False\n",
        "        },\n",
        "        {\n",
        "            \"name\": \"Age\",\n",
        "            \"type\": \"integer\",\n",
        "            \"nullable\": False\n",
        "        },\n",
        "        {\n",
        "            \"name\": \"InstallmentPlans\",\n",
        "            \"type\": \"string\",\n",
        "            \"nullable\": False\n",
        "        },\n",
        "        {\n",
        "            \"name\": \"Housing\",\n",
        "            \"type\": \"string\",\n",
        "            \"nullable\": False\n",
        "        },\n",
        "        {\n",
        "            \"name\": \"ExistingCreditsCount\",\n",
        "            \"type\": \"integer\",\n",
        "            \"nullable\": False\n",
        "        },\n",
        "        {\n",
        "            \"name\": \"Job\",\n",
        "            \"type\": \"string\",\n",
        "            \"nullable\": False\n",
        "        },\n",
        "        {\n",
        "            \"name\": \"Dependents\",\n",
        "            \"type\": \"integer\",\n",
        "            \"nullable\": False\n",
        "        },\n",
        "        {\n",
        "            \"name\": \"Telephone\",\n",
        "            \"type\": \"string\",\n",
        "            \"nullable\": False\n",
        "        },\n",
        "        {\n",
        "            \"name\": \"ForeignWorker\",\n",
        "            \"type\": \"string\",\n",
        "            \"nullable\": False\n",
        "        }\n",
        "    ]\n",
        "}"
      ]
    },
    {
      "cell_type": "code",
      "execution_count": 45,
      "id": "5d01dfd6-c47f-41d3-862b-7fec2b589b22",
      "metadata": {
        "gather": {
          "logged": 1665603086176
        },
        "jupyter": {
          "outputs_hidden": false,
          "source_hidden": false
        },
        "nteract": {
          "transient": {
            "deleting": false
          }
        }
      },
      "outputs": [],
      "source": [
        "output_schema = {\n",
        "    \"type\": \"struct\",\n",
        "    \"fields\": [\n",
        "        {\n",
        "            \"name\": \"CheckingStatus\",\n",
        "            \"type\": \"string\",\n",
        "            \"nullable\": False\n",
        "        },\n",
        "        {\n",
        "            \"name\": \"LoanDuration\",\n",
        "            \"type\": \"integer\",\n",
        "            \"nullable\": False\n",
        "        },\n",
        "        {\n",
        "            \"name\": \"CreditHistory\",\n",
        "            \"type\": \"string\",\n",
        "            \"nullable\": False\n",
        "        },\n",
        "        {\n",
        "            \"name\": \"LoanPurpose\",\n",
        "            \"type\": \"string\",\n",
        "            \"nullable\": False\n",
        "        },\n",
        "        {\n",
        "            \"name\": \"LoanAmount\",\n",
        "            \"type\": \"integer\",\n",
        "            \"nullable\": False\n",
        "        },\n",
        "        {\n",
        "            \"name\": \"ExistingSavings\",\n",
        "            \"type\": \"string\",\n",
        "            \"nullable\": False\n",
        "        },\n",
        "        {\n",
        "            \"name\": \"EmploymentDuration\",\n",
        "            \"type\": \"string\",\n",
        "            \"nullable\": False\n",
        "        },\n",
        "        {\n",
        "            \"name\": \"InstallmentPercent\",\n",
        "            \"type\": \"integer\",\n",
        "            \"nullable\": False\n",
        "        },\n",
        "        {\n",
        "            \"name\": \"Sex\",\n",
        "            \"type\": \"string\",\n",
        "            \"nullable\": False\n",
        "        },\n",
        "        {\n",
        "            \"name\": \"OthersOnLoan\",\n",
        "            \"type\": \"string\",\n",
        "            \"nullable\": False\n",
        "        },\n",
        "        {\n",
        "            \"name\": \"CurrentResidenceDuration\",\n",
        "            \"type\": \"integer\",\n",
        "            \"nullable\": False\n",
        "        },\n",
        "        {\n",
        "            \"name\": \"OwnsProperty\",\n",
        "            \"type\": \"string\",\n",
        "            \"nullable\": False\n",
        "        },\n",
        "        {\n",
        "            \"name\": \"Age\",\n",
        "            \"type\": \"integer\",\n",
        "            \"nullable\": False\n",
        "        },\n",
        "        {\n",
        "            \"name\": \"InstallmentPlans\",\n",
        "            \"type\": \"string\",\n",
        "            \"nullable\": False\n",
        "        },\n",
        "        {\n",
        "            \"name\": \"Housing\",\n",
        "            \"type\": \"string\",\n",
        "            \"nullable\": False\n",
        "        },\n",
        "        {\n",
        "            \"name\": \"ExistingCreditsCount\",\n",
        "            \"type\": \"integer\",\n",
        "            \"nullable\": False\n",
        "        },\n",
        "        {\n",
        "            \"name\": \"Job\",\n",
        "            \"type\": \"string\",\n",
        "            \"nullable\": False\n",
        "        },\n",
        "        {\n",
        "            \"name\": \"Dependents\",\n",
        "            \"type\": \"integer\",\n",
        "            \"nullable\": False\n",
        "        },\n",
        "        {\n",
        "            \"name\": \"Telephone\",\n",
        "            \"type\": \"string\",\n",
        "            \"nullable\": False\n",
        "        },\n",
        "        {\n",
        "            \"name\": \"ForeignWorker\",\n",
        "            \"type\": \"string\",\n",
        "            \"nullable\": False\n",
        "        },\n",
        "        {\n",
        "            \"name\": \"Scored Labels\",\n",
        "            \"type\": \"string\",\n",
        "            \"nullable\": False,\n",
        "            \"metadata\": {\n",
        "                \"modeling_role\": \"prediction\"\n",
        "            }\n",
        "        },\n",
        "        {\n",
        "            \"name\": \"Scored Probabilities\",\n",
        "            \"type\": \"double\",\n",
        "            \"nullable\": False,\n",
        "            \"metadata\": {\n",
        "                \"modeling_role\": \"class_probability\"\n",
        "            }\n",
        "        },\n",
        "        {\n",
        "            \"name\": \"ProbabilityVector\",\n",
        "            \"type\": {\n",
        "                \"type\": \"array\",\n",
        "                \"elementType\": \"double\",\n",
        "                \"containsNull\": False\n",
        "            },\n",
        "            \"nullable\": False,\n",
        "            \"metadata\": {\n",
        "                \"modeling_role\": \"probability\"\n",
        "            }\n",
        "        }\n",
        "    ]\n",
        "}"
      ]
    },
    {
      "cell_type": "markdown",
      "id": "c7192334-1dd4-4ade-971a-037323bc6d01",
      "metadata": {
        "nteract": {
          "transient": {
            "deleting": false
          }
        }
      },
      "source": [
        "## Add Subscription"
      ]
    },
    {
      "cell_type": "code",
      "execution_count": 46,
      "id": "e1fbaac6-01b8-4368-9e27-c9866cc39d89",
      "metadata": {
        "gather": {
          "logged": 1665603087169
        },
        "jupyter": {
          "outputs_hidden": false,
          "source_hidden": false
        },
        "nteract": {
          "transient": {
            "deleting": false
          }
        }
      },
      "outputs": [],
      "source": [
        "from ibm_watson_openscale.base_classes.watson_open_scale_v2 import ScoringEndpointRequest"
      ]
    },
    {
      "cell_type": "code",
      "execution_count": 47,
      "id": "ac9b0c62-1445-4a52-b8bd-3dd7ef6f6be5",
      "metadata": {
        "gather": {
          "logged": 1665603098407
        },
        "jupyter": {
          "outputs_hidden": false,
          "source_hidden": false
        },
        "nteract": {
          "transient": {
            "deleting": false
          }
        }
      },
      "outputs": [
        {
          "name": "stdout",
          "output_type": "stream",
          "text": [
            "\n",
            "\n",
            "=============================================================================\n",
            "\n",
            " Waiting for end of adding subscription bcb5d10c-644e-46ca-8701-2dea3414982e \n",
            "\n",
            "=============================================================================\n",
            "\n",
            "\n",
            "\n",
            "preparing\n",
            "active\n",
            "\n",
            "-------------------------------------------\n",
            " Successfully finished adding subscription \n",
            "-------------------------------------------\n",
            "\n",
            "\n"
          ]
        },
        {
          "data": {
            "text/plain": [
              "'bcb5d10c-644e-46ca-8701-2dea3414982e'"
            ]
          },
          "execution_count": 47,
          "metadata": {},
          "output_type": "execute_result"
        }
      ],
      "source": [
        "subscription_details = wos_client.subscriptions.add(\n",
        "        background_mode=False,\n",
        "        data_mart_id=data_mart_id,\n",
        "        service_provider_id=service_provider_id,\n",
        "        asset=Asset(\n",
        "            asset_id=model_asset_details[\"entity\"][\"asset\"][\"asset_id\"],\n",
        "            name=model_asset_details[\"entity\"][\"asset\"][\"name\"],\n",
        "            url=model_asset_details[\"entity\"][\"asset\"][\"url\"],\n",
        "            asset_type=AssetTypes.MODEL,\n",
        "            input_data_type=InputDataType.STRUCTURED,\n",
        "            problem_type=ProblemType.BINARY_CLASSIFICATION\n",
        "        ),\n",
        "        deployment=AssetDeploymentRequest(\n",
        "            deployment_id=model_asset_details['metadata']['guid'],\n",
        "            name=model_asset_details['entity']['name'],\n",
        "            deployment_type= DeploymentTypes.ONLINE,\n",
        "            url=model_asset_details['metadata']['url'],\n",
        "            scoring_endpoint=ScoringEndpointRequest(url = model_asset_details['entity']['scoring_endpoint'][\"url\"])\n",
        "        ),\n",
        "        asset_properties=AssetPropertiesRequest(\n",
        "            label_column = 'Risk',\n",
        "            prediction_field = 'Scored Labels',\n",
        "            probability_fields = ['Scored Probabilities'],\n",
        "            feature_fields = feature_columns,\n",
        "            categorical_fields = categorical_columns,\n",
        "            training_data_reference = TrainingDataReference(type = 'cos',\n",
        "                                                          location = COSTrainingDataReferenceLocation(bucket = BUCKET_NAME,\n",
        "                                                                                                    file_name = training_data_file_name),\n",
        "                                                          connection = COSTrainingDataReferenceConnection.from_dict({\n",
        "                                                                        \"resource_instance_id\": COS_RESOURCE_CRN,\n",
        "                                                                        \"url\": COS_ENDPOINT,\n",
        "                                                                        \"api_key\": COS_API_KEY_ID,\n",
        "                                                                        \"iam_url\": IAM_URL})),\n",
        "            training_data_schema = SparkStruct.from_dict(training_schema),\n",
        "            input_data_schema = SparkStruct.from_dict(input_schema),\n",
        "            output_data_schema = SparkStruct.from_dict(output_schema)\n",
        "        )\n",
        "    ).result\n",
        "subscription_id = subscription_details.metadata.id\n",
        "subscription_id"
      ]
    },
    {
      "cell_type": "markdown",
      "id": "5a7a0aba-8379-4ed2-8842-75e5d62c4396",
      "metadata": {
        "nteract": {
          "transient": {
            "deleting": false
          }
        }
      },
      "source": [
        "## Payload Logging"
      ]
    },
    {
      "cell_type": "code",
      "execution_count": 48,
      "id": "0f73a915-f710-4855-9bce-580f6453f081",
      "metadata": {
        "gather": {
          "logged": 1665603106127
        },
        "jupyter": {
          "outputs_hidden": false,
          "source_hidden": false
        },
        "nteract": {
          "transient": {
            "deleting": false
          }
        }
      },
      "outputs": [
        {
          "name": "stdout",
          "output_type": "stream",
          "text": [
            "Payload data set id:  4535e86f-b44e-4251-80a1-2822da6af8bd\n"
          ]
        }
      ],
      "source": [
        "import time\n",
        "\n",
        "time.sleep(5)\n",
        "payload_data_set_id = None\n",
        "payload_data_set_id = wos_client.data_sets.list(type=DataSetTypes.PAYLOAD_LOGGING, \n",
        "                                                target_target_id=subscription_id, \n",
        "                                                target_target_type=TargetTypes.SUBSCRIPTION).result.data_sets[0].metadata.id\n",
        "if payload_data_set_id is None:\n",
        "    print(\"Payload data set not found. Please check subscription status.\")\n",
        "else:\n",
        "    print(\"Payload data set id: \", payload_data_set_id)"
      ]
    },
    {
      "cell_type": "code",
      "execution_count": 49,
      "id": "39d3c870-b3b9-4324-a55c-b31ccafd2bee",
      "metadata": {
        "gather": {
          "logged": 1665603106526
        },
        "jupyter": {
          "outputs_hidden": false,
          "source_hidden": false
        },
        "nteract": {
          "transient": {
            "deleting": false
          }
        }
      },
      "outputs": [
        {
          "name": "stdout",
          "output_type": "stream",
          "text": [
            "{\n",
            "  \"output\": [\n",
            "    {\n",
            "      \"CheckingStatus\": \"no_checking\",\n",
            "      \"LoanDuration\": 32,\n",
            "      \"CreditHistory\": \"prior_payments_delayed\",\n",
            "      \"LoanPurpose\": \"education\",\n",
            "      \"LoanAmount\": 6332,\n",
            "      \"ExistingSavings\": \"100_to_500\",\n",
            "      \"EmploymentDuration\": \"4_to_7\",\n",
            "      \"InstallmentPercent\": 5,\n",
            "      \"Sex\": \"female\",\n",
            "      \"OthersOnLoan\": \"none\",\n",
            "      \"CurrentResidenceDuration\": 5,\n",
            "      \"OwnsProperty\": \"savings_insurance\",\n",
            "      \"Age\": 50,\n",
            "      \"InstallmentPlans\": \"none\",\n",
            "      \"Housing\": \"own\",\n",
            "      \"ExistingCreditsCount\": 2,\n",
            "      \"Job\": \"management_self-employed\",\n",
            "      \"Dependents\": 2,\n",
            "      \"Telephone\": \"yes\",\n",
            "      \"ForeignWorker\": \"yes\",\n",
            "      \"Scored Labels\": \"Risk\",\n",
            "      \"Scored Probabilities\": 0.6604160487788415,\n",
            "      \"ProbabilityVector\": [\n",
            "        0.3395839512211585,\n",
            "        0.6604160487788415\n",
            "      ]\n",
            "    },\n",
            "    {\n",
            "      \"CheckingStatus\": \"no_checking\",\n",
            "      \"LoanDuration\": 34,\n",
            "      \"CreditHistory\": \"prior_payments_delayed\",\n",
            "      \"LoanPurpose\": \"furniture\",\n",
            "      \"LoanAmount\": 4842,\n",
            "      \"ExistingSavings\": \"unknown\",\n",
            "      \"EmploymentDuration\": \"4_to_7\",\n",
            "      \"InstallmentPercent\": 4,\n",
            "      \"Sex\": \"male\",\n",
            "      \"OthersOnLoan\": \"none\",\n",
            "      \"CurrentResidenceDuration\": 3,\n",
            "      \"OwnsProperty\": \"unknown\",\n",
            "      \"Age\": 49,\n",
            "      \"InstallmentPlans\": \"none\",\n",
            "      \"Housing\": \"own\",\n",
            "      \"ExistingCreditsCount\": 3,\n",
            "      \"Job\": \"skilled\",\n",
            "      \"Dependents\": 2,\n",
            "      \"Telephone\": \"yes\",\n",
            "      \"ForeignWorker\": \"yes\",\n",
            "      \"Scored Labels\": \"Risk\",\n",
            "      \"Scored Probabilities\": 0.7091848324047734,\n",
            "      \"ProbabilityVector\": [\n",
            "        0.29081516759522663,\n",
            "        0.7091848324047734\n",
            "      ]\n",
            "    },\n",
            "    {\n",
            "      \"CheckingStatus\": \"no_checking\",\n",
            "      \"LoanDuration\": 35,\n",
            "      \"CreditHistory\": \"prior_payments_delayed\",\n",
            "      \"LoanPurpose\": \"radio_tv\",\n",
            "      \"LoanAmount\": 3714,\n",
            "      \"ExistingSavings\": \"500_to_1000\",\n",
            "      \"EmploymentDuration\": \"4_to_7\",\n",
            "      \"InstallmentPercent\": 4,\n",
            "      \"Sex\": \"female\",\n",
            "      \"OthersOnLoan\": \"none\",\n",
            "      \"CurrentResidenceDuration\": 4,\n",
            "      \"OwnsProperty\": \"unknown\",\n",
            "      \"Age\": 41,\n",
            "      \"InstallmentPlans\": \"bank\",\n",
            "      \"Housing\": \"own\",\n",
            "      \"ExistingCreditsCount\": 2,\n",
            "      \"Job\": \"unemployed\",\n",
            "      \"Dependents\": 1,\n",
            "      \"Telephone\": \"yes\",\n",
            "      \"ForeignWorker\": \"yes\",\n",
            "      \"Scored Labels\": \"Risk\",\n",
            "      \"Scored Probabilities\": 0.7120891179524814,\n",
            "      \"ProbabilityVector\": [\n",
            "        0.2879108820475186,\n",
            "        0.7120891179524814\n",
            "      ]\n",
            "    }\n",
            "  ]\n",
            "}\n"
          ]
        }
      ],
      "source": [
        "import requests\n",
        "import time\n",
        "import json\n",
        "\n",
        "subscription_details=wos_client.subscriptions.get(subscription_id).result.to_dict()\n",
        "scoring_url = subscription_details['entity']['deployment']['scoring_endpoint']['url']\n",
        "\n",
        "data = {\n",
        "    \"input\": train_data.sample(3).drop(['Risk'],axis=1).to_dict('records')\n",
        "    }\n",
        "\n",
        "body = str.encode(json.dumps(data))\n",
        "\n",
        "headers = model_asset_details['entity']['scoring_endpoint']['request_headers']\n",
        "\n",
        "start_time = time.time()\n",
        "response = requests.post(url=scoring_url, data=body, headers=headers)\n",
        "response_time = int(time.time() - start_time)*1000\n",
        "result = response.json()\n",
        "\n",
        "print(json.dumps(result, indent=2))"
      ]
    },
    {
      "cell_type": "markdown",
      "id": "e98f0818-c56d-4c72-b794-a3435b2a3fd0",
      "metadata": {
        "nteract": {
          "transient": {
            "deleting": false
          }
        }
      },
      "source": [
        "## Convert payload data format for OpenScale "
      ]
    },
    {
      "cell_type": "code",
      "execution_count": 50,
      "id": "7b0e2e87-905b-4df1-bff8-85ea99803898",
      "metadata": {
        "gather": {
          "logged": 1665603106867
        },
        "jupyter": {
          "outputs_hidden": false,
          "source_hidden": false
        },
        "nteract": {
          "transient": {
            "deleting": false
          }
        }
      },
      "outputs": [],
      "source": [
        "def convert_user_input_2_openscale(input_data):\n",
        "    users_records = input_data['input']\n",
        "    openscale_fields = list(users_records[0])\n",
        "    openscale_values = [[rec[k] for k in openscale_fields] for rec in users_records] \n",
        "\n",
        "    return {'fields':openscale_fields, 'values':openscale_values}"
      ]
    },
    {
      "cell_type": "code",
      "execution_count": 51,
      "id": "20c1e875-6586-42bf-a6a0-500f52d9f6c1",
      "metadata": {
        "gather": {
          "logged": 1665603107423
        },
        "jupyter": {
          "outputs_hidden": false,
          "source_hidden": false
        },
        "nteract": {
          "transient": {
            "deleting": false
          }
        }
      },
      "outputs": [],
      "source": [
        "import numpy as np\n",
        "def convert_user_output_2_openscale(output_data):\n",
        "    users_records = output_data['output']\n",
        "    openscale_fields = [\"Scored Labels\",\"Scored Probabilities\"]\n",
        "    openscale_values = [[np.double(rec[k]) if k=='Scored Probabilities' else rec[k] for k in openscale_fields ] for rec in users_records] \n",
        "\n",
        "    return {'fields':openscale_fields, 'values':openscale_values}"
      ]
    },
    {
      "cell_type": "code",
      "execution_count": 52,
      "id": "798cd332-d7b0-40e6-b9ee-6df31fe761aa",
      "metadata": {
        "gather": {
          "logged": 1665603107732
        },
        "jupyter": {
          "outputs_hidden": false,
          "source_hidden": false
        },
        "nteract": {
          "transient": {
            "deleting": false
          }
        }
      },
      "outputs": [],
      "source": [
        "openscale_input=convert_user_input_2_openscale(data)\n",
        "openscale_output=convert_user_output_2_openscale(result)"
      ]
    },
    {
      "cell_type": "markdown",
      "id": "f0128dba-ceef-47ce-8824-695b9ead44fc",
      "metadata": {
        "nteract": {
          "transient": {
            "deleting": false
          }
        }
      },
      "source": [
        "## Store the request and response in payload logging table"
      ]
    },
    {
      "cell_type": "code",
      "execution_count": 53,
      "id": "486cdc9f-9d6a-44d7-a5d0-02f0c64d152a",
      "metadata": {
        "gather": {
          "logged": 1665603111859
        },
        "jupyter": {
          "outputs_hidden": false,
          "source_hidden": false
        },
        "nteract": {
          "transient": {
            "deleting": false
          }
        }
      },
      "outputs": [
        {
          "name": "stdout",
          "output_type": "stream",
          "text": [
            "Performing explicit payload logging.....\n",
            "Number of records in the payload logging table: 3\n"
          ]
        }
      ],
      "source": [
        "import uuid\n",
        "from ibm_watson_openscale.supporting_classes.payload_record import PayloadRecord\n",
        "\n",
        "print(\"Performing explicit payload logging.....\")\n",
        "wos_client.data_sets.store_records(data_set_id=payload_data_set_id, request_body=[PayloadRecord(\n",
        "           scoring_id=str(uuid.uuid4()),\n",
        "           request=openscale_input,\n",
        "           response=openscale_output,\n",
        "           response_time=460\n",
        ")])\n",
        "time.sleep(5)\n",
        "pl_records_count = wos_client.data_sets.get_records_count(payload_data_set_id)\n",
        "print(\"Number of records in the payload logging table: {}\".format(pl_records_count))"
      ]
    },
    {
      "cell_type": "code",
      "execution_count": 54,
      "id": "08d00811-795f-4c5c-be8a-25da17547e75",
      "metadata": {
        "gather": {
          "logged": 1665603113916
        },
        "jupyter": {
          "outputs_hidden": false,
          "source_hidden": false
        },
        "nteract": {
          "transient": {
            "deleting": false
          }
        }
      },
      "outputs": [
        {
          "data": {
            "text/html": [
              "<HTML>\n",
              "        <body>\n",
              "            <h3>Data Set 4535e86f-b44e-4251-80a1-2822da6af8bd Records</h3>\n",
              "            <table style='border: 1px solid #dddddd; font-family: Courier'>\n",
              "                <th style='border: 1px solid #dddddd'>asset_revision</th><th style='border: 1px solid #dddddd'>LoanAmount</th><th style='border: 1px solid #dddddd'>scoring_id</th><th style='border: 1px solid #dddddd'>InstallmentPercent</th><th style='border: 1px solid #dddddd'>ExistingSavings</th><th style='border: 1px solid #dddddd'>scoring_timestamp</th><th style='border: 1px solid #dddddd'>prediction_probability</th><th style='border: 1px solid #dddddd'>ProbabilityVector</th><th style='border: 1px solid #dddddd'>CheckingStatus</th><th style='border: 1px solid #dddddd'>LoanPurpose</th><th style='border: 1px solid #dddddd'>Scored Probabilities</th><th style='border: 1px solid #dddddd'>Job</th><th style='border: 1px solid #dddddd'>InstallmentPlans</th><th style='border: 1px solid #dddddd'>OthersOnLoan</th><th style='border: 1px solid #dddddd'>LoanDuration</th><th style='border: 1px solid #dddddd'>Age</th><th style='border: 1px solid #dddddd'>CreditHistory</th><th style='border: 1px solid #dddddd'>CurrentResidenceDuration</th><th style='border: 1px solid #dddddd'>ForeignWorker</th><th style='border: 1px solid #dddddd'>Housing</th><th style='border: 1px solid #dddddd'>ExistingCreditsCount</th><th style='border: 1px solid #dddddd'>deployment_id</th><th style='border: 1px solid #dddddd'>Telephone</th><th style='border: 1px solid #dddddd'>Scored Labels</th><th style='border: 1px solid #dddddd'>Sex</th><th style='border: 1px solid #dddddd'>Dependents</th><th style='border: 1px solid #dddddd'>OwnsProperty</th><th style='border: 1px solid #dddddd'>EmploymentDuration</th>\n",
              "                <tr><td style='border: 1px solid #dddddd'>None</td><td style='border: 1px solid #dddddd'>6332</td><td style='border: 1px solid #dddddd'>1c85bbe3-9988-4342-b295-78321a30b149-1</td><td style='border: 1px solid #dddddd'>5</td><td style='border: 1px solid #dddddd'>100_to_500</td><td style='border: 1px solid #dddddd'>2022-10-12T19:31:46.437Z</td><td style='border: 1px solid #dddddd'>0.6604160487788415</td><td style='border: 1px solid #dddddd'>[0.6604160487788415, 0.3395839512211585]</td><td style='border: 1px solid #dddddd'>no_checking</td><td style='border: 1px solid #dddddd'>education</td><td style='border: 1px solid #dddddd'>0.6604160487788415</td><td style='border: 1px solid #dddddd'>management_self-employed</td><td style='border: 1px solid #dddddd'>none</td><td style='border: 1px solid #dddddd'>none</td><td style='border: 1px solid #dddddd'>32</td><td style='border: 1px solid #dddddd'>50</td><td style='border: 1px solid #dddddd'>prior_payments_delayed</td><td style='border: 1px solid #dddddd'>5</td><td style='border: 1px solid #dddddd'>yes</td><td style='border: 1px solid #dddddd'>own</td><td style='border: 1px solid #dddddd'>2</td><td style='border: 1px solid #dddddd'>678b5e4bd49125eb6f446c72bdad0661</td><td style='border: 1px solid #dddddd'>yes</td><td style='border: 1px solid #dddddd'>Risk</td><td style='border: 1px solid #dddddd'>female</td><td style='border: 1px solid #dddddd'>2</td><td style='border: 1px solid #dddddd'>savings_insurance</td><td style='border: 1px solid #dddddd'>4_to_7</td></tr><tr><td style='border: 1px solid #dddddd'>None</td><td style='border: 1px solid #dddddd'>4842</td><td style='border: 1px solid #dddddd'>1c85bbe3-9988-4342-b295-78321a30b149-2</td><td style='border: 1px solid #dddddd'>4</td><td style='border: 1px solid #dddddd'>unknown</td><td style='border: 1px solid #dddddd'>2022-10-12T19:31:46.437Z</td><td style='border: 1px solid #dddddd'>0.7091848324047734</td><td style='border: 1px solid #dddddd'>[0.7091848324047734, 0.2908151675952266]</td><td style='border: 1px solid #dddddd'>no_checking</td><td style='border: 1px solid #dddddd'>furniture</td><td style='border: 1px solid #dddddd'>0.7091848324047734</td><td style='border: 1px solid #dddddd'>skilled</td><td style='border: 1px solid #dddddd'>none</td><td style='border: 1px solid #dddddd'>none</td><td style='border: 1px solid #dddddd'>34</td><td style='border: 1px solid #dddddd'>49</td><td style='border: 1px solid #dddddd'>prior_payments_delayed</td><td style='border: 1px solid #dddddd'>3</td><td style='border: 1px solid #dddddd'>yes</td><td style='border: 1px solid #dddddd'>own</td><td style='border: 1px solid #dddddd'>3</td><td style='border: 1px solid #dddddd'>678b5e4bd49125eb6f446c72bdad0661</td><td style='border: 1px solid #dddddd'>yes</td><td style='border: 1px solid #dddddd'>Risk</td><td style='border: 1px solid #dddddd'>male</td><td style='border: 1px solid #dddddd'>2</td><td style='border: 1px solid #dddddd'>unknown</td><td style='border: 1px solid #dddddd'>4_to_7</td></tr><tr><td style='border: 1px solid #dddddd'>None</td><td style='border: 1px solid #dddddd'>3714</td><td style='border: 1px solid #dddddd'>1c85bbe3-9988-4342-b295-78321a30b149-3</td><td style='border: 1px solid #dddddd'>4</td><td style='border: 1px solid #dddddd'>500_to_1000</td><td style='border: 1px solid #dddddd'>2022-10-12T19:31:46.437Z</td><td style='border: 1px solid #dddddd'>0.7120891179524814</td><td style='border: 1px solid #dddddd'>[0.7120891179524814, 0.2879108820475186]</td><td style='border: 1px solid #dddddd'>no_checking</td><td style='border: 1px solid #dddddd'>radio_tv</td><td style='border: 1px solid #dddddd'>0.7120891179524814</td><td style='border: 1px solid #dddddd'>unemployed</td><td style='border: 1px solid #dddddd'>bank</td><td style='border: 1px solid #dddddd'>none</td><td style='border: 1px solid #dddddd'>35</td><td style='border: 1px solid #dddddd'>41</td><td style='border: 1px solid #dddddd'>prior_payments_delayed</td><td style='border: 1px solid #dddddd'>4</td><td style='border: 1px solid #dddddd'>yes</td><td style='border: 1px solid #dddddd'>own</td><td style='border: 1px solid #dddddd'>2</td><td style='border: 1px solid #dddddd'>678b5e4bd49125eb6f446c72bdad0661</td><td style='border: 1px solid #dddddd'>yes</td><td style='border: 1px solid #dddddd'>Risk</td><td style='border: 1px solid #dddddd'>female</td><td style='border: 1px solid #dddddd'>1</td><td style='border: 1px solid #dddddd'>unknown</td><td style='border: 1px solid #dddddd'>4_to_7</td></tr>\n",
              "            </table>\n",
              "        </body>\n",
              "        </HTML>"
            ],
            "text/plain": [
              "<IPython.core.display.HTML object>"
            ]
          },
          "metadata": {},
          "output_type": "display_data"
        }
      ],
      "source": [
        "wos_client.data_sets.show_records(data_set_id=payload_data_set_id)"
      ]
    },
    {
      "cell_type": "markdown",
      "id": "897191ab-2e22-4c17-b7b5-095fa4499d28",
      "metadata": {
        "nteract": {
          "transient": {
            "deleting": false
          }
        }
      },
      "source": [
        "## Feedback logging & quality (accuracy) monitoring"
      ]
    },
    {
      "cell_type": "markdown",
      "id": "b2417f31-6c17-4eb2-9430-50e59aa01a23",
      "metadata": {
        "nteract": {
          "transient": {
            "deleting": false
          }
        }
      },
      "source": [
        "## Enable Quality Monitoring"
      ]
    },
    {
      "cell_type": "code",
      "execution_count": 55,
      "id": "13c55286-cb5c-4296-9b6e-81f79455d67b",
      "metadata": {
        "gather": {
          "logged": 1665603130765
        },
        "jupyter": {
          "outputs_hidden": false,
          "source_hidden": false
        },
        "nteract": {
          "transient": {
            "deleting": false
          }
        }
      },
      "outputs": [
        {
          "name": "stdout",
          "output_type": "stream",
          "text": [
            "\n",
            "\n",
            "===================================================================================\n",
            "\n",
            " Waiting for end of monitor instance creation dbaa2dff-9c95-4a79-bfc0-08c29fdd67d0 \n",
            "\n",
            "===================================================================================\n",
            "\n",
            "\n",
            "\n",
            "active\n",
            "\n",
            "---------------------------------------\n",
            " Monitor instance successfully created \n",
            "---------------------------------------\n",
            "\n",
            "\n"
          ]
        },
        {
          "data": {
            "text/plain": [
              "'dbaa2dff-9c95-4a79-bfc0-08c29fdd67d0'"
            ]
          },
          "execution_count": 55,
          "metadata": {},
          "output_type": "execute_result"
        }
      ],
      "source": [
        "import time\n",
        "\n",
        "time.sleep(10)\n",
        "target = Target(\n",
        "        target_type=TargetTypes.SUBSCRIPTION,\n",
        "        target_id=subscription_id\n",
        ")\n",
        "parameters = {\n",
        "    \"min_feedback_data_size\": 10\n",
        "}\n",
        "thresholds = [\n",
        "                {\n",
        "                    \"metric_id\": \"area_under_roc\",\n",
        "                    \"type\": \"lower_limit\",\n",
        "                    \"value\": .80\n",
        "                }\n",
        "            ]\n",
        "quality_monitor_details = wos_client.monitor_instances.create(\n",
        "    data_mart_id=data_mart_id,\n",
        "    background_mode=False,\n",
        "    monitor_definition_id=wos_client.monitor_definitions.MONITORS.QUALITY.ID,\n",
        "    target=target,\n",
        "    parameters=parameters,\n",
        "    thresholds=thresholds\n",
        ").result\n",
        "quality_monitor_instance_id = quality_monitor_details.metadata.id\n",
        "quality_monitor_instance_id"
      ]
    },
    {
      "cell_type": "markdown",
      "id": "2096fe08-b08d-409f-b538-770876cfb935",
      "metadata": {
        "nteract": {
          "transient": {
            "deleting": false
          }
        }
      },
      "source": [
        "## Feedback records logging"
      ]
    },
    {
      "cell_type": "code",
      "execution_count": 56,
      "id": "98277ee8-0114-4555-80f6-961d3c7fe676",
      "metadata": {
        "jupyter": {
          "outputs_hidden": false,
          "source_hidden": false
        },
        "nteract": {
          "transient": {
            "deleting": false
          }
        }
      },
      "outputs": [
        {
          "name": "stdout",
          "output_type": "stream",
          "text": [
            "--2022-10-12 19:32:10--  https://raw.githubusercontent.com/IBM/watson-openscale-samples/main/IBM%20Cloud/WML/assets/data/credit_risk/additional_feedback_data_v2.json\r\n",
            "Resolving raw.githubusercontent.com (raw.githubusercontent.com)... 185.199.108.133, 185.199.110.133, 185.199.111.133, ...\r\n",
            "Connecting to raw.githubusercontent.com (raw.githubusercontent.com)|185.199.108.133|:443... connected.\r\n",
            "HTTP request sent, awaiting response... 200 OK\r\n",
            "Length: 50890 (50K) [text/plain]\r\n",
            "Saving to: ‘additional_feedback_data_v2.json’\r\n",
            "\r\n",
            "\r          additiona   0%[                    ]       0  --.-KB/s               \radditional_feedback 100%[===================>]  49.70K  --.-KB/s    in 0.01s   \r\n",
            "\r\n",
            "2022-10-12 19:32:10 (3.90 MB/s) - ‘additional_feedback_data_v2.json’ saved [50890/50890]\r\n",
            "\r\n"
          ]
        }
      ],
      "source": [
        "!rm additional_feedback_data_v2.json\n",
        "!wget https://raw.githubusercontent.com/IBM/watson-openscale-samples/main/IBM%20Cloud/WML/assets/data/credit_risk/additional_feedback_data_v2.json"
      ]
    },
    {
      "cell_type": "code",
      "execution_count": 57,
      "id": "4923817a-9dd9-4302-8e42-7f418214e531",
      "metadata": {
        "gather": {
          "logged": 1665603131696
        },
        "jupyter": {
          "outputs_hidden": false,
          "source_hidden": false
        },
        "nteract": {
          "transient": {
            "deleting": false
          }
        }
      },
      "outputs": [],
      "source": [
        "feedback_dataset_id = None\n",
        "feedback_dataset = wos_client.data_sets.list(type=DataSetTypes.FEEDBACK, \n",
        "                                                target_target_id=subscription_id, \n",
        "                                                target_target_type=TargetTypes.SUBSCRIPTION).result\n",
        "#print(feedback_dataset)\n",
        "feedback_dataset_id = feedback_dataset.data_sets[0].metadata.id\n",
        "if feedback_dataset_id is None:\n",
        "    print(\"Feedback data set not found. Please check quality monitor status.\")"
      ]
    },
    {
      "cell_type": "code",
      "execution_count": 58,
      "id": "25c25a0a-4ca9-44d6-82f3-e2378427ad15",
      "metadata": {
        "gather": {
          "logged": 1665603136750
        },
        "jupyter": {
          "outputs_hidden": false,
          "source_hidden": false
        },
        "nteract": {
          "transient": {
            "deleting": false
          }
        }
      },
      "outputs": [
        {
          "name": "stdout",
          "output_type": "stream",
          "text": [
            "\n",
            "\n",
            "==========================================================================================\n",
            "\n",
            " Waiting for end of storing records with request id: c0e0a3e5-500d-47c3-822e-080112a27263 \n",
            "\n",
            "==========================================================================================\n",
            "\n",
            "\n",
            "\n",
            "active\n",
            "\n",
            "---------------------------------------\n",
            " Successfully finished storing records \n",
            "---------------------------------------\n",
            "\n",
            "\n"
          ]
        },
        {
          "data": {
            "text/plain": [
              "<ibm_cloud_sdk_core.detailed_response.DetailedResponse at 0x7f395e9ed9a0>"
            ]
          },
          "execution_count": 58,
          "metadata": {},
          "output_type": "execute_result"
        }
      ],
      "source": [
        "with open('additional_feedback_data_v2.json') as feedback_file:\n",
        "    additional_feedback_data = json.load(feedback_file)\n",
        "wos_client.data_sets.store_records(feedback_dataset_id, request_body=additional_feedback_data, background_mode=False)"
      ]
    },
    {
      "cell_type": "code",
      "execution_count": 59,
      "id": "b01c83de-babc-4f40-b266-2dc8a1793069",
      "metadata": {
        "gather": {
          "logged": 1665603137109
        },
        "jupyter": {
          "outputs_hidden": false,
          "source_hidden": false
        },
        "nteract": {
          "transient": {
            "deleting": false
          }
        }
      },
      "outputs": [
        {
          "data": {
            "text/plain": [
              "98"
            ]
          },
          "execution_count": 59,
          "metadata": {},
          "output_type": "execute_result"
        }
      ],
      "source": [
        "wos_client.data_sets.get_records_count(data_set_id=feedback_dataset_id)"
      ]
    },
    {
      "cell_type": "code",
      "execution_count": 60,
      "id": "f0f2611a-b984-45de-97f1-34c159917c62",
      "metadata": {
        "gather": {
          "logged": 1665603149033
        },
        "jupyter": {
          "outputs_hidden": false,
          "source_hidden": false
        },
        "nteract": {
          "transient": {
            "deleting": false
          }
        }
      },
      "outputs": [
        {
          "name": "stdout",
          "output_type": "stream",
          "text": [
            "\n",
            "\n",
            "========================================================================\n",
            "\n",
            " Waiting for end of monitoring run 84ced599-4715-42f6-9916-20ac4cce334a \n",
            "\n",
            "========================================================================\n",
            "\n",
            "\n",
            "\n",
            "running\n",
            "finished\n",
            "\n",
            "---------------------------\n",
            " Successfully finished run \n",
            "---------------------------\n",
            "\n",
            "\n"
          ]
        }
      ],
      "source": [
        "run_details = wos_client.monitor_instances.run(monitor_instance_id=quality_monitor_instance_id, background_mode=False).result"
      ]
    },
    {
      "cell_type": "code",
      "execution_count": 61,
      "id": "0d69305c-f2b9-46b8-8c25-140fdb144ca9",
      "metadata": {
        "gather": {
          "logged": 1665603154524
        },
        "jupyter": {
          "outputs_hidden": false,
          "source_hidden": false
        },
        "nteract": {
          "transient": {
            "deleting": false
          }
        }
      },
      "outputs": [
        {
          "data": {
            "text/html": [
              "<HTML>\n",
              "        <body>\n",
              "            <h3>dbaa2dff-9c95-4a79-bfc0-08c29fdd67d0 Monitor Runs Metrics from: 2022-10-05 19:32:33.939982  till: 2022-10-12 19:32:33.939998</h3>\n",
              "            <table style='border: 1px solid #dddddd; font-family: Courier'>\n",
              "                <th style='border: 1px solid #dddddd'>ts</th><th style='border: 1px solid #dddddd'>id</th><th style='border: 1px solid #dddddd'>measurement_id</th><th style='border: 1px solid #dddddd'>value</th><th style='border: 1px solid #dddddd'>lower_limit</th><th style='border: 1px solid #dddddd'>upper_limit</th><th style='border: 1px solid #dddddd'>tags</th><th style='border: 1px solid #dddddd'>monitor_definition_id</th><th style='border: 1px solid #dddddd'>monitor_instance_id</th><th style='border: 1px solid #dddddd'>run_id</th><th style='border: 1px solid #dddddd'>target_type</th><th style='border: 1px solid #dddddd'>target_id</th>\n",
              "                <tr><td style='border: 1px solid #dddddd'>2022-10-12 19:32:17.376000+00:00</td><td style='border: 1px solid #dddddd'>true_positive_rate</td><td style='border: 1px solid #dddddd'>dbe0b84f-882f-4a33-be48-142b05d8904a</td><td style='border: 1px solid #dddddd'>0.48484848484848486</td><td style='border: 1px solid #dddddd'>None</td><td style='border: 1px solid #dddddd'>None</td><td style='border: 1px solid #dddddd'>['model_type:original']</td><td style='border: 1px solid #dddddd'>quality</td><td style='border: 1px solid #dddddd'>dbaa2dff-9c95-4a79-bfc0-08c29fdd67d0</td><td style='border: 1px solid #dddddd'>84ced599-4715-42f6-9916-20ac4cce334a</td><td style='border: 1px solid #dddddd'>subscription</td><td style='border: 1px solid #dddddd'>bcb5d10c-644e-46ca-8701-2dea3414982e</td></tr><tr><td style='border: 1px solid #dddddd'>2022-10-12 19:32:17.376000+00:00</td><td style='border: 1px solid #dddddd'>area_under_roc</td><td style='border: 1px solid #dddddd'>dbe0b84f-882f-4a33-be48-142b05d8904a</td><td style='border: 1px solid #dddddd'>0.703962703962704</td><td style='border: 1px solid #dddddd'>0.8</td><td style='border: 1px solid #dddddd'>None</td><td style='border: 1px solid #dddddd'>['model_type:original']</td><td style='border: 1px solid #dddddd'>quality</td><td style='border: 1px solid #dddddd'>dbaa2dff-9c95-4a79-bfc0-08c29fdd67d0</td><td style='border: 1px solid #dddddd'>84ced599-4715-42f6-9916-20ac4cce334a</td><td style='border: 1px solid #dddddd'>subscription</td><td style='border: 1px solid #dddddd'>bcb5d10c-644e-46ca-8701-2dea3414982e</td></tr><tr><td style='border: 1px solid #dddddd'>2022-10-12 19:32:17.376000+00:00</td><td style='border: 1px solid #dddddd'>precision</td><td style='border: 1px solid #dddddd'>dbe0b84f-882f-4a33-be48-142b05d8904a</td><td style='border: 1px solid #dddddd'>0.7619047619047619</td><td style='border: 1px solid #dddddd'>None</td><td style='border: 1px solid #dddddd'>None</td><td style='border: 1px solid #dddddd'>['model_type:original']</td><td style='border: 1px solid #dddddd'>quality</td><td style='border: 1px solid #dddddd'>dbaa2dff-9c95-4a79-bfc0-08c29fdd67d0</td><td style='border: 1px solid #dddddd'>84ced599-4715-42f6-9916-20ac4cce334a</td><td style='border: 1px solid #dddddd'>subscription</td><td style='border: 1px solid #dddddd'>bcb5d10c-644e-46ca-8701-2dea3414982e</td></tr><tr><td style='border: 1px solid #dddddd'>2022-10-12 19:32:17.376000+00:00</td><td style='border: 1px solid #dddddd'>f1_measure</td><td style='border: 1px solid #dddddd'>dbe0b84f-882f-4a33-be48-142b05d8904a</td><td style='border: 1px solid #dddddd'>0.5925925925925926</td><td style='border: 1px solid #dddddd'>None</td><td style='border: 1px solid #dddddd'>None</td><td style='border: 1px solid #dddddd'>['model_type:original']</td><td style='border: 1px solid #dddddd'>quality</td><td style='border: 1px solid #dddddd'>dbaa2dff-9c95-4a79-bfc0-08c29fdd67d0</td><td style='border: 1px solid #dddddd'>84ced599-4715-42f6-9916-20ac4cce334a</td><td style='border: 1px solid #dddddd'>subscription</td><td style='border: 1px solid #dddddd'>bcb5d10c-644e-46ca-8701-2dea3414982e</td></tr><tr><td style='border: 1px solid #dddddd'>2022-10-12 19:32:17.376000+00:00</td><td style='border: 1px solid #dddddd'>accuracy</td><td style='border: 1px solid #dddddd'>dbe0b84f-882f-4a33-be48-142b05d8904a</td><td style='border: 1px solid #dddddd'>0.7755102040816326</td><td style='border: 1px solid #dddddd'>None</td><td style='border: 1px solid #dddddd'>None</td><td style='border: 1px solid #dddddd'>['model_type:original']</td><td style='border: 1px solid #dddddd'>quality</td><td style='border: 1px solid #dddddd'>dbaa2dff-9c95-4a79-bfc0-08c29fdd67d0</td><td style='border: 1px solid #dddddd'>84ced599-4715-42f6-9916-20ac4cce334a</td><td style='border: 1px solid #dddddd'>subscription</td><td style='border: 1px solid #dddddd'>bcb5d10c-644e-46ca-8701-2dea3414982e</td></tr><tr><td style='border: 1px solid #dddddd'>2022-10-12 19:32:17.376000+00:00</td><td style='border: 1px solid #dddddd'>log_loss</td><td style='border: 1px solid #dddddd'>dbe0b84f-882f-4a33-be48-142b05d8904a</td><td style='border: 1px solid #dddddd'>0.43134754941884784</td><td style='border: 1px solid #dddddd'>None</td><td style='border: 1px solid #dddddd'>None</td><td style='border: 1px solid #dddddd'>['model_type:original']</td><td style='border: 1px solid #dddddd'>quality</td><td style='border: 1px solid #dddddd'>dbaa2dff-9c95-4a79-bfc0-08c29fdd67d0</td><td style='border: 1px solid #dddddd'>84ced599-4715-42f6-9916-20ac4cce334a</td><td style='border: 1px solid #dddddd'>subscription</td><td style='border: 1px solid #dddddd'>bcb5d10c-644e-46ca-8701-2dea3414982e</td></tr><tr><td style='border: 1px solid #dddddd'>2022-10-12 19:32:17.376000+00:00</td><td style='border: 1px solid #dddddd'>false_positive_rate</td><td style='border: 1px solid #dddddd'>dbe0b84f-882f-4a33-be48-142b05d8904a</td><td style='border: 1px solid #dddddd'>0.07692307692307693</td><td style='border: 1px solid #dddddd'>None</td><td style='border: 1px solid #dddddd'>None</td><td style='border: 1px solid #dddddd'>['model_type:original']</td><td style='border: 1px solid #dddddd'>quality</td><td style='border: 1px solid #dddddd'>dbaa2dff-9c95-4a79-bfc0-08c29fdd67d0</td><td style='border: 1px solid #dddddd'>84ced599-4715-42f6-9916-20ac4cce334a</td><td style='border: 1px solid #dddddd'>subscription</td><td style='border: 1px solid #dddddd'>bcb5d10c-644e-46ca-8701-2dea3414982e</td></tr><tr><td style='border: 1px solid #dddddd'>2022-10-12 19:32:17.376000+00:00</td><td style='border: 1px solid #dddddd'>area_under_pr</td><td style='border: 1px solid #dddddd'>dbe0b84f-882f-4a33-be48-142b05d8904a</td><td style='border: 1px solid #dddddd'>0.6523912595341167</td><td style='border: 1px solid #dddddd'>None</td><td style='border: 1px solid #dddddd'>None</td><td style='border: 1px solid #dddddd'>['model_type:original']</td><td style='border: 1px solid #dddddd'>quality</td><td style='border: 1px solid #dddddd'>dbaa2dff-9c95-4a79-bfc0-08c29fdd67d0</td><td style='border: 1px solid #dddddd'>84ced599-4715-42f6-9916-20ac4cce334a</td><td style='border: 1px solid #dddddd'>subscription</td><td style='border: 1px solid #dddddd'>bcb5d10c-644e-46ca-8701-2dea3414982e</td></tr><tr><td style='border: 1px solid #dddddd'>2022-10-12 19:32:17.376000+00:00</td><td style='border: 1px solid #dddddd'>recall</td><td style='border: 1px solid #dddddd'>dbe0b84f-882f-4a33-be48-142b05d8904a</td><td style='border: 1px solid #dddddd'>0.48484848484848486</td><td style='border: 1px solid #dddddd'>None</td><td style='border: 1px solid #dddddd'>None</td><td style='border: 1px solid #dddddd'>['model_type:original']</td><td style='border: 1px solid #dddddd'>quality</td><td style='border: 1px solid #dddddd'>dbaa2dff-9c95-4a79-bfc0-08c29fdd67d0</td><td style='border: 1px solid #dddddd'>84ced599-4715-42f6-9916-20ac4cce334a</td><td style='border: 1px solid #dddddd'>subscription</td><td style='border: 1px solid #dddddd'>bcb5d10c-644e-46ca-8701-2dea3414982e</td></tr>\n",
              "            </table>\n",
              "        </body>\n",
              "        </HTML>"
            ],
            "text/plain": [
              "<IPython.core.display.HTML object>"
            ]
          },
          "metadata": {},
          "output_type": "display_data"
        }
      ],
      "source": [
        "time.sleep(5)\n",
        "wos_client.monitor_instances.show_metrics(monitor_instance_id=quality_monitor_instance_id)"
      ]
    },
    {
      "cell_type": "markdown",
      "id": "cc831f4e-e3f5-4439-af3e-f6595e837749",
      "metadata": {
        "nteract": {
          "transient": {
            "deleting": false
          }
        }
      },
      "source": [
        "## Fairness, Drift monitoring and explanations"
      ]
    },
    {
      "cell_type": "code",
      "execution_count": 62,
      "id": "4398f36d-a88e-47db-9d7a-40d700cd8593",
      "metadata": {
        "gather": {
          "logged": 1665603155223
        },
        "jupyter": {
          "outputs_hidden": false,
          "source_hidden": false
        },
        "nteract": {
          "transient": {
            "deleting": false
          }
        }
      },
      "outputs": [
        {
          "data": {
            "text/html": [
              "<HTML>\n",
              "        <body>\n",
              "            <h3>Monitor instances</h3>\n",
              "            <table style='border: 1px solid #dddddd; font-family: Courier'>\n",
              "                <th style='border: 1px solid #dddddd'>data_mart_id</th><th style='border: 1px solid #dddddd'>status</th><th style='border: 1px solid #dddddd'>target_id</th><th style='border: 1px solid #dddddd'>target_type</th><th style='border: 1px solid #dddddd'>monitor_definition_id</th><th style='border: 1px solid #dddddd'>created_at</th><th style='border: 1px solid #dddddd'>id</th>\n",
              "                <tr><td style='border: 1px solid #dddddd'>00000000-0000-0000-0000-000000000000</td><td style='border: 1px solid #dddddd'>active</td><td style='border: 1px solid #dddddd'>bcb5d10c-644e-46ca-8701-2dea3414982e</td><td style='border: 1px solid #dddddd'>subscription</td><td style='border: 1px solid #dddddd'>quality</td><td style='border: 1px solid #dddddd'>2022-10-12 19:32:05.212000+00:00</td><td style='border: 1px solid #dddddd'>dbaa2dff-9c95-4a79-bfc0-08c29fdd67d0</td></tr><tr><td style='border: 1px solid #dddddd'>00000000-0000-0000-0000-000000000000</td><td style='border: 1px solid #dddddd'>active</td><td style='border: 1px solid #dddddd'>ca600f59-ba9b-47c1-a2b8-6aab6bcdc2a1</td><td style='border: 1px solid #dddddd'>subscription</td><td style='border: 1px solid #dddddd'>fairness</td><td style='border: 1px solid #dddddd'>2022-10-10 08:17:18.613000+00:00</td><td style='border: 1px solid #dddddd'>4929b2f9-6cc3-45b5-924b-9258a8438e5f</td></tr><tr><td style='border: 1px solid #dddddd'>00000000-0000-0000-0000-000000000000</td><td style='border: 1px solid #dddddd'>active</td><td style='border: 1px solid #dddddd'>ca600f59-ba9b-47c1-a2b8-6aab6bcdc2a1</td><td style='border: 1px solid #dddddd'>subscription</td><td style='border: 1px solid #dddddd'>drift</td><td style='border: 1px solid #dddddd'>2022-10-10 11:22:10.956000+00:00</td><td style='border: 1px solid #dddddd'>9711c84c-0084-4073-a2e1-a45c1fd4de5a</td></tr><tr><td style='border: 1px solid #dddddd'>00000000-0000-0000-0000-000000000000</td><td style='border: 1px solid #dddddd'>active</td><td style='border: 1px solid #dddddd'>dff28f4a-6a58-483c-bd17-583c3e9ddec9</td><td style='border: 1px solid #dddddd'>instance</td><td style='border: 1px solid #dddddd'>performance</td><td style='border: 1px solid #dddddd'>2022-10-12 12:06:21.282000+00:00</td><td style='border: 1px solid #dddddd'>b733e84f-8e9f-4d8e-a26d-564cfd52865c</td></tr><tr><td style='border: 1px solid #dddddd'>00000000-0000-0000-0000-000000000000</td><td style='border: 1px solid #dddddd'>active</td><td style='border: 1px solid #dddddd'>deb38751-958a-487a-b473-37c027d41796</td><td style='border: 1px solid #dddddd'>subscription</td><td style='border: 1px solid #dddddd'>mrm</td><td style='border: 1px solid #dddddd'>2022-10-10 12:08:47.171000+00:00</td><td style='border: 1px solid #dddddd'>e70a055d-2d92-468c-a0de-d5a8104479d7</td></tr><tr><td style='border: 1px solid #dddddd'>00000000-0000-0000-0000-000000000000</td><td style='border: 1px solid #dddddd'>active</td><td style='border: 1px solid #dddddd'>deb38751-958a-487a-b473-37c027d41796</td><td style='border: 1px solid #dddddd'>subscription</td><td style='border: 1px solid #dddddd'>performance</td><td style='border: 1px solid #dddddd'>2022-10-10 12:08:47.402000+00:00</td><td style='border: 1px solid #dddddd'>9699f5d0-3268-4658-9efc-5c04f4c09665</td></tr><tr><td style='border: 1px solid #dddddd'>00000000-0000-0000-0000-000000000000</td><td style='border: 1px solid #dddddd'>active</td><td style='border: 1px solid #dddddd'>ca600f59-ba9b-47c1-a2b8-6aab6bcdc2a1</td><td style='border: 1px solid #dddddd'>subscription</td><td style='border: 1px solid #dddddd'>mrm</td><td style='border: 1px solid #dddddd'>2022-10-10 08:20:12.909000+00:00</td><td style='border: 1px solid #dddddd'>4a5dc691-e780-4baf-94c7-efdfaf462906</td></tr><tr><td style='border: 1px solid #dddddd'>00000000-0000-0000-0000-000000000000</td><td style='border: 1px solid #dddddd'>error</td><td style='border: 1px solid #dddddd'>ca600f59-ba9b-47c1-a2b8-6aab6bcdc2a1</td><td style='border: 1px solid #dddddd'>subscription</td><td style='border: 1px solid #dddddd'>explainability</td><td style='border: 1px solid #dddddd'>2022-10-10 08:17:44.323000+00:00</td><td style='border: 1px solid #dddddd'>2a877386-ecdf-44dc-b344-032dcec11930</td></tr><tr><td style='border: 1px solid #dddddd'>00000000-0000-0000-0000-000000000000</td><td style='border: 1px solid #dddddd'>active</td><td style='border: 1px solid #dddddd'>ca600f59-ba9b-47c1-a2b8-6aab6bcdc2a1</td><td style='border: 1px solid #dddddd'>subscription</td><td style='border: 1px solid #dddddd'>quality</td><td style='border: 1px solid #dddddd'>2022-10-10 08:16:33.027000+00:00</td><td style='border: 1px solid #dddddd'>ae6c887b-142c-4e02-8359-b55f8425f613</td></tr>\n",
              "            </table>\n",
              "        </body>\n",
              "        </HTML>"
            ],
            "text/plain": [
              "<IPython.core.display.HTML object>"
            ]
          },
          "metadata": {},
          "output_type": "display_data"
        }
      ],
      "source": [
        "wos_client.monitor_instances.show()"
      ]
    },
    {
      "cell_type": "code",
      "execution_count": 63,
      "id": "8a79fdc1-71d9-4ee3-ac93-36c0c06635e4",
      "metadata": {
        "gather": {
          "logged": 1665603160239
        },
        "jupyter": {
          "outputs_hidden": false,
          "source_hidden": false
        },
        "nteract": {
          "transient": {
            "deleting": false
          }
        }
      },
      "outputs": [
        {
          "name": "stdout",
          "output_type": "stream",
          "text": [
            "\n",
            "\n",
            "===================================================================================\n",
            "\n",
            " Waiting for end of monitor instance creation eeca6120-7fce-4173-904c-77ca5c7f7c83 \n",
            "\n",
            "===================================================================================\n",
            "\n",
            "\n",
            "\n",
            "active\n",
            "\n",
            "---------------------------------------\n",
            " Monitor instance successfully created \n",
            "---------------------------------------\n",
            "\n",
            "\n"
          ]
        },
        {
          "data": {
            "text/plain": [
              "'eeca6120-7fce-4173-904c-77ca5c7f7c83'"
            ]
          },
          "execution_count": 63,
          "metadata": {},
          "output_type": "execute_result"
        }
      ],
      "source": [
        "target = Target(\n",
        "    target_type=TargetTypes.SUBSCRIPTION,\n",
        "    target_id=subscription_id\n",
        "\n",
        ")\n",
        "parameters = {\n",
        "    \"features\": [\n",
        "        {\"feature\": \"Sex\",\n",
        "         \"majority\": ['male'],\n",
        "         \"minority\": ['female'],\n",
        "         \"threshold\": 0.80\n",
        "         },\n",
        "        {\"feature\": \"Age\",\n",
        "         \"majority\": [[26, 75]],\n",
        "         \"minority\": [[18, 25]],\n",
        "         \"threshold\": 0.80\n",
        "         }\n",
        "    ],\n",
        "    \"favourable_class\": [\"No Risk\"],\n",
        "    \"unfavourable_class\": [\"Risk\"],\n",
        "    \"min_records\": 40\n",
        "}\n",
        "\n",
        "fairness_monitor_details = wos_client.monitor_instances.create(\n",
        "    data_mart_id=data_mart_id,\n",
        "    background_mode=False,\n",
        "    monitor_definition_id=wos_client.monitor_definitions.MONITORS.FAIRNESS.ID,\n",
        "    target=target,\n",
        "    parameters=parameters).result\n",
        "fairness_monitor_instance_id =fairness_monitor_details.metadata.id\n",
        "fairness_monitor_instance_id"
      ]
    },
    {
      "cell_type": "markdown",
      "id": "49609ca6-0627-444c-b77a-0fff4f72238f",
      "metadata": {
        "nteract": {
          "transient": {
            "deleting": false
          }
        }
      },
      "source": [
        "## Store the request and response in payload logging table"
      ]
    },
    {
      "cell_type": "code",
      "execution_count": 91,
      "id": "f755fbef-fe29-47c9-a567-92adb022b57c",
      "metadata": {
        "gather": {
          "logged": 1665603409375
        },
        "jupyter": {
          "outputs_hidden": false,
          "source_hidden": false
        },
        "nteract": {
          "transient": {
            "deleting": false
          }
        }
      },
      "outputs": [],
      "source": [
        "import requests\n",
        "import time\n",
        "import json\n",
        "\n",
        "scoring_url = subscription_details['entity']['deployment']['scoring_endpoint']['url']\n",
        "\n",
        "payload_data = {\n",
        "    \"input\": train_data.sample(180).drop(['Risk'],axis=1).to_dict('records')\n",
        "    }\n",
        "\n",
        "pl_body = str.encode(json.dumps(payload_data))\n",
        "\n",
        "headers = model_asset_details['entity']['scoring_endpoint']['request_headers']\n",
        "\n",
        "start_time = time.time()\n",
        "response = requests.post(url=scoring_url, data=pl_body, headers=headers)\n",
        "response_time = int(time.time() - start_time)*1000\n",
        "result = response.json()\n",
        "\n",
        "# print(json.dumps(result, indent=2))"
      ]
    },
    {
      "cell_type": "code",
      "execution_count": 92,
      "id": "92c7df42-839e-4d79-8952-ef52a856c5e2",
      "metadata": {
        "gather": {
          "logged": 1665603409755
        },
        "jupyter": {
          "outputs_hidden": false,
          "source_hidden": false
        },
        "nteract": {
          "transient": {
            "deleting": false
          }
        }
      },
      "outputs": [],
      "source": [
        "openscale_paylod_input=convert_user_input_2_openscale(payload_data)\n",
        "openscale_payload_output=convert_user_output_2_openscale(result)"
      ]
    },
    {
      "cell_type": "code",
      "execution_count": 93,
      "id": "0afce2a8-3b0b-4312-ac3f-1e4e708e13be",
      "metadata": {
        "gather": {
          "logged": 1665603415776
        },
        "jupyter": {
          "outputs_hidden": false,
          "source_hidden": false
        },
        "nteract": {
          "transient": {
            "deleting": false
          }
        }
      },
      "outputs": [
        {
          "name": "stdout",
          "output_type": "stream",
          "text": [
            "Performing explicit payload logging.....\n",
            "Number of records in the payload logging table: 363\n"
          ]
        }
      ],
      "source": [
        "import uuid\n",
        "from ibm_watson_openscale.supporting_classes.payload_record import PayloadRecord\n",
        "\n",
        "print(\"Performing explicit payload logging.....\")\n",
        "wos_client.data_sets.store_records(data_set_id=payload_data_set_id, request_body=[PayloadRecord(\n",
        "           scoring_id=str(uuid.uuid4()),\n",
        "           request=openscale_paylod_input,\n",
        "           response=openscale_payload_output,\n",
        "           response_time=460\n",
        ")])\n",
        "time.sleep(5)\n",
        "pl_records_count = wos_client.data_sets.get_records_count(payload_data_set_id)\n",
        "print(\"Number of records in the payload logging table: {}\".format(pl_records_count))"
      ]
    },
    {
      "cell_type": "code",
      "execution_count": 70,
      "id": "ac8f7494-2c7a-4c83-b456-6438062ff553",
      "metadata": {
        "gather": {
          "logged": 1665603172329
        },
        "jupyter": {
          "outputs_hidden": false,
          "source_hidden": false
        },
        "nteract": {
          "transient": {
            "deleting": false
          }
        }
      },
      "outputs": [
        {
          "data": {
            "text/html": [
              "<HTML>\n",
              "        <body>\n",
              "            <h3>Data Set 4535e86f-b44e-4251-80a1-2822da6af8bd Records</h3>\n",
              "            <table style='border: 1px solid #dddddd; font-family: Courier'>\n",
              "                <th style='border: 1px solid #dddddd'>asset_revision</th><th style='border: 1px solid #dddddd'>LoanAmount</th><th style='border: 1px solid #dddddd'>scoring_id</th><th style='border: 1px solid #dddddd'>InstallmentPercent</th><th style='border: 1px solid #dddddd'>ExistingSavings</th><th style='border: 1px solid #dddddd'>scoring_timestamp</th><th style='border: 1px solid #dddddd'>prediction_probability</th><th style='border: 1px solid #dddddd'>ProbabilityVector</th><th style='border: 1px solid #dddddd'>CheckingStatus</th><th style='border: 1px solid #dddddd'>LoanPurpose</th><th style='border: 1px solid #dddddd'>Scored Probabilities</th><th style='border: 1px solid #dddddd'>Job</th><th style='border: 1px solid #dddddd'>InstallmentPlans</th><th style='border: 1px solid #dddddd'>OthersOnLoan</th><th style='border: 1px solid #dddddd'>LoanDuration</th><th style='border: 1px solid #dddddd'>Age</th><th style='border: 1px solid #dddddd'>CreditHistory</th><th style='border: 1px solid #dddddd'>CurrentResidenceDuration</th><th style='border: 1px solid #dddddd'>ForeignWorker</th><th style='border: 1px solid #dddddd'>Housing</th><th style='border: 1px solid #dddddd'>ExistingCreditsCount</th><th style='border: 1px solid #dddddd'>deployment_id</th><th style='border: 1px solid #dddddd'>Telephone</th><th style='border: 1px solid #dddddd'>Scored Labels</th><th style='border: 1px solid #dddddd'>Sex</th><th style='border: 1px solid #dddddd'>Dependents</th><th style='border: 1px solid #dddddd'>OwnsProperty</th><th style='border: 1px solid #dddddd'>EmploymentDuration</th>\n",
              "                <tr><td style='border: 1px solid #dddddd'>None</td><td style='border: 1px solid #dddddd'>7497</td><td style='border: 1px solid #dddddd'>4371d63f-633c-424f-ae1f-c950ca3c757f-1</td><td style='border: 1px solid #dddddd'>5</td><td style='border: 1px solid #dddddd'>unknown</td><td style='border: 1px solid #dddddd'>2022-10-12T19:32:46.397Z</td><td style='border: 1px solid #dddddd'>0.7901690011573209</td><td style='border: 1px solid #dddddd'>[0.7901690011573209, 0.2098309988426791]</td><td style='border: 1px solid #dddddd'>no_checking</td><td style='border: 1px solid #dddddd'>repairs</td><td style='border: 1px solid #dddddd'>0.7901690011573209</td><td style='border: 1px solid #dddddd'>skilled</td><td style='border: 1px solid #dddddd'>none</td><td style='border: 1px solid #dddddd'>co-applicant</td><td style='border: 1px solid #dddddd'>41</td><td style='border: 1px solid #dddddd'>47</td><td style='border: 1px solid #dddddd'>prior_payments_delayed</td><td style='border: 1px solid #dddddd'>4</td><td style='border: 1px solid #dddddd'>no</td><td style='border: 1px solid #dddddd'>free</td><td style='border: 1px solid #dddddd'>2</td><td style='border: 1px solid #dddddd'>678b5e4bd49125eb6f446c72bdad0661</td><td style='border: 1px solid #dddddd'>none</td><td style='border: 1px solid #dddddd'>Risk</td><td style='border: 1px solid #dddddd'>male</td><td style='border: 1px solid #dddddd'>1</td><td style='border: 1px solid #dddddd'>car_other</td><td style='border: 1px solid #dddddd'>greater_7</td></tr><tr><td style='border: 1px solid #dddddd'>None</td><td style='border: 1px solid #dddddd'>250</td><td style='border: 1px solid #dddddd'>4371d63f-633c-424f-ae1f-c950ca3c757f-10</td><td style='border: 1px solid #dddddd'>2</td><td style='border: 1px solid #dddddd'>less_100</td><td style='border: 1px solid #dddddd'>2022-10-12T19:32:46.397Z</td><td style='border: 1px solid #dddddd'>0.9664101034802385</td><td style='border: 1px solid #dddddd'>[0.9664101034802385, 0.0335898965197615]</td><td style='border: 1px solid #dddddd'>0_to_200</td><td style='border: 1px solid #dddddd'>car_new</td><td style='border: 1px solid #dddddd'>0.9664101034802385</td><td style='border: 1px solid #dddddd'>management_self-employed</td><td style='border: 1px solid #dddddd'>none</td><td style='border: 1px solid #dddddd'>none</td><td style='border: 1px solid #dddddd'>4</td><td style='border: 1px solid #dddddd'>19</td><td style='border: 1px solid #dddddd'>all_credits_paid_back</td><td style='border: 1px solid #dddddd'>3</td><td style='border: 1px solid #dddddd'>yes</td><td style='border: 1px solid #dddddd'>rent</td><td style='border: 1px solid #dddddd'>1</td><td style='border: 1px solid #dddddd'>678b5e4bd49125eb6f446c72bdad0661</td><td style='border: 1px solid #dddddd'>none</td><td style='border: 1px solid #dddddd'>No Risk</td><td style='border: 1px solid #dddddd'>female</td><td style='border: 1px solid #dddddd'>1</td><td style='border: 1px solid #dddddd'>real_estate</td><td style='border: 1px solid #dddddd'>less_1</td></tr><tr><td style='border: 1px solid #dddddd'>None</td><td style='border: 1px solid #dddddd'>3782</td><td style='border: 1px solid #dddddd'>4371d63f-633c-424f-ae1f-c950ca3c757f-100</td><td style='border: 1px solid #dddddd'>4</td><td style='border: 1px solid #dddddd'>500_to_1000</td><td style='border: 1px solid #dddddd'>2022-10-12T19:32:46.397Z</td><td style='border: 1px solid #dddddd'>0.9110579600819487</td><td style='border: 1px solid #dddddd'>[0.9110579600819487, 0.0889420399180513]</td><td style='border: 1px solid #dddddd'>no_checking</td><td style='border: 1px solid #dddddd'>radio_tv</td><td style='border: 1px solid #dddddd'>0.9110579600819487</td><td style='border: 1px solid #dddddd'>skilled</td><td style='border: 1px solid #dddddd'>none</td><td style='border: 1px solid #dddddd'>none</td><td style='border: 1px solid #dddddd'>26</td><td style='border: 1px solid #dddddd'>45</td><td style='border: 1px solid #dddddd'>outstanding_credit</td><td style='border: 1px solid #dddddd'>3</td><td style='border: 1px solid #dddddd'>yes</td><td style='border: 1px solid #dddddd'>own</td><td style='border: 1px solid #dddddd'>1</td><td style='border: 1px solid #dddddd'>678b5e4bd49125eb6f446c72bdad0661</td><td style='border: 1px solid #dddddd'>yes</td><td style='border: 1px solid #dddddd'>Risk</td><td style='border: 1px solid #dddddd'>female</td><td style='border: 1px solid #dddddd'>2</td><td style='border: 1px solid #dddddd'>unknown</td><td style='border: 1px solid #dddddd'>4_to_7</td></tr><tr><td style='border: 1px solid #dddddd'>None</td><td style='border: 1px solid #dddddd'>6913</td><td style='border: 1px solid #dddddd'>4371d63f-633c-424f-ae1f-c950ca3c757f-101</td><td style='border: 1px solid #dddddd'>4</td><td style='border: 1px solid #dddddd'>500_to_1000</td><td style='border: 1px solid #dddddd'>2022-10-12T19:32:46.397Z</td><td style='border: 1px solid #dddddd'>0.929367649453932</td><td style='border: 1px solid #dddddd'>[0.929367649453932, 0.070632350546068]</td><td style='border: 1px solid #dddddd'>no_checking</td><td style='border: 1px solid #dddddd'>car_used</td><td style='border: 1px solid #dddddd'>0.929367649453932</td><td style='border: 1px solid #dddddd'>unskilled</td><td style='border: 1px solid #dddddd'>stores</td><td style='border: 1px solid #dddddd'>co-applicant</td><td style='border: 1px solid #dddddd'>23</td><td style='border: 1px solid #dddddd'>30</td><td style='border: 1px solid #dddddd'>outstanding_credit</td><td style='border: 1px solid #dddddd'>5</td><td style='border: 1px solid #dddddd'>yes</td><td style='border: 1px solid #dddddd'>own</td><td style='border: 1px solid #dddddd'>2</td><td style='border: 1px solid #dddddd'>678b5e4bd49125eb6f446c72bdad0661</td><td style='border: 1px solid #dddddd'>yes</td><td style='border: 1px solid #dddddd'>Risk</td><td style='border: 1px solid #dddddd'>female</td><td style='border: 1px solid #dddddd'>2</td><td style='border: 1px solid #dddddd'>unknown</td><td style='border: 1px solid #dddddd'>4_to_7</td></tr><tr><td style='border: 1px solid #dddddd'>None</td><td style='border: 1px solid #dddddd'>1288</td><td style='border: 1px solid #dddddd'>4371d63f-633c-424f-ae1f-c950ca3c757f-102</td><td style='border: 1px solid #dddddd'>3</td><td style='border: 1px solid #dddddd'>less_100</td><td style='border: 1px solid #dddddd'>2022-10-12T19:32:46.397Z</td><td style='border: 1px solid #dddddd'>0.7923102063870422</td><td style='border: 1px solid #dddddd'>[0.7923102063870422, 0.2076897936129578]</td><td style='border: 1px solid #dddddd'>less_0</td><td style='border: 1px solid #dddddd'>furniture</td><td style='border: 1px solid #dddddd'>0.7923102063870422</td><td style='border: 1px solid #dddddd'>skilled</td><td style='border: 1px solid #dddddd'>none</td><td style='border: 1px solid #dddddd'>none</td><td style='border: 1px solid #dddddd'>12</td><td style='border: 1px solid #dddddd'>34</td><td style='border: 1px solid #dddddd'>credits_paid_to_date</td><td style='border: 1px solid #dddddd'>3</td><td style='border: 1px solid #dddddd'>yes</td><td style='border: 1px solid #dddddd'>rent</td><td style='border: 1px solid #dddddd'>1</td><td style='border: 1px solid #dddddd'>678b5e4bd49125eb6f446c72bdad0661</td><td style='border: 1px solid #dddddd'>none</td><td style='border: 1px solid #dddddd'>No Risk</td><td style='border: 1px solid #dddddd'>female</td><td style='border: 1px solid #dddddd'>1</td><td style='border: 1px solid #dddddd'>car_other</td><td style='border: 1px solid #dddddd'>less_1</td></tr><tr><td style='border: 1px solid #dddddd'>None</td><td style='border: 1px solid #dddddd'>6654</td><td style='border: 1px solid #dddddd'>4371d63f-633c-424f-ae1f-c950ca3c757f-103</td><td style='border: 1px solid #dddddd'>3</td><td style='border: 1px solid #dddddd'>100_to_500</td><td style='border: 1px solid #dddddd'>2022-10-12T19:32:46.397Z</td><td style='border: 1px solid #dddddd'>0.8716361317530308</td><td style='border: 1px solid #dddddd'>[0.8716361317530308, 0.1283638682469692]</td><td style='border: 1px solid #dddddd'>no_checking</td><td style='border: 1px solid #dddddd'>car_used</td><td style='border: 1px solid #dddddd'>0.8716361317530308</td><td style='border: 1px solid #dddddd'>skilled</td><td style='border: 1px solid #dddddd'>none</td><td style='border: 1px solid #dddddd'>co-applicant</td><td style='border: 1px solid #dddddd'>30</td><td style='border: 1px solid #dddddd'>53</td><td style='border: 1px solid #dddddd'>prior_payments_delayed</td><td style='border: 1px solid #dddddd'>4</td><td style='border: 1px solid #dddddd'>yes</td><td style='border: 1px solid #dddddd'>free</td><td style='border: 1px solid #dddddd'>2</td><td style='border: 1px solid #dddddd'>678b5e4bd49125eb6f446c72bdad0661</td><td style='border: 1px solid #dddddd'>yes</td><td style='border: 1px solid #dddddd'>Risk</td><td style='border: 1px solid #dddddd'>female</td><td style='border: 1px solid #dddddd'>1</td><td style='border: 1px solid #dddddd'>car_other</td><td style='border: 1px solid #dddddd'>1_to_4</td></tr><tr><td style='border: 1px solid #dddddd'>None</td><td style='border: 1px solid #dddddd'>1056</td><td style='border: 1px solid #dddddd'>4371d63f-633c-424f-ae1f-c950ca3c757f-104</td><td style='border: 1px solid #dddddd'>2</td><td style='border: 1px solid #dddddd'>less_100</td><td style='border: 1px solid #dddddd'>2022-10-12T19:32:46.397Z</td><td style='border: 1px solid #dddddd'>0.8846500762183824</td><td style='border: 1px solid #dddddd'>[0.8846500762183824, 0.1153499237816176]</td><td style='border: 1px solid #dddddd'>less_0</td><td style='border: 1px solid #dddddd'>car_used</td><td style='border: 1px solid #dddddd'>0.8846500762183824</td><td style='border: 1px solid #dddddd'>skilled</td><td style='border: 1px solid #dddddd'>stores</td><td style='border: 1px solid #dddddd'>none</td><td style='border: 1px solid #dddddd'>12</td><td style='border: 1px solid #dddddd'>39</td><td style='border: 1px solid #dddddd'>prior_payments_delayed</td><td style='border: 1px solid #dddddd'>2</td><td style='border: 1px solid #dddddd'>yes</td><td style='border: 1px solid #dddddd'>own</td><td style='border: 1px solid #dddddd'>2</td><td style='border: 1px solid #dddddd'>678b5e4bd49125eb6f446c72bdad0661</td><td style='border: 1px solid #dddddd'>none</td><td style='border: 1px solid #dddddd'>No Risk</td><td style='border: 1px solid #dddddd'>male</td><td style='border: 1px solid #dddddd'>1</td><td style='border: 1px solid #dddddd'>car_other</td><td style='border: 1px solid #dddddd'>4_to_7</td></tr><tr><td style='border: 1px solid #dddddd'>None</td><td style='border: 1px solid #dddddd'>250</td><td style='border: 1px solid #dddddd'>4371d63f-633c-424f-ae1f-c950ca3c757f-105</td><td style='border: 1px solid #dddddd'>2</td><td style='border: 1px solid #dddddd'>less_100</td><td style='border: 1px solid #dddddd'>2022-10-12T19:32:46.397Z</td><td style='border: 1px solid #dddddd'>0.8402308706083724</td><td style='border: 1px solid #dddddd'>[0.8402308706083724, 0.1597691293916276]</td><td style='border: 1px solid #dddddd'>less_0</td><td style='border: 1px solid #dddddd'>car_used</td><td style='border: 1px solid #dddddd'>0.8402308706083724</td><td style='border: 1px solid #dddddd'>skilled</td><td style='border: 1px solid #dddddd'>none</td><td style='border: 1px solid #dddddd'>none</td><td style='border: 1px solid #dddddd'>14</td><td style='border: 1px solid #dddddd'>23</td><td style='border: 1px solid #dddddd'>all_credits_paid_back</td><td style='border: 1px solid #dddddd'>3</td><td style='border: 1px solid #dddddd'>yes</td><td style='border: 1px solid #dddddd'>own</td><td style='border: 1px solid #dddddd'>1</td><td style='border: 1px solid #dddddd'>678b5e4bd49125eb6f446c72bdad0661</td><td style='border: 1px solid #dddddd'>none</td><td style='border: 1px solid #dddddd'>No Risk</td><td style='border: 1px solid #dddddd'>female</td><td style='border: 1px solid #dddddd'>1</td><td style='border: 1px solid #dddddd'>savings_insurance</td><td style='border: 1px solid #dddddd'>1_to_4</td></tr><tr><td style='border: 1px solid #dddddd'>None</td><td style='border: 1px solid #dddddd'>1895</td><td style='border: 1px solid #dddddd'>4371d63f-633c-424f-ae1f-c950ca3c757f-106</td><td style='border: 1px solid #dddddd'>2</td><td style='border: 1px solid #dddddd'>less_100</td><td style='border: 1px solid #dddddd'>2022-10-12T19:32:46.397Z</td><td style='border: 1px solid #dddddd'>0.9896689166300867</td><td style='border: 1px solid #dddddd'>[0.9896689166300867, 0.0103310833699133]</td><td style='border: 1px solid #dddddd'>less_0</td><td style='border: 1px solid #dddddd'>car_used</td><td style='border: 1px solid #dddddd'>0.9896689166300867</td><td style='border: 1px solid #dddddd'>unskilled</td><td style='border: 1px solid #dddddd'>stores</td><td style='border: 1px solid #dddddd'>none</td><td style='border: 1px solid #dddddd'>8</td><td style='border: 1px solid #dddddd'>39</td><td style='border: 1px solid #dddddd'>all_credits_paid_back</td><td style='border: 1px solid #dddddd'>2</td><td style='border: 1px solid #dddddd'>yes</td><td style='border: 1px solid #dddddd'>own</td><td style='border: 1px solid #dddddd'>1</td><td style='border: 1px solid #dddddd'>678b5e4bd49125eb6f446c72bdad0661</td><td style='border: 1px solid #dddddd'>none</td><td style='border: 1px solid #dddddd'>No Risk</td><td style='border: 1px solid #dddddd'>female</td><td style='border: 1px solid #dddddd'>1</td><td style='border: 1px solid #dddddd'>real_estate</td><td style='border: 1px solid #dddddd'>less_1</td></tr><tr><td style='border: 1px solid #dddddd'>None</td><td style='border: 1px solid #dddddd'>7860</td><td style='border: 1px solid #dddddd'>4371d63f-633c-424f-ae1f-c950ca3c757f-107</td><td style='border: 1px solid #dddddd'>3</td><td style='border: 1px solid #dddddd'>100_to_500</td><td style='border: 1px solid #dddddd'>2022-10-12T19:32:46.397Z</td><td style='border: 1px solid #dddddd'>0.8713222200467455</td><td style='border: 1px solid #dddddd'>[0.8713222200467455, 0.1286777799532545]</td><td style='border: 1px solid #dddddd'>no_checking</td><td style='border: 1px solid #dddddd'>business</td><td style='border: 1px solid #dddddd'>0.8713222200467455</td><td style='border: 1px solid #dddddd'>management_self-employed</td><td style='border: 1px solid #dddddd'>none</td><td style='border: 1px solid #dddddd'>none</td><td style='border: 1px solid #dddddd'>28</td><td style='border: 1px solid #dddddd'>42</td><td style='border: 1px solid #dddddd'>prior_payments_delayed</td><td style='border: 1px solid #dddddd'>4</td><td style='border: 1px solid #dddddd'>yes</td><td style='border: 1px solid #dddddd'>own</td><td style='border: 1px solid #dddddd'>2</td><td style='border: 1px solid #dddddd'>678b5e4bd49125eb6f446c72bdad0661</td><td style='border: 1px solid #dddddd'>none</td><td style='border: 1px solid #dddddd'>No Risk</td><td style='border: 1px solid #dddddd'>male</td><td style='border: 1px solid #dddddd'>1</td><td style='border: 1px solid #dddddd'>savings_insurance</td><td style='border: 1px solid #dddddd'>1_to_4</td></tr>\n",
              "            </table>\n",
              "        </body>\n",
              "        </HTML>"
            ],
            "text/plain": [
              "<IPython.core.display.HTML object>"
            ]
          },
          "metadata": {},
          "output_type": "display_data"
        }
      ],
      "source": [
        "wos_client.data_sets.show_records(payload_data_set_id)"
      ]
    },
    {
      "cell_type": "code",
      "execution_count": 71,
      "id": "eea16076-dfa5-4a88-bc65-faadbd63aece",
      "metadata": {
        "gather": {
          "logged": 1665603187969
        },
        "jupyter": {
          "outputs_hidden": false,
          "source_hidden": false
        },
        "nteract": {
          "transient": {
            "deleting": false
          }
        }
      },
      "outputs": [
        {
          "name": "stdout",
          "output_type": "stream",
          "text": [
            "\n",
            "\n",
            "========================================================================\n",
            "\n",
            " Waiting for end of monitoring run 9096339f-afc5-4b92-867d-fc0ec1a12db5 \n",
            "\n",
            "========================================================================\n",
            "\n",
            "\n",
            "\n",
            "running.\n",
            "finished\n",
            "\n",
            "---------------------------\n",
            " Successfully finished run \n",
            "---------------------------\n",
            "\n",
            "\n"
          ]
        }
      ],
      "source": [
        "run_details = wos_client.monitor_instances.run(monitor_instance_id=fairness_monitor_instance_id, background_mode=False)"
      ]
    },
    {
      "cell_type": "code",
      "execution_count": 72,
      "id": "4e563c06-67f4-4941-b1db-032ed3d70414",
      "metadata": {
        "gather": {
          "logged": 1665603198603
        },
        "jupyter": {
          "outputs_hidden": false,
          "source_hidden": false
        },
        "nteract": {
          "transient": {
            "deleting": false
          }
        }
      },
      "outputs": [
        {
          "data": {
            "text/html": [
              "<HTML>\n",
              "        <body>\n",
              "            <h3>eeca6120-7fce-4173-904c-77ca5c7f7c83 Monitor Runs Metrics from: 2022-10-05 19:33:17.876186  till: 2022-10-12 19:33:17.876196</h3>\n",
              "            <table style='border: 1px solid #dddddd; font-family: Courier'>\n",
              "                <th style='border: 1px solid #dddddd'>ts</th><th style='border: 1px solid #dddddd'>id</th><th style='border: 1px solid #dddddd'>measurement_id</th><th style='border: 1px solid #dddddd'>value</th><th style='border: 1px solid #dddddd'>lower_limit</th><th style='border: 1px solid #dddddd'>upper_limit</th><th style='border: 1px solid #dddddd'>tags</th><th style='border: 1px solid #dddddd'>monitor_definition_id</th><th style='border: 1px solid #dddddd'>monitor_instance_id</th><th style='border: 1px solid #dddddd'>run_id</th><th style='border: 1px solid #dddddd'>target_type</th><th style='border: 1px solid #dddddd'>target_id</th>\n",
              "                <tr><td style='border: 1px solid #dddddd'>2022-10-12 19:33:01.354331+00:00</td><td style='border: 1px solid #dddddd'>fairness_value</td><td style='border: 1px solid #dddddd'>5e167d7a-4b4c-479d-815c-b959b05c93bb</td><td style='border: 1px solid #dddddd'>85.714</td><td style='border: 1px solid #dddddd'>80.0</td><td style='border: 1px solid #dddddd'>None</td><td style='border: 1px solid #dddddd'>['feature:Sex', 'fairness_metric_type:debiased_fairness', 'feature_value:female']</td><td style='border: 1px solid #dddddd'>fairness</td><td style='border: 1px solid #dddddd'>eeca6120-7fce-4173-904c-77ca5c7f7c83</td><td style='border: 1px solid #dddddd'>9096339f-afc5-4b92-867d-fc0ec1a12db5</td><td style='border: 1px solid #dddddd'>subscription</td><td style='border: 1px solid #dddddd'>bcb5d10c-644e-46ca-8701-2dea3414982e</td></tr><tr><td style='border: 1px solid #dddddd'>2022-10-12 19:33:01.354331+00:00</td><td style='border: 1px solid #dddddd'>fairness_value</td><td style='border: 1px solid #dddddd'>5e167d7a-4b4c-479d-815c-b959b05c93bb</td><td style='border: 1px solid #dddddd'>100.0</td><td style='border: 1px solid #dddddd'>80.0</td><td style='border: 1px solid #dddddd'>None</td><td style='border: 1px solid #dddddd'>['feature:Age', 'fairness_metric_type:debiased_fairness', 'feature_value:18-25']</td><td style='border: 1px solid #dddddd'>fairness</td><td style='border: 1px solid #dddddd'>eeca6120-7fce-4173-904c-77ca5c7f7c83</td><td style='border: 1px solid #dddddd'>9096339f-afc5-4b92-867d-fc0ec1a12db5</td><td style='border: 1px solid #dddddd'>subscription</td><td style='border: 1px solid #dddddd'>bcb5d10c-644e-46ca-8701-2dea3414982e</td></tr><tr><td style='border: 1px solid #dddddd'>2022-10-12 19:33:01.354331+00:00</td><td style='border: 1px solid #dddddd'>fairness_value</td><td style='border: 1px solid #dddddd'>a4dc62c2-6bdb-48f8-8a99-d09c6e2d93ce</td><td style='border: 1px solid #dddddd'>85.714</td><td style='border: 1px solid #dddddd'>80.0</td><td style='border: 1px solid #dddddd'>None</td><td style='border: 1px solid #dddddd'>['feature:Sex', 'fairness_metric_type:fairness', 'feature_value:female']</td><td style='border: 1px solid #dddddd'>fairness</td><td style='border: 1px solid #dddddd'>eeca6120-7fce-4173-904c-77ca5c7f7c83</td><td style='border: 1px solid #dddddd'>9096339f-afc5-4b92-867d-fc0ec1a12db5</td><td style='border: 1px solid #dddddd'>subscription</td><td style='border: 1px solid #dddddd'>bcb5d10c-644e-46ca-8701-2dea3414982e</td></tr><tr><td style='border: 1px solid #dddddd'>2022-10-12 19:33:01.354331+00:00</td><td style='border: 1px solid #dddddd'>fairness_value</td><td style='border: 1px solid #dddddd'>a4dc62c2-6bdb-48f8-8a99-d09c6e2d93ce</td><td style='border: 1px solid #dddddd'>100.0</td><td style='border: 1px solid #dddddd'>80.0</td><td style='border: 1px solid #dddddd'>None</td><td style='border: 1px solid #dddddd'>['feature:Age', 'fairness_metric_type:fairness', 'feature_value:18-25']</td><td style='border: 1px solid #dddddd'>fairness</td><td style='border: 1px solid #dddddd'>eeca6120-7fce-4173-904c-77ca5c7f7c83</td><td style='border: 1px solid #dddddd'>9096339f-afc5-4b92-867d-fc0ec1a12db5</td><td style='border: 1px solid #dddddd'>subscription</td><td style='border: 1px solid #dddddd'>bcb5d10c-644e-46ca-8701-2dea3414982e</td></tr>\n",
              "            </table>\n",
              "        </body>\n",
              "        </HTML>"
            ],
            "text/plain": [
              "<IPython.core.display.HTML object>"
            ]
          },
          "metadata": {},
          "output_type": "display_data"
        }
      ],
      "source": [
        "time.sleep(10)\n",
        "\n",
        "wos_client.monitor_instances.show_metrics(monitor_instance_id=fairness_monitor_instance_id)"
      ]
    },
    {
      "cell_type": "markdown",
      "id": "35baffe5-21c9-442a-b511-c66de5eb5f1f",
      "metadata": {
        "nteract": {
          "transient": {
            "deleting": false
          }
        }
      },
      "source": [
        "## Enable Explainability configuration"
      ]
    },
    {
      "cell_type": "code",
      "execution_count": 73,
      "id": "e26b6f82-4516-48c0-9248-7da7dd53a9ed",
      "metadata": {
        "gather": {
          "logged": 1665603220578
        },
        "jupyter": {
          "outputs_hidden": false,
          "source_hidden": false
        },
        "nteract": {
          "transient": {
            "deleting": false
          }
        }
      },
      "outputs": [
        {
          "name": "stdout",
          "output_type": "stream",
          "text": [
            "\n",
            "\n",
            "===================================================================================\n",
            "\n",
            " Waiting for end of monitor instance creation 74eab88e-f6ba-4356-883d-9779b2873b48 \n",
            "\n",
            "===================================================================================\n",
            "\n",
            "\n",
            "\n",
            "active\n",
            "\n",
            "---------------------------------------\n",
            " Monitor instance successfully created \n",
            "---------------------------------------\n",
            "\n",
            "\n"
          ]
        },
        {
          "data": {
            "text/plain": [
              "'74eab88e-f6ba-4356-883d-9779b2873b48'"
            ]
          },
          "execution_count": 73,
          "metadata": {},
          "output_type": "execute_result"
        }
      ],
      "source": [
        "target = Target(\n",
        "    target_type=TargetTypes.SUBSCRIPTION,\n",
        "    target_id=subscription_id\n",
        ")\n",
        "parameters = {\n",
        "    \"enabled\": True\n",
        "}\n",
        "explainability_details = wos_client.monitor_instances.create(\n",
        "    data_mart_id=data_mart_id,\n",
        "    background_mode=False,\n",
        "    monitor_definition_id=wos_client.monitor_definitions.MONITORS.EXPLAINABILITY.ID,\n",
        "    target=target,\n",
        "    parameters=parameters\n",
        ").result\n",
        "\n",
        "explainability_monitor_id = explainability_details.metadata.id\n",
        "explainability_monitor_id"
      ]
    },
    {
      "cell_type": "code",
      "execution_count": 74,
      "id": "21f269a3-5ecf-4d88-aea1-bc4a30fc00ba",
      "metadata": {
        "gather": {
          "logged": 1665603221073
        },
        "jupyter": {
          "outputs_hidden": false,
          "source_hidden": false
        },
        "nteract": {
          "transient": {
            "deleting": false
          }
        }
      },
      "outputs": [
        {
          "data": {
            "text/html": [
              "<HTML>\n",
              "        <body>\n",
              "            <h3>Data Set 4535e86f-b44e-4251-80a1-2822da6af8bd Records</h3>\n",
              "            <table style='border: 1px solid #dddddd; font-family: Courier'>\n",
              "                <th style='border: 1px solid #dddddd'>asset_revision</th><th style='border: 1px solid #dddddd'>debiased_probability</th><th style='border: 1px solid #dddddd'>LoanAmount</th><th style='border: 1px solid #dddddd'>scoring_id</th><th style='border: 1px solid #dddddd'>InstallmentPercent</th><th style='border: 1px solid #dddddd'>ExistingSavings</th><th style='border: 1px solid #dddddd'>scoring_timestamp</th><th style='border: 1px solid #dddddd'>prediction_probability</th><th style='border: 1px solid #dddddd'>ProbabilityVector</th><th style='border: 1px solid #dddddd'>CheckingStatus</th><th style='border: 1px solid #dddddd'>LoanPurpose</th><th style='border: 1px solid #dddddd'>Scored Probabilities</th><th style='border: 1px solid #dddddd'>Job</th><th style='border: 1px solid #dddddd'>InstallmentPlans</th><th style='border: 1px solid #dddddd'>OthersOnLoan</th><th style='border: 1px solid #dddddd'>LoanDuration</th><th style='border: 1px solid #dddddd'>Age</th><th style='border: 1px solid #dddddd'>CreditHistory</th><th style='border: 1px solid #dddddd'>CurrentResidenceDuration</th><th style='border: 1px solid #dddddd'>ForeignWorker</th><th style='border: 1px solid #dddddd'>Housing</th><th style='border: 1px solid #dddddd'>ExistingCreditsCount</th><th style='border: 1px solid #dddddd'>deployment_id</th><th style='border: 1px solid #dddddd'>Telephone</th><th style='border: 1px solid #dddddd'>Scored Labels</th><th style='border: 1px solid #dddddd'>Sex</th><th style='border: 1px solid #dddddd'>Dependents</th><th style='border: 1px solid #dddddd'>OwnsProperty</th><th style='border: 1px solid #dddddd'>EmploymentDuration</th><th style='border: 1px solid #dddddd'>debiased_prediction</th>\n",
              "                <tr><td style='border: 1px solid #dddddd'>None</td><td style='border: 1px solid #dddddd'>[0.7901690011573209, 0.2098309988426791]</td><td style='border: 1px solid #dddddd'>7497</td><td style='border: 1px solid #dddddd'>4371d63f-633c-424f-ae1f-c950ca3c757f-1</td><td style='border: 1px solid #dddddd'>5</td><td style='border: 1px solid #dddddd'>unknown</td><td style='border: 1px solid #dddddd'>2022-10-12T19:32:46.397Z</td><td style='border: 1px solid #dddddd'>0.7901690011573209</td><td style='border: 1px solid #dddddd'>[0.7901690011573209, 0.2098309988426791]</td><td style='border: 1px solid #dddddd'>no_checking</td><td style='border: 1px solid #dddddd'>repairs</td><td style='border: 1px solid #dddddd'>0.7901690011573209</td><td style='border: 1px solid #dddddd'>skilled</td><td style='border: 1px solid #dddddd'>none</td><td style='border: 1px solid #dddddd'>co-applicant</td><td style='border: 1px solid #dddddd'>41</td><td style='border: 1px solid #dddddd'>47</td><td style='border: 1px solid #dddddd'>prior_payments_delayed</td><td style='border: 1px solid #dddddd'>4</td><td style='border: 1px solid #dddddd'>no</td><td style='border: 1px solid #dddddd'>free</td><td style='border: 1px solid #dddddd'>2</td><td style='border: 1px solid #dddddd'>678b5e4bd49125eb6f446c72bdad0661</td><td style='border: 1px solid #dddddd'>none</td><td style='border: 1px solid #dddddd'>Risk</td><td style='border: 1px solid #dddddd'>male</td><td style='border: 1px solid #dddddd'>1</td><td style='border: 1px solid #dddddd'>car_other</td><td style='border: 1px solid #dddddd'>greater_7</td><td style='border: 1px solid #dddddd'>Risk</td></tr><tr><td style='border: 1px solid #dddddd'>None</td><td style='border: 1px solid #dddddd'>[0.9664101034802385, 0.0335898965197615]</td><td style='border: 1px solid #dddddd'>250</td><td style='border: 1px solid #dddddd'>4371d63f-633c-424f-ae1f-c950ca3c757f-10</td><td style='border: 1px solid #dddddd'>2</td><td style='border: 1px solid #dddddd'>less_100</td><td style='border: 1px solid #dddddd'>2022-10-12T19:32:46.397Z</td><td style='border: 1px solid #dddddd'>0.9664101034802385</td><td style='border: 1px solid #dddddd'>[0.9664101034802385, 0.0335898965197615]</td><td style='border: 1px solid #dddddd'>0_to_200</td><td style='border: 1px solid #dddddd'>car_new</td><td style='border: 1px solid #dddddd'>0.9664101034802385</td><td style='border: 1px solid #dddddd'>management_self-employed</td><td style='border: 1px solid #dddddd'>none</td><td style='border: 1px solid #dddddd'>none</td><td style='border: 1px solid #dddddd'>4</td><td style='border: 1px solid #dddddd'>19</td><td style='border: 1px solid #dddddd'>all_credits_paid_back</td><td style='border: 1px solid #dddddd'>3</td><td style='border: 1px solid #dddddd'>yes</td><td style='border: 1px solid #dddddd'>rent</td><td style='border: 1px solid #dddddd'>1</td><td style='border: 1px solid #dddddd'>678b5e4bd49125eb6f446c72bdad0661</td><td style='border: 1px solid #dddddd'>none</td><td style='border: 1px solid #dddddd'>No Risk</td><td style='border: 1px solid #dddddd'>female</td><td style='border: 1px solid #dddddd'>1</td><td style='border: 1px solid #dddddd'>real_estate</td><td style='border: 1px solid #dddddd'>less_1</td><td style='border: 1px solid #dddddd'>No Risk</td></tr><tr><td style='border: 1px solid #dddddd'>None</td><td style='border: 1px solid #dddddd'>[0.9110579600819487, 0.0889420399180513]</td><td style='border: 1px solid #dddddd'>3782</td><td style='border: 1px solid #dddddd'>4371d63f-633c-424f-ae1f-c950ca3c757f-100</td><td style='border: 1px solid #dddddd'>4</td><td style='border: 1px solid #dddddd'>500_to_1000</td><td style='border: 1px solid #dddddd'>2022-10-12T19:32:46.397Z</td><td style='border: 1px solid #dddddd'>0.9110579600819487</td><td style='border: 1px solid #dddddd'>[0.9110579600819487, 0.0889420399180513]</td><td style='border: 1px solid #dddddd'>no_checking</td><td style='border: 1px solid #dddddd'>radio_tv</td><td style='border: 1px solid #dddddd'>0.9110579600819487</td><td style='border: 1px solid #dddddd'>skilled</td><td style='border: 1px solid #dddddd'>none</td><td style='border: 1px solid #dddddd'>none</td><td style='border: 1px solid #dddddd'>26</td><td style='border: 1px solid #dddddd'>45</td><td style='border: 1px solid #dddddd'>outstanding_credit</td><td style='border: 1px solid #dddddd'>3</td><td style='border: 1px solid #dddddd'>yes</td><td style='border: 1px solid #dddddd'>own</td><td style='border: 1px solid #dddddd'>1</td><td style='border: 1px solid #dddddd'>678b5e4bd49125eb6f446c72bdad0661</td><td style='border: 1px solid #dddddd'>yes</td><td style='border: 1px solid #dddddd'>Risk</td><td style='border: 1px solid #dddddd'>female</td><td style='border: 1px solid #dddddd'>2</td><td style='border: 1px solid #dddddd'>unknown</td><td style='border: 1px solid #dddddd'>4_to_7</td><td style='border: 1px solid #dddddd'>Risk</td></tr><tr><td style='border: 1px solid #dddddd'>None</td><td style='border: 1px solid #dddddd'>[0.929367649453932, 0.070632350546068]</td><td style='border: 1px solid #dddddd'>6913</td><td style='border: 1px solid #dddddd'>4371d63f-633c-424f-ae1f-c950ca3c757f-101</td><td style='border: 1px solid #dddddd'>4</td><td style='border: 1px solid #dddddd'>500_to_1000</td><td style='border: 1px solid #dddddd'>2022-10-12T19:32:46.397Z</td><td style='border: 1px solid #dddddd'>0.929367649453932</td><td style='border: 1px solid #dddddd'>[0.929367649453932, 0.070632350546068]</td><td style='border: 1px solid #dddddd'>no_checking</td><td style='border: 1px solid #dddddd'>car_used</td><td style='border: 1px solid #dddddd'>0.929367649453932</td><td style='border: 1px solid #dddddd'>unskilled</td><td style='border: 1px solid #dddddd'>stores</td><td style='border: 1px solid #dddddd'>co-applicant</td><td style='border: 1px solid #dddddd'>23</td><td style='border: 1px solid #dddddd'>30</td><td style='border: 1px solid #dddddd'>outstanding_credit</td><td style='border: 1px solid #dddddd'>5</td><td style='border: 1px solid #dddddd'>yes</td><td style='border: 1px solid #dddddd'>own</td><td style='border: 1px solid #dddddd'>2</td><td style='border: 1px solid #dddddd'>678b5e4bd49125eb6f446c72bdad0661</td><td style='border: 1px solid #dddddd'>yes</td><td style='border: 1px solid #dddddd'>Risk</td><td style='border: 1px solid #dddddd'>female</td><td style='border: 1px solid #dddddd'>2</td><td style='border: 1px solid #dddddd'>unknown</td><td style='border: 1px solid #dddddd'>4_to_7</td><td style='border: 1px solid #dddddd'>Risk</td></tr><tr><td style='border: 1px solid #dddddd'>None</td><td style='border: 1px solid #dddddd'>[0.7923102063870422, 0.2076897936129578]</td><td style='border: 1px solid #dddddd'>1288</td><td style='border: 1px solid #dddddd'>4371d63f-633c-424f-ae1f-c950ca3c757f-102</td><td style='border: 1px solid #dddddd'>3</td><td style='border: 1px solid #dddddd'>less_100</td><td style='border: 1px solid #dddddd'>2022-10-12T19:32:46.397Z</td><td style='border: 1px solid #dddddd'>0.7923102063870422</td><td style='border: 1px solid #dddddd'>[0.7923102063870422, 0.2076897936129578]</td><td style='border: 1px solid #dddddd'>less_0</td><td style='border: 1px solid #dddddd'>furniture</td><td style='border: 1px solid #dddddd'>0.7923102063870422</td><td style='border: 1px solid #dddddd'>skilled</td><td style='border: 1px solid #dddddd'>none</td><td style='border: 1px solid #dddddd'>none</td><td style='border: 1px solid #dddddd'>12</td><td style='border: 1px solid #dddddd'>34</td><td style='border: 1px solid #dddddd'>credits_paid_to_date</td><td style='border: 1px solid #dddddd'>3</td><td style='border: 1px solid #dddddd'>yes</td><td style='border: 1px solid #dddddd'>rent</td><td style='border: 1px solid #dddddd'>1</td><td style='border: 1px solid #dddddd'>678b5e4bd49125eb6f446c72bdad0661</td><td style='border: 1px solid #dddddd'>none</td><td style='border: 1px solid #dddddd'>No Risk</td><td style='border: 1px solid #dddddd'>female</td><td style='border: 1px solid #dddddd'>1</td><td style='border: 1px solid #dddddd'>car_other</td><td style='border: 1px solid #dddddd'>less_1</td><td style='border: 1px solid #dddddd'>No Risk</td></tr><tr><td style='border: 1px solid #dddddd'>None</td><td style='border: 1px solid #dddddd'>[0.8716361317530308, 0.1283638682469692]</td><td style='border: 1px solid #dddddd'>6654</td><td style='border: 1px solid #dddddd'>4371d63f-633c-424f-ae1f-c950ca3c757f-103</td><td style='border: 1px solid #dddddd'>3</td><td style='border: 1px solid #dddddd'>100_to_500</td><td style='border: 1px solid #dddddd'>2022-10-12T19:32:46.397Z</td><td style='border: 1px solid #dddddd'>0.8716361317530308</td><td style='border: 1px solid #dddddd'>[0.8716361317530308, 0.1283638682469692]</td><td style='border: 1px solid #dddddd'>no_checking</td><td style='border: 1px solid #dddddd'>car_used</td><td style='border: 1px solid #dddddd'>0.8716361317530308</td><td style='border: 1px solid #dddddd'>skilled</td><td style='border: 1px solid #dddddd'>none</td><td style='border: 1px solid #dddddd'>co-applicant</td><td style='border: 1px solid #dddddd'>30</td><td style='border: 1px solid #dddddd'>53</td><td style='border: 1px solid #dddddd'>prior_payments_delayed</td><td style='border: 1px solid #dddddd'>4</td><td style='border: 1px solid #dddddd'>yes</td><td style='border: 1px solid #dddddd'>free</td><td style='border: 1px solid #dddddd'>2</td><td style='border: 1px solid #dddddd'>678b5e4bd49125eb6f446c72bdad0661</td><td style='border: 1px solid #dddddd'>yes</td><td style='border: 1px solid #dddddd'>Risk</td><td style='border: 1px solid #dddddd'>female</td><td style='border: 1px solid #dddddd'>1</td><td style='border: 1px solid #dddddd'>car_other</td><td style='border: 1px solid #dddddd'>1_to_4</td><td style='border: 1px solid #dddddd'>Risk</td></tr><tr><td style='border: 1px solid #dddddd'>None</td><td style='border: 1px solid #dddddd'>[0.8846500762183824, 0.1153499237816176]</td><td style='border: 1px solid #dddddd'>1056</td><td style='border: 1px solid #dddddd'>4371d63f-633c-424f-ae1f-c950ca3c757f-104</td><td style='border: 1px solid #dddddd'>2</td><td style='border: 1px solid #dddddd'>less_100</td><td style='border: 1px solid #dddddd'>2022-10-12T19:32:46.397Z</td><td style='border: 1px solid #dddddd'>0.8846500762183824</td><td style='border: 1px solid #dddddd'>[0.8846500762183824, 0.1153499237816176]</td><td style='border: 1px solid #dddddd'>less_0</td><td style='border: 1px solid #dddddd'>car_used</td><td style='border: 1px solid #dddddd'>0.8846500762183824</td><td style='border: 1px solid #dddddd'>skilled</td><td style='border: 1px solid #dddddd'>stores</td><td style='border: 1px solid #dddddd'>none</td><td style='border: 1px solid #dddddd'>12</td><td style='border: 1px solid #dddddd'>39</td><td style='border: 1px solid #dddddd'>prior_payments_delayed</td><td style='border: 1px solid #dddddd'>2</td><td style='border: 1px solid #dddddd'>yes</td><td style='border: 1px solid #dddddd'>own</td><td style='border: 1px solid #dddddd'>2</td><td style='border: 1px solid #dddddd'>678b5e4bd49125eb6f446c72bdad0661</td><td style='border: 1px solid #dddddd'>none</td><td style='border: 1px solid #dddddd'>No Risk</td><td style='border: 1px solid #dddddd'>male</td><td style='border: 1px solid #dddddd'>1</td><td style='border: 1px solid #dddddd'>car_other</td><td style='border: 1px solid #dddddd'>4_to_7</td><td style='border: 1px solid #dddddd'>No Risk</td></tr><tr><td style='border: 1px solid #dddddd'>None</td><td style='border: 1px solid #dddddd'>[0.8402308706083724, 0.1597691293916276]</td><td style='border: 1px solid #dddddd'>250</td><td style='border: 1px solid #dddddd'>4371d63f-633c-424f-ae1f-c950ca3c757f-105</td><td style='border: 1px solid #dddddd'>2</td><td style='border: 1px solid #dddddd'>less_100</td><td style='border: 1px solid #dddddd'>2022-10-12T19:32:46.397Z</td><td style='border: 1px solid #dddddd'>0.8402308706083724</td><td style='border: 1px solid #dddddd'>[0.8402308706083724, 0.1597691293916276]</td><td style='border: 1px solid #dddddd'>less_0</td><td style='border: 1px solid #dddddd'>car_used</td><td style='border: 1px solid #dddddd'>0.8402308706083724</td><td style='border: 1px solid #dddddd'>skilled</td><td style='border: 1px solid #dddddd'>none</td><td style='border: 1px solid #dddddd'>none</td><td style='border: 1px solid #dddddd'>14</td><td style='border: 1px solid #dddddd'>23</td><td style='border: 1px solid #dddddd'>all_credits_paid_back</td><td style='border: 1px solid #dddddd'>3</td><td style='border: 1px solid #dddddd'>yes</td><td style='border: 1px solid #dddddd'>own</td><td style='border: 1px solid #dddddd'>1</td><td style='border: 1px solid #dddddd'>678b5e4bd49125eb6f446c72bdad0661</td><td style='border: 1px solid #dddddd'>none</td><td style='border: 1px solid #dddddd'>No Risk</td><td style='border: 1px solid #dddddd'>female</td><td style='border: 1px solid #dddddd'>1</td><td style='border: 1px solid #dddddd'>savings_insurance</td><td style='border: 1px solid #dddddd'>1_to_4</td><td style='border: 1px solid #dddddd'>No Risk</td></tr><tr><td style='border: 1px solid #dddddd'>None</td><td style='border: 1px solid #dddddd'>[0.9896689166300867, 0.0103310833699133]</td><td style='border: 1px solid #dddddd'>1895</td><td style='border: 1px solid #dddddd'>4371d63f-633c-424f-ae1f-c950ca3c757f-106</td><td style='border: 1px solid #dddddd'>2</td><td style='border: 1px solid #dddddd'>less_100</td><td style='border: 1px solid #dddddd'>2022-10-12T19:32:46.397Z</td><td style='border: 1px solid #dddddd'>0.9896689166300867</td><td style='border: 1px solid #dddddd'>[0.9896689166300867, 0.0103310833699133]</td><td style='border: 1px solid #dddddd'>less_0</td><td style='border: 1px solid #dddddd'>car_used</td><td style='border: 1px solid #dddddd'>0.9896689166300867</td><td style='border: 1px solid #dddddd'>unskilled</td><td style='border: 1px solid #dddddd'>stores</td><td style='border: 1px solid #dddddd'>none</td><td style='border: 1px solid #dddddd'>8</td><td style='border: 1px solid #dddddd'>39</td><td style='border: 1px solid #dddddd'>all_credits_paid_back</td><td style='border: 1px solid #dddddd'>2</td><td style='border: 1px solid #dddddd'>yes</td><td style='border: 1px solid #dddddd'>own</td><td style='border: 1px solid #dddddd'>1</td><td style='border: 1px solid #dddddd'>678b5e4bd49125eb6f446c72bdad0661</td><td style='border: 1px solid #dddddd'>none</td><td style='border: 1px solid #dddddd'>No Risk</td><td style='border: 1px solid #dddddd'>female</td><td style='border: 1px solid #dddddd'>1</td><td style='border: 1px solid #dddddd'>real_estate</td><td style='border: 1px solid #dddddd'>less_1</td><td style='border: 1px solid #dddddd'>No Risk</td></tr><tr><td style='border: 1px solid #dddddd'>None</td><td style='border: 1px solid #dddddd'>[0.8713222200467455, 0.1286777799532545]</td><td style='border: 1px solid #dddddd'>7860</td><td style='border: 1px solid #dddddd'>4371d63f-633c-424f-ae1f-c950ca3c757f-107</td><td style='border: 1px solid #dddddd'>3</td><td style='border: 1px solid #dddddd'>100_to_500</td><td style='border: 1px solid #dddddd'>2022-10-12T19:32:46.397Z</td><td style='border: 1px solid #dddddd'>0.8713222200467455</td><td style='border: 1px solid #dddddd'>[0.8713222200467455, 0.1286777799532545]</td><td style='border: 1px solid #dddddd'>no_checking</td><td style='border: 1px solid #dddddd'>business</td><td style='border: 1px solid #dddddd'>0.8713222200467455</td><td style='border: 1px solid #dddddd'>management_self-employed</td><td style='border: 1px solid #dddddd'>none</td><td style='border: 1px solid #dddddd'>none</td><td style='border: 1px solid #dddddd'>28</td><td style='border: 1px solid #dddddd'>42</td><td style='border: 1px solid #dddddd'>prior_payments_delayed</td><td style='border: 1px solid #dddddd'>4</td><td style='border: 1px solid #dddddd'>yes</td><td style='border: 1px solid #dddddd'>own</td><td style='border: 1px solid #dddddd'>2</td><td style='border: 1px solid #dddddd'>678b5e4bd49125eb6f446c72bdad0661</td><td style='border: 1px solid #dddddd'>none</td><td style='border: 1px solid #dddddd'>No Risk</td><td style='border: 1px solid #dddddd'>male</td><td style='border: 1px solid #dddddd'>1</td><td style='border: 1px solid #dddddd'>savings_insurance</td><td style='border: 1px solid #dddddd'>1_to_4</td><td style='border: 1px solid #dddddd'>No Risk</td></tr>\n",
              "            </table>\n",
              "        </body>\n",
              "        </HTML>"
            ],
            "text/plain": [
              "<IPython.core.display.HTML object>"
            ]
          },
          "metadata": {},
          "output_type": "display_data"
        }
      ],
      "source": [
        "wos_client.data_sets.show_records(data_set_id=payload_data_set_id)"
      ]
    },
    {
      "cell_type": "markdown",
      "id": "f5e7068e-b33b-49e2-93ed-1abda42d2dee",
      "metadata": {
        "nteract": {
          "transient": {
            "deleting": false
          }
        }
      },
      "source": [
        "## Run explainations"
      ]
    },
    {
      "cell_type": "code",
      "execution_count": 75,
      "id": "5d02fa49-60fa-4f58-a6b8-b83917815a47",
      "metadata": {
        "gather": {
          "logged": 1665603222124
        },
        "jupyter": {
          "outputs_hidden": false,
          "source_hidden": false
        },
        "nteract": {
          "transient": {
            "deleting": false
          }
        }
      },
      "outputs": [
        {
          "name": "stdout",
          "output_type": "stream",
          "text": [
            "Running explanations on scoring IDs: ['4371d63f-633c-424f-ae1f-c950ca3c757f-1']\n",
            "{\n",
            "  \"metadata\": {\n",
            "    \"explanation_task_ids\": [\n",
            "      \"29874aba-cf2f-428a-92f0-227bade785c3\"\n",
            "    ],\n",
            "    \"created_by\": \"1000330999\",\n",
            "    \"created_at\": \"2022-10-12T19:33:40.743871Z\"\n",
            "  }\n",
            "}\n"
          ]
        },
        {
          "data": {
            "text/plain": [
              "'29874aba-cf2f-428a-92f0-227bade785c3'"
            ]
          },
          "execution_count": 75,
          "metadata": {},
          "output_type": "execute_result"
        }
      ],
      "source": [
        "pl_records_resp = wos_client.data_sets.get_list_of_records(data_set_id=payload_data_set_id, limit=1, offset=0).result\n",
        "scoring_ids = [pl_records_resp[\"records\"][0][\"entity\"][\"values\"][\"scoring_id\"]]\n",
        "print(\"Running explanations on scoring IDs: {}\".format(scoring_ids))\n",
        "explanation_types = [\"lime\", \"contrastive\"]\n",
        "result = wos_client.monitor_instances.explanation_tasks(scoring_ids=scoring_ids, explanation_types=explanation_types).result\n",
        "print(result)\n",
        "explanation_task_id=result.to_dict()['metadata']['explanation_task_ids'][0]\n",
        "explanation_task_id"
      ]
    },
    {
      "cell_type": "code",
      "execution_count": 76,
      "id": "e1820ab2-e5e6-4c95-95e6-f3822df9452f",
      "metadata": {
        "gather": {
          "logged": 1665603223474
        },
        "jupyter": {
          "outputs_hidden": false,
          "source_hidden": false
        },
        "nteract": {
          "transient": {
            "deleting": false
          }
        }
      },
      "outputs": [
        {
          "data": {
            "text/plain": [
              "{'metadata': {'explanation_task_id': '29874aba-cf2f-428a-92f0-227bade785c3',\n",
              "  'created_by': '1000330999',\n",
              "  'created_at': '2022-10-12T19:33:40.743871Z',\n",
              "  'updated_at': '2022-10-12T19:33:42.283767Z'},\n",
              " 'entity': {'status': {'state': 'in_progress'},\n",
              "  'asset': {'id': 'c7c1229c8e4d0b49b8bbdebb01fdbbba',\n",
              "   'name': 'credit-risk-model-azure',\n",
              "   'input_data_type': 'structured',\n",
              "   'problem_type': 'binary',\n",
              "   'deployment': {'id': '678b5e4bd49125eb6f446c72bdad0661',\n",
              "    'name': 'credit-risk-model-azure'}},\n",
              "  'scoring_id': '4371d63f-633c-424f-ae1f-c950ca3c757f-1'}}"
            ]
          },
          "execution_count": 76,
          "metadata": {},
          "output_type": "execute_result"
        }
      ],
      "source": [
        "wos_client.monitor_instances.get_explanation_tasks(explanation_task_id=explanation_task_id).result.to_dict()"
      ]
    },
    {
      "cell_type": "markdown",
      "id": "9643d80e-056e-477d-a623-d01554a6ee78",
      "metadata": {
        "nteract": {
          "transient": {
            "deleting": false
          }
        }
      },
      "source": [
        "## Historical Data"
      ]
    },
    {
      "cell_type": "code",
      "execution_count": 77,
      "id": "311cd87a-c488-4093-8a1c-47824417e24c",
      "metadata": {
        "gather": {
          "logged": 1665603223838
        },
        "jupyter": {
          "outputs_hidden": false,
          "source_hidden": false
        },
        "nteract": {
          "transient": {
            "deleting": false
          }
        }
      },
      "outputs": [],
      "source": [
        "historyDays = 7"
      ]
    },
    {
      "cell_type": "code",
      "execution_count": 78,
      "id": "23d94158-bba1-48ff-b593-de63f85bfc2f",
      "metadata": {
        "gather": {
          "logged": 1665603224219
        },
        "jupyter": {
          "outputs_hidden": false,
          "source_hidden": false
        },
        "nteract": {
          "transient": {
            "deleting": false
          }
        }
      },
      "outputs": [],
      "source": [
        "!rm history_fairness_v2.json\n",
        "with io.capture_output() as captured:\n",
        "    !wget https://raw.githubusercontent.com/IBM/watson-openscale-samples/main/IBM%20Cloud/WML/assets/data/historical_data/credit_risk/history_fairness_v2.json\n",
        "!ls -lh history_fairness_v2.json"
      ]
    },
    {
      "cell_type": "code",
      "execution_count": 79,
      "id": "4e752202-8e32-4e92-84fc-2822a6fedc2c",
      "metadata": {
        "gather": {
          "logged": 1665603226875
        },
        "jupyter": {
          "outputs_hidden": false,
          "source_hidden": false
        },
        "nteract": {
          "transient": {
            "deleting": false
          }
        }
      },
      "outputs": [
        {
          "name": "stdout",
          "output_type": "stream",
          "text": [
            "Loading day 1\n",
            "Loading day 2\n",
            "Loading day 3\n",
            "Loading day 4\n",
            "Loading day 5\n",
            "Loading day 6\n",
            "Loading day 7\n",
            "Finished\n"
          ]
        }
      ],
      "source": [
        "from datetime import datetime, timedelta, timezone\n",
        "\n",
        "from ibm_watson_openscale.base_classes.watson_open_scale_v2 import Source\n",
        "from ibm_watson_openscale.base_classes.watson_open_scale_v2 import Measurements\n",
        "with open(\"history_fairness_v2.json\") as f:\n",
        "    fairness_values = json.load(f)\n",
        "    for day in range(historyDays):\n",
        "        print('Loading day', day + 1)\n",
        "        daily_measurement_requests = []\n",
        "        sources_list = []\n",
        "        for hour in range(24):\n",
        "            score_time = (datetime.now(timezone.utc) + timedelta(hours=(-(24*day + hour + 1)))).strftime('%Y-%m-%dT%H:%M:%SZ')\n",
        "            index = (day * 24 + hour) % len(fairness_values) # wrap around and reuse values if needed\n",
        "            fairness_values[index][\"timestamp\"] = score_time\n",
        "            #print(score_time) \n",
        "            fairness_value = fairness_values[index]\n",
        "            metrics_list = fairness_value[\"metrics\"]\n",
        "            sources = fairness_value[\"sources\"]\n",
        "            sources_list = []\n",
        "            for source in sources:\n",
        "                source_id = source[\"id\"]\n",
        "                source_type = source[\"type\"]\n",
        "                source_data = source[\"data\"]\n",
        "                if source_id == \"bias_detection_summary\":\n",
        "                    source_data[\"evaluated_at\"] = score_time\n",
        "                    source_data[\"favourable_class\"] = [\"No Risk\"]\n",
        "                    source_data[\"unfavourable_class\"] = [\"Risk\"]\n",
        "                    source_data[\"score_type\"] = \"disparate impact\"\n",
        "                sources_list.append(\n",
        "                    Source(\n",
        "                        id=source_id,\n",
        "                        type=source_type,\n",
        "                        data=source_data\n",
        "                    )\n",
        "                )  \n",
        "            measurement_request = MonitorMeasurementRequest(metrics=metrics_list, sources=sources_list, timestamp=score_time)\n",
        "            daily_measurement_requests.append(measurement_request)\n",
        "        measurements_client = Measurements(wos_client)\n",
        "        measurements_client.add(monitor_instance_id=fairness_monitor_instance_id, monitor_measurement_request=daily_measurement_requests)     \n",
        "print('Finished')"
      ]
    },
    {
      "cell_type": "markdown",
      "id": "81da3455-9e40-4293-9302-5f8ba9802f23",
      "metadata": {
        "nteract": {
          "transient": {
            "deleting": false
          }
        }
      },
      "source": [
        "## Insert historical debias metrics"
      ]
    },
    {
      "cell_type": "code",
      "execution_count": 80,
      "id": "79ca743a-e208-499e-be3b-044a1a91741a",
      "metadata": {
        "gather": {
          "logged": 1665603227288
        },
        "jupyter": {
          "outputs_hidden": false,
          "source_hidden": false
        },
        "nteract": {
          "transient": {
            "deleting": false
          }
        }
      },
      "outputs": [],
      "source": [
        "!rm history_debias_v2.json\n",
        "with io.capture_output() as captured:\n",
        "    !wget https://raw.githubusercontent.com/IBM/watson-openscale-samples/main/IBM%20Cloud/WML/assets/data/historical_data/credit_risk/history_debias_v2.json\n",
        "!ls -lh history_debias_v2.json"
      ]
    },
    {
      "cell_type": "code",
      "execution_count": 81,
      "id": "690f06b5-44ff-4a71-8f24-7ae25377383e",
      "metadata": {
        "gather": {
          "logged": 1665603230476
        },
        "jupyter": {
          "outputs_hidden": false,
          "source_hidden": false
        },
        "nteract": {
          "transient": {
            "deleting": false
          }
        }
      },
      "outputs": [
        {
          "name": "stdout",
          "output_type": "stream",
          "text": [
            "Loading day 1\n",
            "Loading day 2\n",
            "Loading day 3\n",
            "Loading day 4\n",
            "Loading day 5\n",
            "Loading day 6\n",
            "Loading day 7\n",
            "Finished\n"
          ]
        }
      ],
      "source": [
        "with open(\"history_debias_v2.json\") as f:\n",
        "    debias_values = json.load(f)\n",
        "    for day in range(historyDays):\n",
        "        print('Loading day', day + 1)\n",
        "        daily_measurement_requests = []\n",
        "        sources_list = []\n",
        "        for hour in range(24):\n",
        "            score_time = (datetime.now(timezone.utc) + timedelta(hours=(-(24*day + hour + 1)))).strftime('%Y-%m-%dT%H:%M:%SZ')\n",
        "            index = (day * 24 + hour) % len(debias_values) # wrap around and reuse values if needed\n",
        "            debias_values[index][\"timestamp\"] = score_time\n",
        "            debias_value = debias_values[index]\n",
        "            metrics_list = debias_value[\"metrics\"]\n",
        "            sources = debias_value[\"sources\"]\n",
        "            sources_list = []\n",
        "            for source in sources:\n",
        "                sources_list.append(\n",
        "                    Source(\n",
        "                        id=source[\"id\"],\n",
        "                        type=source[\"type\"],\n",
        "                        data=source[\"data\"]\n",
        "                    )\n",
        "                )  \n",
        "            measurement_request = MonitorMeasurementRequest(metrics=metrics_list, sources=sources_list, timestamp=score_time)\n",
        "            daily_measurement_requests.append(measurement_request)\n",
        "        measurements_client = Measurements(wos_client)\n",
        "        measurements_client.add(monitor_instance_id=fairness_monitor_instance_id, monitor_measurement_request=daily_measurement_requests)         \n",
        "\n",
        "print('Finished')"
      ]
    },
    {
      "cell_type": "markdown",
      "id": "05a49b89-ef7f-4730-9231-6abdeedc092e",
      "metadata": {
        "nteract": {
          "transient": {
            "deleting": false
          }
        }
      },
      "source": [
        "## Insert historical quality metrics"
      ]
    },
    {
      "cell_type": "code",
      "execution_count": 82,
      "id": "274fd773-6eb4-4cfa-acba-5d1b47fe1d30",
      "metadata": {
        "gather": {
          "logged": 1665603232141
        },
        "jupyter": {
          "outputs_hidden": false,
          "source_hidden": false
        },
        "nteract": {
          "transient": {
            "deleting": false
          }
        }
      },
      "outputs": [
        {
          "name": "stdout",
          "output_type": "stream",
          "text": [
            "Loading day 1\n",
            "Loading day 2\n",
            "Loading day 3\n",
            "Loading day 4\n",
            "Loading day 5\n",
            "Loading day 6\n",
            "Loading day 7\n",
            "Finished\n"
          ]
        }
      ],
      "source": [
        "measurements = [0.76, 0.78, 0.68, 0.72, 0.73, 0.77, 0.80]\n",
        "for day in range(historyDays):\n",
        "    quality_measurement_requests = []\n",
        "    print('Loading day', day + 1)\n",
        "    for hour in range(24):\n",
        "        score_time = datetime.utcnow() + timedelta(hours=(-(24*day + hour + 1)))\n",
        "        score_time = score_time.isoformat() + \"Z\"\n",
        "        \n",
        "        metric = {\"area_under_roc\": measurements[day]}\n",
        "                \n",
        "        measurement_request = MonitorMeasurementRequest(timestamp=score_time,metrics = [metric])\n",
        "        quality_measurement_requests.append(measurement_request)\n",
        "        \n",
        "        \n",
        "    response = wos_client.monitor_instances.measurements.add(\n",
        "                                            monitor_instance_id=quality_monitor_instance_id,\n",
        "                                            monitor_measurement_request=quality_measurement_requests).result    \n",
        "    \n",
        "print('Finished')"
      ]
    },
    {
      "cell_type": "markdown",
      "id": "36ee2842-74b6-4090-b9ce-9c70e917e3f6",
      "metadata": {
        "nteract": {
          "transient": {
            "deleting": false
          }
        }
      },
      "source": [
        "## Insert historical confusion matrixes"
      ]
    },
    {
      "cell_type": "code",
      "execution_count": 83,
      "id": "dc0dc012-4fd9-4e80-ad9e-ae46451d0f18",
      "metadata": {
        "gather": {
          "logged": 1665603232474
        },
        "jupyter": {
          "outputs_hidden": false,
          "source_hidden": false
        },
        "nteract": {
          "transient": {
            "deleting": false
          }
        }
      },
      "outputs": [],
      "source": [
        "!rm history_quality_metrics.json\n",
        "with io.capture_output() as captured:\n",
        "    !wget https://raw.githubusercontent.com/IBM/watson-openscale-samples/main/IBM%20Cloud/WML/assets/data/historical_data/credit_risk/history_quality_metrics.json\n",
        "!ls -lh history_quality_metrics.json"
      ]
    },
    {
      "cell_type": "code",
      "execution_count": 84,
      "id": "6d458275-e8b6-4575-88ac-05f9a41b8a4b",
      "metadata": {
        "gather": {
          "logged": 1665603234432
        },
        "jupyter": {
          "outputs_hidden": false,
          "source_hidden": false
        },
        "nteract": {
          "transient": {
            "deleting": false
          }
        }
      },
      "outputs": [
        {
          "name": "stdout",
          "output_type": "stream",
          "text": [
            "Loading day 1\n",
            "Loading day 2\n",
            "Loading day 3\n",
            "Loading day 4\n",
            "Loading day 5\n",
            "Loading day 6\n",
            "Loading day 7\n",
            "Finished\n"
          ]
        }
      ],
      "source": [
        "from ibm_watson_openscale.base_classes.watson_open_scale_v2 import Source\n",
        "\n",
        "with open('history_quality_metrics.json') as json_file:\n",
        "    records = json.load(json_file)\n",
        "    \n",
        "for day in range(historyDays):\n",
        "    index = 0\n",
        "    cm_measurement_requests = []\n",
        "    print('Loading day', day + 1)\n",
        "    \n",
        "    for hour in range(24):\n",
        "        score_time = datetime.utcnow() + timedelta(hours=(-(24*day + hour + 1)))\n",
        "        score_time = score_time.isoformat() + \"Z\"\n",
        "\n",
        "        metric = records[index]['metrics']\n",
        "        source = records[index]['sources']\n",
        "\n",
        "        \n",
        "        measurement_request = {\"timestamp\": score_time, \"metrics\": [metric], \"sources\": [source]}\n",
        "        cm_measurement_requests.append(measurement_request)\n",
        "\n",
        "        index+=1\n",
        "\n",
        "    response = wos_client.monitor_instances.measurements.add(monitor_instance_id=quality_monitor_instance_id, monitor_measurement_request=cm_measurement_requests).result    \n",
        "\n",
        "print('Finished')"
      ]
    },
    {
      "cell_type": "markdown",
      "id": "231dee19-e643-4f58-bf98-758b29a96938",
      "metadata": {
        "nteract": {
          "transient": {
            "deleting": false
          }
        }
      },
      "source": [
        "## Insert historical performance metrics"
      ]
    },
    {
      "cell_type": "code",
      "execution_count": 85,
      "id": "af819178-2ff8-4dc8-a926-dae31beb5b4b",
      "metadata": {
        "gather": {
          "logged": 1665603239814
        },
        "jupyter": {
          "outputs_hidden": false,
          "source_hidden": false
        },
        "nteract": {
          "transient": {
            "deleting": false
          }
        }
      },
      "outputs": [
        {
          "name": "stdout",
          "output_type": "stream",
          "text": [
            "\n",
            "\n",
            "===================================================================================\n",
            "\n",
            " Waiting for end of monitor instance creation 3e5512a1-73d1-4b68-a54f-1895179b7604 \n",
            "\n",
            "===================================================================================\n",
            "\n",
            "\n",
            "\n",
            "active\n",
            "\n",
            "---------------------------------------\n",
            " Monitor instance successfully created \n",
            "---------------------------------------\n",
            "\n",
            "\n"
          ]
        }
      ],
      "source": [
        "target = Target(\n",
        "        target_type=TargetTypes.INSTANCE,\n",
        "        target_id=payload_data_set_id\n",
        "    )\n",
        "\n",
        "\n",
        "performance_monitor_instance_details = wos_client.monitor_instances.create(\n",
        "            data_mart_id=data_mart_id,\n",
        "            background_mode=False,\n",
        "            monitor_definition_id=wos_client.monitor_definitions.MONITORS.PERFORMANCE.ID,\n",
        "            target=target\n",
        ").result\n",
        "performance_monitor_instance_id = performance_monitor_instance_details.metadata.id\n"
      ]
    },
    {
      "cell_type": "code",
      "execution_count": 86,
      "id": "cbbe22a5-4c48-46fe-adbf-ba16a86a2e1c",
      "metadata": {
        "gather": {
          "logged": 1665603241984
        },
        "jupyter": {
          "outputs_hidden": false,
          "source_hidden": false
        },
        "nteract": {
          "transient": {
            "deleting": false
          }
        }
      },
      "outputs": [
        {
          "name": "stdout",
          "output_type": "stream",
          "text": [
            "Loading day 1\n",
            "Loading day 2\n",
            "Loading day 3\n",
            "Loading day 4\n",
            "Loading day 5\n",
            "Loading day 6\n",
            "Loading day 7\n",
            "Finished\n"
          ]
        }
      ],
      "source": [
        "import random\n",
        "for day in range(historyDays):\n",
        "    performance_measurement_requests = []\n",
        "    print('Loading day', day + 1)\n",
        "    for hour in range(24):\n",
        "        score_time = datetime.utcnow() + timedelta(hours=(-(24*day + hour + 1)))\n",
        "        score_time = score_time.isoformat() + \"Z\"\n",
        "        score_count = random.randint(60, 600)\n",
        "        \n",
        "        metric = {\"record_count\": score_count, \"data_set_type\": \"scoring_payload\"}\n",
        "        \n",
        "        measurement_request = {\"timestamp\": score_time, \"metrics\": [metric]}\n",
        "        performance_measurement_requests.append(measurement_request)\n",
        "        \n",
        "    response = wos_client.monitor_instances.measurements.add(\n",
        "                                            monitor_instance_id=performance_monitor_instance_id,\n",
        "                                            monitor_measurement_request=performance_measurement_requests).result    \n",
        "\n",
        "print('Finished')"
      ]
    },
    {
      "cell_type": "markdown",
      "id": "da9ac6b7-50fc-46da-8955-e01fe6bb5f1b",
      "metadata": {
        "nteract": {
          "transient": {
            "deleting": false
          }
        }
      },
      "source": [
        "## Create a Drift Detection Model and Upload it in OpenScale"
      ]
    },
    {
      "cell_type": "markdown",
      "id": "ffe471d8-3639-4912-a958-9f8c9e2bf68a",
      "metadata": {
        "nteract": {
          "transient": {
            "deleting": false
          }
        }
      },
      "source": [
        "Access the [Drift-Detection-Model.ipynb](Drift-Detection-Model.ipynb) Notebook to train a Drift Detection model and download it. Once Downloaded you will have to upload the model in the OpenScale Dashboard."
      ]
    },
    {
      "cell_type": "markdown",
      "id": "2e2d2ff1-01c1-4c04-af18-bc6ce345670f",
      "metadata": {
        "nteract": {
          "transient": {
            "deleting": false
          }
        }
      },
      "source": [
        "## Insert historical drift measurements"
      ]
    },
    {
      "cell_type": "code",
      "execution_count": null,
      "id": "e025a3ae-5880-4845-93d1-6431c3749db8",
      "metadata": {
        "gather": {
          "logged": 1665577540878
        },
        "jupyter": {
          "outputs_hidden": false,
          "source_hidden": false
        },
        "nteract": {
          "transient": {
            "deleting": false
          }
        }
      },
      "outputs": [],
      "source": [
        "with io.capture_output() as captured:\n",
        "    !wget https://raw.githubusercontent.com/IBM/watson-openscale-samples/main/IBM%20Cloud/WML/assets/data/historical_data/credit_risk/history_drift_measurement_0.json\n",
        "    !wget https://raw.githubusercontent.com/IBM/watson-openscale-samples/main/IBM%20Cloud/WML/assets/data/historical_data/credit_risk/history_drift_measurement_1.json\n",
        "    !wget https://raw.githubusercontent.com/IBM/watson-openscale-samples/main/IBM%20Cloud/WML/assets/data/historical_data/credit_risk/history_drift_measurement_2.json\n",
        "    !wget https://raw.githubusercontent.com/IBM/watson-openscale-samples/main/IBM%20Cloud/WML/assets/data/historical_data/credit_risk/history_drift_measurement_3.json\n",
        "    !wget https://raw.githubusercontent.com/IBM/watson-openscale-samples/main/IBM%20Cloud/WML/assets/data/historical_data/credit_risk/history_drift_measurement_4.json\n",
        "    !wget https://raw.githubusercontent.com/IBM/watson-openscale-samples/main/IBM%20Cloud/WML/assets/data/historical_data/credit_risk/history_drift_measurement_5.json\n",
        "    !wget https://raw.githubusercontent.com/IBM/watson-openscale-samples/main/IBM%20Cloud/WML/assets/data/historical_data/credit_risk/history_drift_measurement_6.json\n",
        "!ls -lh history_drift_measurement_*.json"
      ]
    },
    {
      "cell_type": "code",
      "execution_count": 87,
      "id": "adf16cfc-d77a-421a-95fe-c0513cde1caf",
      "metadata": {
        "gather": {
          "logged": 1665603328193
        },
        "jupyter": {
          "outputs_hidden": false,
          "source_hidden": false
        },
        "nteract": {
          "transient": {
            "deleting": false
          }
        }
      },
      "outputs": [
        {
          "data": {
            "text/html": [
              "<HTML>\n",
              "        <body>\n",
              "            <h3>Monitor instances</h3>\n",
              "            <table style='border: 1px solid #dddddd; font-family: Courier'>\n",
              "                <th style='border: 1px solid #dddddd'>data_mart_id</th><th style='border: 1px solid #dddddd'>status</th><th style='border: 1px solid #dddddd'>target_id</th><th style='border: 1px solid #dddddd'>target_type</th><th style='border: 1px solid #dddddd'>monitor_definition_id</th><th style='border: 1px solid #dddddd'>created_at</th><th style='border: 1px solid #dddddd'>id</th>\n",
              "                <tr><td style='border: 1px solid #dddddd'>00000000-0000-0000-0000-000000000000</td><td style='border: 1px solid #dddddd'>active</td><td style='border: 1px solid #dddddd'>bcb5d10c-644e-46ca-8701-2dea3414982e</td><td style='border: 1px solid #dddddd'>subscription</td><td style='border: 1px solid #dddddd'>drift</td><td style='border: 1px solid #dddddd'>2022-10-12 19:32:41.031000+00:00</td><td style='border: 1px solid #dddddd'>30f02a66-f960-4c18-8e81-279d03963e40</td></tr><tr><td style='border: 1px solid #dddddd'>00000000-0000-0000-0000-000000000000</td><td style='border: 1px solid #dddddd'>active</td><td style='border: 1px solid #dddddd'>bcb5d10c-644e-46ca-8701-2dea3414982e</td><td style='border: 1px solid #dddddd'>subscription</td><td style='border: 1px solid #dddddd'>mrm</td><td style='border: 1px solid #dddddd'>2022-10-12 19:34:09.733000+00:00</td><td style='border: 1px solid #dddddd'>f2f89ef8-a1ec-4ae7-9e27-81b98b356e52</td></tr><tr><td style='border: 1px solid #dddddd'>00000000-0000-0000-0000-000000000000</td><td style='border: 1px solid #dddddd'>active</td><td style='border: 1px solid #dddddd'>4535e86f-b44e-4251-80a1-2822da6af8bd</td><td style='border: 1px solid #dddddd'>instance</td><td style='border: 1px solid #dddddd'>performance</td><td style='border: 1px solid #dddddd'>2022-10-12 19:33:54.455000+00:00</td><td style='border: 1px solid #dddddd'>3e5512a1-73d1-4b68-a54f-1895179b7604</td></tr><tr><td style='border: 1px solid #dddddd'>00000000-0000-0000-0000-000000000000</td><td style='border: 1px solid #dddddd'>active</td><td style='border: 1px solid #dddddd'>bcb5d10c-644e-46ca-8701-2dea3414982e</td><td style='border: 1px solid #dddddd'>subscription</td><td style='border: 1px solid #dddddd'>explainability</td><td style='border: 1px solid #dddddd'>2022-10-12 19:33:35.147000+00:00</td><td style='border: 1px solid #dddddd'>74eab88e-f6ba-4356-883d-9779b2873b48</td></tr><tr><td style='border: 1px solid #dddddd'>00000000-0000-0000-0000-000000000000</td><td style='border: 1px solid #dddddd'>active</td><td style='border: 1px solid #dddddd'>bcb5d10c-644e-46ca-8701-2dea3414982e</td><td style='border: 1px solid #dddddd'>subscription</td><td style='border: 1px solid #dddddd'>fairness</td><td style='border: 1px solid #dddddd'>2022-10-12 19:32:34.774000+00:00</td><td style='border: 1px solid #dddddd'>eeca6120-7fce-4173-904c-77ca5c7f7c83</td></tr><tr><td style='border: 1px solid #dddddd'>00000000-0000-0000-0000-000000000000</td><td style='border: 1px solid #dddddd'>active</td><td style='border: 1px solid #dddddd'>bcb5d10c-644e-46ca-8701-2dea3414982e</td><td style='border: 1px solid #dddddd'>subscription</td><td style='border: 1px solid #dddddd'>quality</td><td style='border: 1px solid #dddddd'>2022-10-12 19:32:05.212000+00:00</td><td style='border: 1px solid #dddddd'>dbaa2dff-9c95-4a79-bfc0-08c29fdd67d0</td></tr><tr><td style='border: 1px solid #dddddd'>00000000-0000-0000-0000-000000000000</td><td style='border: 1px solid #dddddd'>active</td><td style='border: 1px solid #dddddd'>ca600f59-ba9b-47c1-a2b8-6aab6bcdc2a1</td><td style='border: 1px solid #dddddd'>subscription</td><td style='border: 1px solid #dddddd'>fairness</td><td style='border: 1px solid #dddddd'>2022-10-10 08:17:18.613000+00:00</td><td style='border: 1px solid #dddddd'>4929b2f9-6cc3-45b5-924b-9258a8438e5f</td></tr><tr><td style='border: 1px solid #dddddd'>00000000-0000-0000-0000-000000000000</td><td style='border: 1px solid #dddddd'>active</td><td style='border: 1px solid #dddddd'>ca600f59-ba9b-47c1-a2b8-6aab6bcdc2a1</td><td style='border: 1px solid #dddddd'>subscription</td><td style='border: 1px solid #dddddd'>drift</td><td style='border: 1px solid #dddddd'>2022-10-10 11:22:10.956000+00:00</td><td style='border: 1px solid #dddddd'>9711c84c-0084-4073-a2e1-a45c1fd4de5a</td></tr><tr><td style='border: 1px solid #dddddd'>00000000-0000-0000-0000-000000000000</td><td style='border: 1px solid #dddddd'>active</td><td style='border: 1px solid #dddddd'>dff28f4a-6a58-483c-bd17-583c3e9ddec9</td><td style='border: 1px solid #dddddd'>instance</td><td style='border: 1px solid #dddddd'>performance</td><td style='border: 1px solid #dddddd'>2022-10-12 12:06:21.282000+00:00</td><td style='border: 1px solid #dddddd'>b733e84f-8e9f-4d8e-a26d-564cfd52865c</td></tr><tr><td style='border: 1px solid #dddddd'>00000000-0000-0000-0000-000000000000</td><td style='border: 1px solid #dddddd'>active</td><td style='border: 1px solid #dddddd'>deb38751-958a-487a-b473-37c027d41796</td><td style='border: 1px solid #dddddd'>subscription</td><td style='border: 1px solid #dddddd'>mrm</td><td style='border: 1px solid #dddddd'>2022-10-10 12:08:47.171000+00:00</td><td style='border: 1px solid #dddddd'>e70a055d-2d92-468c-a0de-d5a8104479d7</td></tr>\n",
              "            </table>\n",
              "        </body>\n",
              "        </HTML>"
            ],
            "text/plain": [
              "<IPython.core.display.HTML object>"
            ]
          },
          "metadata": {},
          "output_type": "display_data"
        },
        {
          "name": "stdout",
          "output_type": "stream",
          "text": [
            "Note: First 10 records were displayed.\n"
          ]
        }
      ],
      "source": [
        "wos_client.monitor_instances.show()"
      ]
    },
    {
      "cell_type": "code",
      "execution_count": 88,
      "id": "99eb4f3e-39c5-417f-a00b-3dba6b944064",
      "metadata": {
        "gather": {
          "logged": 1665603344790
        },
        "jupyter": {
          "outputs_hidden": false,
          "source_hidden": false
        },
        "nteract": {
          "transient": {
            "deleting": false
          }
        }
      },
      "outputs": [],
      "source": [
        "# Insert the drift detection monitor instance id from the table output above\n",
        "drift_monitor_instance_id = \"30f02a66-f960-4c18-8e81-279d03963e40\""
      ]
    },
    {
      "cell_type": "code",
      "execution_count": 89,
      "id": "2b17ef63-e9fe-4d09-82b3-752a85f33933",
      "metadata": {
        "gather": {
          "logged": 1665603349500
        },
        "jupyter": {
          "outputs_hidden": false,
          "source_hidden": false
        },
        "nteract": {
          "transient": {
            "deleting": false
          }
        }
      },
      "outputs": [
        {
          "name": "stdout",
          "output_type": "stream",
          "text": [
            "Loading day 1\n",
            "Daily loading finished.\n",
            "Loading day 2\n",
            "Daily loading finished.\n",
            "Loading day 3\n",
            "Daily loading finished.\n",
            "Loading day 4\n",
            "Daily loading finished.\n",
            "Loading day 5\n",
            "Daily loading finished.\n",
            "Loading day 6\n",
            "Daily loading finished.\n",
            "Loading day 7\n",
            "Daily loading finished.\n"
          ]
        }
      ],
      "source": [
        "for day in range(historyDays):\n",
        "    drift_measurements = []\n",
        "\n",
        "    with open(\"history_drift_measurement_{}.json\".format(day), 'r') as history_file:\n",
        "        drift_daily_measurements = json.load(history_file)\n",
        "    print('Loading day', day + 1)\n",
        "\n",
        "    #Historical data contains 8 records per day - each represents 3 hour drift window.\n",
        "    \n",
        "    for nb_window, records in enumerate(drift_daily_measurements):\n",
        "        for record in records:\n",
        "            window_start =  datetime.utcnow() + timedelta(hours=(-(24 * day + (nb_window+1)*3 + 1))) # first_payload_record_timestamp_in_window (oldest)\n",
        "            window_end = datetime.utcnow() + timedelta(hours=(-(24 * day + nb_window*3 + 1)))# last_payload_record_timestamp_in_window (most recent)\n",
        "            #modify start and end time for each record\n",
        "            record['sources'][0]['data']['start'] = window_start.isoformat() + \"Z\"\n",
        "            record['sources'][0]['data']['end'] = window_end.isoformat() + \"Z\"\n",
        "            \n",
        "            \n",
        "            metric = record['metrics'][0]\n",
        "            source = record['sources'][0]\n",
        "\n",
        "            measurement_request = {\"timestamp\": window_start.isoformat() + \"Z\", \"metrics\": [metric], \"sources\": [source]}\n",
        "            \n",
        "            drift_measurements.append(measurement_request)\n",
        "        \n",
        "    response = wos_client.monitor_instances.measurements.add(\n",
        "                                            monitor_instance_id=drift_monitor_instance_id,\n",
        "                                            monitor_measurement_request=drift_measurements).result    \n",
        "\n",
        "    \n",
        "    print(\"Daily loading finished.\")"
      ]
    },
    {
      "cell_type": "markdown",
      "id": "014440c0-c256-44a5-ad86-9c4266344491",
      "metadata": {
        "nteract": {
          "transient": {
            "deleting": false
          }
        }
      },
      "source": [
        "## Additional data to help debugging\n"
      ]
    },
    {
      "cell_type": "code",
      "execution_count": null,
      "id": "7af25111-7bab-4520-9827-5a49b98cdd80",
      "metadata": {
        "gather": {
          "logged": 1665603351886
        },
        "jupyter": {
          "outputs_hidden": false,
          "source_hidden": false
        },
        "nteract": {
          "transient": {
            "deleting": false
          }
        }
      },
      "outputs": [],
      "source": [
        "# print('IBM Cloud API Key:', CLOUD_API_KEY)\n",
        "print('Datamart:', data_mart_id)\n",
        "print('Subscription:', subscription_id)\n",
        "# print('Model:', model_uid)\n",
        "# print('Deployment:', deployment_uid)"
      ]
    },
    {
      "cell_type": "markdown",
      "id": "c25cfc93-4e85-4642-b6ba-42e695bfc1b8",
      "metadata": {
        "nteract": {
          "transient": {
            "deleting": false
          }
        }
      },
      "source": [
        "## Congratulations!"
      ]
    },
    {
      "cell_type": "markdown",
      "id": "7b96cd62-2000-4471-bf0c-dda087d04264",
      "metadata": {
        "nteract": {
          "transient": {
            "deleting": false
          }
        }
      },
      "source": [
        "You have finished the tutorial for IBM Watson OpenScale and Azure Machine Learning Studio. You can now view the [OpenScale Dashboard](https://aiopenscale.cloud.ibm.com/). Click on the tile for the German Credit model to see fairness, accuracy, and performance monitors. Click on the timeseries graph to get detailed information on transactions during a specific time window."
      ]
    }
  ],
  "metadata": {
    "kernel_info": {
      "name": "python3"
    },
    "kernelspec": {
      "display_name": "base",
      "language": "python",
      "name": "python3"
    },
    "language_info": {
      "codemirror_mode": {
        "name": "ipython",
        "version": 3
      },
      "file_extension": ".py",
      "mimetype": "text/x-python",
      "name": "python",
      "nbconvert_exporter": "python",
      "pygments_lexer": "ipython3",
      "version": "3.9.12 (main, Apr  5 2022, 01:53:17) \n[Clang 12.0.0 ]"
    },
    "microsoft": {
      "host": {
        "AzureML": {
          "notebookHasBeenCompleted": true
        }
      }
    },
    "nteract": {
      "version": "nteract-front-end@1.0.0"
    },
    "vscode": {
      "interpreter": {
        "hash": "585bc8b82cd750ad2deaae4685524d681d2554b89bf0cb39b5f9f3bb22201806"
      }
    }
  },
  "nbformat": 4,
  "nbformat_minor": 5
}
